{
 "cells": [
  {
   "cell_type": "code",
   "execution_count": 1,
   "metadata": {},
   "outputs": [],
   "source": [
    "import pyspark\n",
    "from pyspark import SparkContext\n",
    "from pyspark.sql import SQLContext\n",
    "from pyspark.sql import functions as F\n",
    "from pyspark.sql import types as T\n",
    "from pyspark.sql import Row\n",
    "from pyspark.sql.window import Window\n",
    "\n",
    "\n",
    "conf = pyspark.SparkConf()\n",
    "conf.setMaster(\"local\").setAppName(\"test\").set(\"spark.local.dir\", \"tmp/spark\")\n",
    "SparkContext.setSystemProperty('spark.driver.memory','16g')\n",
    "SparkContext.setSystemProperty('spark.executor.memory','16g')\n",
    "sc = pyspark.SparkContext(conf=conf)\n",
    "#SparkConf conf = new SparkConf().setMaster(\"local”).setAppName(\"test”).set(\"spark.local.dir\", \"/tmp/spark-temp\");\n",
    "\n",
    "#sc = SparkContext(\"local\", \"App Name\")\n",
    "spark = SQLContext(sc)"
   ]
  },
  {
   "cell_type": "code",
   "execution_count": 2,
   "metadata": {},
   "outputs": [],
   "source": [
    "#import Bert Token\n",
    "from transformers import BertTokenizer\n",
    "tokenizer = BertTokenizer.from_pretrained('bert-base-multilingual-cased', do_lower_case=False)\n",
    "\n",
    "@F.udf(\"String\")\n",
    "def decode_tokens(tokens):\n",
    "  return tokenizer.decode(tokens)"
   ]
  },
  {
   "cell_type": "code",
   "execution_count": 3,
   "metadata": {},
   "outputs": [],
   "source": [
    "#Initialize the type of the schema that the twitter data have\n",
    "#Create the fields that characterize the data\n",
    "fields = list()\n",
    "\n",
    "fields.append(T.StructField(\"text_tokens\",  T.StringType(), True))\n",
    "fields.append(T.StructField(\"hashtags\", T.StringType(), True))\n",
    "fields.append(T.StructField(\"tweet_id\", T.StringType(), True))\n",
    "fields.append(T.StructField(\"present_media\", T.StringType(), True))\n",
    "fields.append(T.StructField(\"present_links\", T.StringType(), True))\n",
    "fields.append(T.StructField(\"present_domains\", T.StringType(), True))\n",
    "fields.append(T.StructField(\"tweet_type\", T.StringType(), True))\n",
    "fields.append(T.StructField(\"language\", T.StringType(), True))\n",
    "fields.append(T.StructField(\"timestamp\", T.LongType(), True))\n",
    "fields.append(T.StructField(\"engager_user_id\", T.StringType(), True))\n",
    "fields.append(T.StructField(\"engager_follower_count\", T.LongType(), True))\n",
    "fields.append(T.StructField(\"engager_following_count\", T.LongType(), True))\n",
    "fields.append(T.StructField(\"engager_is_verified\", T.BooleanType(), True))\n",
    "fields.append(T.StructField(\"engager_account_creation_time\", T.LongType(), True))\n",
    "fields.append(T.StructField(\"engagee_user_id\", T.StringType(), True))\n",
    "fields.append(T.StructField(\"engagee_follower_count\", T.LongType(), True))\n",
    "fields.append(T.StructField(\"engagee_following_count\", T.LongType(), True))\n",
    "fields.append(T.StructField(\"engagee_is_verified\", T.BooleanType(), True))\n",
    "fields.append(T.StructField(\"engagee_account_creation_time\", T.LongType(), True))\n",
    "fields.append(T.StructField(\"engagee_follows_engager\", T.BooleanType(), True))\n",
    "fields.append(T.StructField(\"reply_engagement_timestamp\", T.LongType(), True))\n",
    "fields.append(T.StructField(\"retweet_engagement_timestamp\", T.LongType(), True))\n",
    "fields.append(T.StructField(\"retweet_with_comment_engagement_timestamp\", T.LongType(), True))\n",
    "fields.append(T.StructField(\"like_engagement_timestamp\", T.LongType(), True))\n",
    "\n",
    "#Create the final schema\n",
    "schema = T.StructType(fields)\n"
   ]
  },
  {
   "cell_type": "code",
   "execution_count": 4,
   "metadata": {},
   "outputs": [],
   "source": [
    "#add test path and read input data\n",
    "test_file_path = \"./test/part-*\"\n",
    "#create dataframe with the test dataset\n",
    "test_df = spark.read.option(\"sep\", chr(1)).schema(schema).csv(test_file_path)\n",
    "test_df = test_df.withColumn(\"text_tokens\", F.split(\"text_tokens\", \"\\t\"))\n",
    "test_df = test_df.withColumn(\"hashtags\", F.split(\"hashtags\", \"\\t\"))\n",
    "test_df = test_df.withColumn(\"present_media\", F.split(\"present_media\", \"\\t\"))\n",
    "test_df = test_df.withColumn(\"present_links\", F.split(\"present_links\", \"\\t\"))\n",
    "test_df = test_df.withColumn(\"present_domains\", F.split(\"present_domains\", \"\\t\"))"
   ]
  },
  {
   "cell_type": "code",
   "execution_count": 6,
   "metadata": {},
   "outputs": [
    {
     "data": {
      "text/plain": [
       "13949262"
      ]
     },
     "execution_count": 6,
     "metadata": {},
     "output_type": "execute_result"
    }
   ],
   "source": [
    "test_df.count()"
   ]
  },
  {
   "cell_type": "code",
   "execution_count": 6,
   "metadata": {},
   "outputs": [],
   "source": [
    "test_df_writing_parquet = \"test_parquet_files/test_df.parquet\"\n",
    "test_df.write.parquet(test_df_writing_parquet)"
   ]
  },
  {
   "cell_type": "code",
   "execution_count": 7,
   "metadata": {},
   "outputs": [],
   "source": [
    "read_test_parquet = \"test_parquet_files/test_df.parquet\"\n",
    "test_df =spark.read.parquet(read_test_parquet)"
   ]
  },
  {
   "cell_type": "code",
   "execution_count": 8,
   "metadata": {},
   "outputs": [
    {
     "name": "stdout",
     "output_type": "stream",
     "text": [
      "3444256\n",
      "5996896\n"
     ]
    }
   ],
   "source": [
    "test_engager_user_df = test_df\\\n",
    ".dropDuplicates([\"engager_user_id\"])\\\n",
    ".select(\"engager_user_id\", \"engager_follower_count\", \"engager_following_count\", \"engager_is_verified\", \"engager_account_creation_time\")\\\n",
    ".withColumn(\"engager_is_verified\", F.col(\"engager_is_verified\").cast(T.IntegerType()))\\\n",
    ".withColumn(\"year_engager\", F.hour(F.to_timestamp(\"engager_account_creation_time\")))\n",
    "print(test_engager_user_df.count())\n",
    "#test_engager_user_df.write.parquet(\"test_parquet_files/test_engager_user_df.parquet\")\n",
    "\n",
    "test_engagee_user_df = test_df\\\n",
    ".dropDuplicates([\"engagee_user_id\"])\\\n",
    ".select(\"engagee_user_id\", \"engagee_follower_count\", \"engagee_following_count\", \"engagee_is_verified\", \"engagee_account_creation_time\")\\\n",
    ".withColumn(\"engagee_is_verified\", F.col(\"engagee_is_verified\").cast(T.IntegerType()))\\\n",
    ".withColumn(\"year_engagee\", F.hour(F.to_timestamp(\"engagee_account_creation_time\")))\n",
    "print(test_engagee_user_df.count())\n",
    "#test_engagee_user_df.write.parquet(\"test_parquet_files/test_engagee_user_df.parquet\")"
   ]
  },
  {
   "cell_type": "code",
   "execution_count": 5,
   "metadata": {},
   "outputs": [
    {
     "name": "stdout",
     "output_type": "stream",
     "text": [
      "9883735\n"
     ]
    }
   ],
   "source": [
    "#create features for test set\n",
    "test_tweets = test_df.dropDuplicates([\"tweet_id\"])\\\n",
    ".select(\"tweet_id\",\n",
    "        decode_tokens(F.col(\"text_tokens\")).alias(\"text\"),\n",
    "        \"tweet_type\",\n",
    "        \"language\",\n",
    "        F.hour(F.to_timestamp(\"timestamp\")).alias(\"hour_tweet\"),\n",
    "        F.size(\"text_tokens\").alias(\"num_tokens\"),\n",
    "        F.when(F.col(\"hashtags\").isNull(), 0).otherwise(1).alias(\"has_hashtags\"),\n",
    "        F.when(F.col(\"present_media\").isNull(), 0).otherwise(1).alias(\"has_media\"), \n",
    "        F.when(F.col(\"present_links\").isNull(), 0).otherwise(1).alias(\"has_links\"))\n",
    "print(test_tweets.count())      \n",
    "tweet_is_in_top_daily_hashtag = test_df\\\n",
    ".dropDuplicates([\"tweet_id\"])\\\n",
    ".select(\"tweet_id\", \"timestamp\", F.explode(\"hashtags\").alias(\"hashtags_exploded\"))\\\n",
    ".withColumn(\"hashtag_duration\", F.max(\"timestamp\").over(Window.partitionBy(\"hashtags_exploded\")))\\\n",
    ".withColumn(\"hashtag_duration\", F.col(\"hashtag_duration\") - F.min(\"timestamp\").over(Window.partitionBy(\"hashtags_exploded\")))\\\n",
    ".withColumn(\"hashtag_duration2\", F.col(\"hashtag_duration\") / (24*3600))\\\n",
    ".withColumn(\"hashtag_duration3\", F.round(\"hashtag_duration2\"))\\\n",
    ".withColumn(\"is_in_top_daily_hashtags\", F.when( ((F.col(\"hashtag_duration3\") > 0) & (F.abs(F.col(\"hashtag_duration3\") - F.col(\"hashtag_duration2\")) < 0.007)), 1).otherwise(0))\\\n",
    ".select(\"tweet_id\", \"is_in_top_daily_hashtags\")\\\n",
    ".groupBy(\"tweet_id\").agg(F.max(\"is_in_top_daily_hashtags\").alias(\"is_in_top_daily_hashtags\"))\n",
    "\n",
    "test_tweets = test_tweets.join(tweet_is_in_top_daily_hashtag, \"tweet_id\", \"left_outer\")\\\n",
    ".withColumn(\"is_in_top_daily_hashtags\", F.when(F.col(\"is_in_top_daily_hashtags\").isNull(), 0).otherwise(F.col(\"is_in_top_daily_hashtags\")))\n",
    "\n",
    "tweet_is_in_top_daily_link = test_df\\\n",
    ".dropDuplicates([\"tweet_id\"])\\\n",
    ".select(\"tweet_id\", \"timestamp\", F.explode(\"present_links\").alias(\"present_links_exploded\"))\\\n",
    ".withColumn(\"link_duration\", F.max(\"timestamp\").over(Window.partitionBy(\"present_links_exploded\")))\\\n",
    ".withColumn(\"link_duration\", F.col(\"link_duration\") - F.min(\"timestamp\").over(Window.partitionBy(\"present_links_exploded\")))\\\n",
    ".withColumn(\"link_duration2\", F.col(\"link_duration\") / (24*3600))\\\n",
    ".withColumn(\"link_duration3\", F.round(\"link_duration2\"))\\\n",
    ".withColumn(\"is_in_top_daily_links\", F.when( ((F.col(\"link_duration3\") > 0) & (F.abs(F.col(\"link_duration3\") - F.col(\"link_duration2\")) < 0.007)), 1).otherwise(0))\\\n",
    ".select(\"tweet_id\", \"is_in_top_daily_links\")\\\n",
    ".groupBy(\"tweet_id\").agg(F.max(\"is_in_top_daily_links\").alias(\"is_in_top_daily_links\"))\n",
    "\n",
    "test_tweets = test_tweets.join(tweet_is_in_top_daily_link, \"tweet_id\", \"left_outer\")\\\n",
    ".withColumn(\"is_in_top_daily_links\", F.when(F.col(\"is_in_top_daily_links\").isNull(), 0).otherwise(F.col(\"is_in_top_daily_links\")))"
   ]
  },
  {
   "cell_type": "code",
   "execution_count": 10,
   "metadata": {},
   "outputs": [],
   "source": [
    "test_data = test_df\\\n",
    ".select(\"tweet_id\", \"engager_user_id\", \"engagee_user_id\")\n",
    "\n",
    "from pyspark.ml import Pipeline, PipelineModel\n",
    "from pyspark.ml.feature import VectorAssembler\n",
    "\n",
    "create_tweet_features = PipelineModel.load(\"./models/create_tweets_features.model\")\n",
    "create_engager_user_features = PipelineModel.load(\"./models/create_engager_user_features.model\")\n",
    "create_engagee_user_features = PipelineModel.load(\"./models/create_engagee_user_features.model\")\n",
    "\n",
    "test_features = test_tweets\n",
    "test_features = create_tweet_features.transform(test_features).select(\"tweet_id\", \"tweet_features\")\n",
    "\n",
    "engager_features = spark.read.parquet(\"test_parquet_files/test_engager_user_df.parquet\")\n",
    "engager_features = create_engager_user_features.transform(engager_features).select(\"engager_user_id\", \"engager_features\")\n",
    "\n",
    "engagee_features = spark.read.parquet(\"test_parquet_files/test_engagee_user_df.parquet\")\n",
    "engagee_features = create_engagee_user_features.transform(engagee_features).select(\"engagee_user_id\", \"engagee_features\")\n",
    "\n",
    "test_data = test_data.join(test_features, \"tweet_id\")\n",
    "test_data = test_data.join(engager_features, \"engager_user_id\")\n",
    "test_data = test_data.join(engagee_features, \"engagee_user_id\")\n",
    "\n",
    "assemblerInputs = [\"tweet_features\", \"engager_features\", \"engagee_features\"]\n",
    "assembler = VectorAssembler(inputCols=assemblerInputs, outputCol=\"featuresAssembled\")\n",
    "\n"
   ]
  },
  {
   "cell_type": "code",
   "execution_count": 11,
   "metadata": {},
   "outputs": [],
   "source": [
    "test_data = assembler.transform(test_data).drop(*assemblerInputs)\n",
    "test_data.write.parquet(\"test_parquet_files/test_dataset.parquet\")"
   ]
  },
  {
   "cell_type": "code",
   "execution_count": 12,
   "metadata": {},
   "outputs": [],
   "source": [
    "#load test_dataset\n",
    "test_dataset = spark.read.parquet(\"test_parquet_files/test_dataset.parquet\")"
   ]
  },
  {
   "cell_type": "code",
   "execution_count": 13,
   "metadata": {},
   "outputs": [],
   "source": [
    "from pyspark.ml.classification import GBTClassificationModel\n",
    "gbt_like_model =  GBTClassificationModel.load(\"models/gbt_like.model\")"
   ]
  },
  {
   "cell_type": "code",
   "execution_count": 15,
   "metadata": {},
   "outputs": [
    {
     "name": "stdout",
     "output_type": "stream",
     "text": [
      "Making predictions for like...\n",
      "Predictions are being written in csv file...\n"
     ]
    }
   ],
   "source": [
    "from pyspark.ml.classification import GBTClassificationModel\n",
    "print(\"Making predictions for like...\")\n",
    "predictions = gbt_like_model.transform(test_dataset)\n",
    "\n",
    "print(\"Predictions are being written in csv file...\")\n",
    "split1_udf = F.udf(lambda value: value[1].item(), T.DoubleType())\n",
    "predictions.select(\"tweet_id\", \"engagee_user_id\", split1_udf(\"probability\").alias(\"probability\"))\\\n",
    ".coalesce(1).write.csv(\"test_predictions_files/like.csv\")"
   ]
  },
  {
   "cell_type": "code",
   "execution_count": 3,
   "metadata": {},
   "outputs": [
    {
     "name": "stdout",
     "output_type": "stream",
     "text": [
      "+--------------------+--------------------+-------------------+\n",
      "|                 _c0|                 _c1|                _c2|\n",
      "+--------------------+--------------------+-------------------+\n",
      "|59475C01C8B9F8964...|0001057408B8B24BD...| 0.5395706706062846|\n",
      "|5F47BD12DA14AB9FF...|0001057408B8B24BD...|0.47599656700071924|\n",
      "|550CE57D9CA9A8FC1...|0001057408B8B24BD...|0.22371996181139742|\n",
      "|754F4A9754B2CD766...|0001057408B8B24BD...|  0.245434825399809|\n",
      "|F7C6823EC8D48065C...|0001057408B8B24BD...|0.46358789569530734|\n",
      "|A1651626282B4FEAC...|0001057408B8B24BD...|0.21622379629942456|\n",
      "|7AB462331770CF368...|0001057408B8B24BD...| 0.5033063543520688|\n",
      "|C424FF72D8A56F98A...|0001057408B8B24BD...| 0.5477760789227731|\n",
      "|01EAD76DEEAF91C71...|0001057408B8B24BD...|0.49880333563121015|\n",
      "|CF02126F8AD1EAE2E...|0001057408B8B24BD...| 0.5121878012911105|\n",
      "|BB7D4F04D8B8A8341...|0001057408B8B24BD...| 0.5555063685291564|\n",
      "|61A9B87B7A7F1C216...|0001057408B8B24BD...| 0.5708090673703047|\n",
      "|A81CE4D7E3D82EC3A...|00093621FF2283CBB...| 0.5363158162223283|\n",
      "|6F44B4B751013C16B...|000B67692E63EB247...|  0.342394138088399|\n",
      "|50B619639E149362C...|000B67692E63EB247...| 0.4156730032212025|\n",
      "|577CD5125F8E8E752...|001E6CB3A3C447851...|0.41862319893269784|\n",
      "|729A4F915D75B8308...|001E6CB3A3C447851...|0.47582076334435663|\n",
      "|9162623C7700DBDEB...|001E6CB3A3C447851...|0.33227995464922566|\n",
      "|12E4104C17F9D628A...|001E6CB3A3C447851...|0.33549999165880084|\n",
      "|C95BC8082D23B09FF...|00248F8BF3F6322F3...|0.32891196772708864|\n",
      "|71910F470C82940B5...|0024F78C9E56A182F...|0.26698294719698634|\n",
      "|8B1B9DF2024C429A2...|0024F78C9E56A182F...| 0.2759746130615559|\n",
      "|5280D581FDCAB4146...|0024F78C9E56A182F...| 0.2754631456098763|\n",
      "|1A1129901ACBC6D7E...|0024F78C9E56A182F...|0.20725422679536198|\n",
      "|7A5268B5F237E5393...|0024F78C9E56A182F...| 0.2499068336703686|\n",
      "|57845EAA283E2E7B1...|0024F78C9E56A182F...| 0.3133891732462035|\n",
      "|089B45894AC5AAFA6...|0024F78C9E56A182F...|0.32715058285509924|\n",
      "|92B62B37542EFFD0E...|0024F78C9E56A182F...| 0.5632867873353729|\n",
      "|7BD685D3AF5685ADE...|00256F7982F3A5990...|0.11230024541099937|\n",
      "|4CE433D2CA7BE0B53...|0029ADAC2AC067FAD...|0.26206242724002693|\n",
      "|83FCA0A4BC692A6AE...|0029ADAC2AC067FAD...| 0.4486824558341088|\n",
      "|20F319264B318027D...|0029ADAC2AC067FAD...| 0.4811486368914786|\n",
      "|A9D2C7B3556954C7C...|0029ADAC2AC067FAD...|0.26409775272208835|\n",
      "|70EFC0E274DD2BDC8...|002AC79DE4FEB66A1...| 0.2362479225162758|\n",
      "|8EA99E55681F5AA89...|002AC79DE4FEB66A1...|0.26220626756432275|\n",
      "|8C0F35702315022E4...|002C18C0AB63F1CF2...|0.26244840376271295|\n",
      "|0C8DCD1C827566808...|002D3B2BB65E67997...|  0.468245700199582|\n",
      "|6B149A3434F8D38C5...|002D3B2BB65E67997...| 0.5300218651355515|\n",
      "|860EB08A86E87A215...|002D3B2BB65E67997...|0.24251223534030852|\n",
      "|579C24550031F810C...|002D3B2BB65E67997...| 0.5242488892472956|\n",
      "|F2351023799EBA410...|002D3B2BB65E67997...| 0.4219068710493896|\n",
      "|54395962EE4BBB956...|002D3B2BB65E67997...|0.32009773724452706|\n",
      "|6AE9F700354762DD9...|0030061D8D1286919...| 0.3476623044924001|\n",
      "|A3E1C71A6DC43B5B6...|0030061D8D1286919...| 0.3261561008946807|\n",
      "|C428E96226021F020...|003134A30D0139B77...| 0.5018437381898635|\n",
      "|F18E7769DB90B096B...|00322624F0FC9AD9B...| 0.5270270809171584|\n",
      "|CE1B132BAA80A4A0F...|00322624F0FC9AD9B...|0.22534082162087177|\n",
      "|DFA7C425F017A2D62...|00322624F0FC9AD9B...| 0.2533742121474126|\n",
      "|66969D66ADC1E4B57...|00322624F0FC9AD9B...|0.42430934153346966|\n",
      "|D0E7F30FA16268E0F...|00322624F0FC9AD9B...| 0.5673111470683373|\n",
      "|B18678E282659E9DE...|00322624F0FC9AD9B...|0.26072491083642335|\n",
      "|DEDD86208FB77142A...|00329CED7360EF981...| 0.5089622169415381|\n",
      "|22B51F239F0D1F2EF...|00398251E2560B4A0...| 0.3399502656219784|\n",
      "|10DB10300F1AB65CE...|00398251E2560B4A0...| 0.4242099536186743|\n",
      "|516C7F8D1E8D00A98...|00398251E2560B4A0...|0.32233906910044385|\n",
      "|9D9720B210E01CC65...|00398251E2560B4A0...| 0.5035803756743307|\n",
      "|EB1D9E9E6DF96B877...|00398251E2560B4A0...|0.20763343617594077|\n",
      "|EB376713A25B078AD...|0039832283218713B...|  0.333590271901666|\n",
      "|3D07167F383AC3BC1...|003A791FEE977841C...|  0.240563323534982|\n",
      "|1377CC67091675A7C...|003A791FEE977841C...|0.18597856845650595|\n",
      "|6DFBCEA5E469D0B90...|003C288B0DC407A0C...|0.27030877356183236|\n",
      "|D22B5844AC92247F1...|0044BAA986A9CE701...|  0.553660033027776|\n",
      "|1AC873E8F73B4D69C...|004A5BBCE2F71B890...| 0.4961337513240358|\n",
      "|B0AB2840EB3B8FD58...|004A5BBCE2F71B890...| 0.5703991696041057|\n",
      "|E03FF8FA03B7CF707...|004A5BBCE2F71B890...| 0.5562263338415411|\n",
      "|8A4656F5778693E40...|004A5BBCE2F71B890...| 0.5028783316314983|\n",
      "|E8D8A16AECB863888...|004A5BBCE2F71B890...| 0.5637987797259296|\n",
      "|D5D80128E44A7A03A...|004E264975473293E...| 0.3576094235597964|\n",
      "|E7DD82D08C6F9F108...|004E264975473293E...|0.45033816115747194|\n",
      "|FAEA868BFDF7DCFFD...|004E264975473293E...|0.42822177949249485|\n",
      "|C6766899CEA206F0E...|0051B3F5923C941AB...| 0.6235346629563465|\n",
      "|FB43E5E81F0683595...|0054416A112DBB7D6...|0.16122955345291345|\n",
      "|3B7AE098370EFFAE3...|00569D7EB9CD06D32...| 0.5442840094435133|\n",
      "|050E8352514CDCF97...|0059AFCBAF0D052B2...| 0.5179441167137802|\n",
      "|F37F3B146B3C43C80...|005A79258FA7AE0C0...| 0.3132044130864384|\n",
      "|DE2CEDB0B9B277F04...|005A79258FA7AE0C0...| 0.2632928218635917|\n",
      "|920E85CAFA31903B2...|005A79258FA7AE0C0...| 0.4914904336313922|\n",
      "|381B8FF4C185B8787...|005CD36841BF31E33...| 0.4780240802587957|\n",
      "|77F6D4AC9B216E2EC...|005CD36841BF31E33...|   0.31822622795941|\n",
      "|0D8CCFA36E210E3AB...|005D2A9B65E245E4D...|0.35087873508199696|\n",
      "|E2FA59ABBD5487709...|005EFC765DB5B4C3D...| 0.5192713525243591|\n",
      "|031A21264D7758CA4...|0065FAAF76F287439...| 0.4739734500940158|\n",
      "|A03303035E8111558...|006F4E685CFB3DA09...|0.23916549640370255|\n",
      "|9137412392CE392FC...|006F4E685CFB3DA09...| 0.4635979009264405|\n",
      "|F54F5ED0EAF0AA222...|007394F022F0064B0...| 0.5211419126140915|\n",
      "|1ED285C5573CFD5B5...|0073A833BF8F2295F...| 0.4254396515385912|\n",
      "|A9DB31A6126CDC59F...|0073A833BF8F2295F...| 0.3415812596137082|\n",
      "|5D8BD60707268D706...|0073A833BF8F2295F...| 0.6228278209532159|\n",
      "|3766919A4698753A2...|0075B5DD2013C6864...| 0.4984140578685833|\n",
      "|B9C9CC9E823244FC5...|0075F75D76C5B170D...| 0.5960947211020398|\n",
      "|A3B35319244DED4B4...|0075F75D76C5B170D...| 0.5694790798399071|\n",
      "|7531FD0F3D980805D...|0075F75D76C5B170D...| 0.2950146937455336|\n",
      "|F1D1DBF782928F95C...|0075F75D76C5B170D...|0.22626654123481416|\n",
      "|2028D03B8279B01F7...|0075F75D76C5B170D...| 0.2022766513161427|\n",
      "|300CB64488B78F4DC...|0075F75D76C5B170D...| 0.2529491960644338|\n",
      "|A3BC0B05E7E996719...|0075FF44405850A51...|  0.220337375682236|\n",
      "|84F083DA7597A2A5D...|0075FF44405850A51...| 0.3890757897808925|\n",
      "|77DE673D25E4D5E00...|0075FF44405850A51...|0.33992336486529384|\n",
      "|1B4EA79BAD9F1F9E1...|0075FF44405850A51...|0.23355941237278388|\n",
      "|F92ED19B36F38AB48...|0075FF44405850A51...|0.16002475686151307|\n",
      "+--------------------+--------------------+-------------------+\n",
      "only showing top 100 rows\n",
      "\n"
     ]
    }
   ],
   "source": [
    "predictions_like = spark.read.csv(\"test_predictions_files/like.csv\")\n",
    "predictions_like.show(100)"
   ]
  },
  {
   "cell_type": "code",
   "execution_count": 17,
   "metadata": {},
   "outputs": [
    {
     "name": "stdout",
     "output_type": "stream",
     "text": [
      "Making predictions for reply...\n",
      "Predictions are being written in csv file...\n"
     ]
    }
   ],
   "source": [
    "gbt_reply_model =  GBTClassificationModel.load(\"models/gbt_reply.model\")\n",
    "print(\"Making predictions for reply...\")\n",
    "predictions = gbt_reply_model.transform(test_dataset)\n",
    "\n",
    "print(\"Predictions are being written in csv file...\")\n",
    "split1_udf = F.udf(lambda value: value[1].item(), T.DoubleType())\n",
    "predictions.select(\"tweet_id\", \"engagee_user_id\", split1_udf(\"probability\").alias(\"probability\"))\\\n",
    ".coalesce(1).write.csv(\"test_predictions_files/reply.csv\")"
   ]
  },
  {
   "cell_type": "code",
   "execution_count": 4,
   "metadata": {},
   "outputs": [
    {
     "name": "stdout",
     "output_type": "stream",
     "text": [
      "+--------------------+--------------------+--------------------+\n",
      "|                 _c0|                 _c1|                 _c2|\n",
      "+--------------------+--------------------+--------------------+\n",
      "|59475C01C8B9F8964...|0001057408B8B24BD...| 0.05796429788268742|\n",
      "|5F47BD12DA14AB9FF...|0001057408B8B24BD...|0.055467096582995645|\n",
      "|550CE57D9CA9A8FC1...|0001057408B8B24BD...| 0.04623972807742993|\n",
      "|754F4A9754B2CD766...|0001057408B8B24BD...| 0.04645305766176244|\n",
      "|F7C6823EC8D48065C...|0001057408B8B24BD...| 0.05469762505354692|\n",
      "|A1651626282B4FEAC...|0001057408B8B24BD...| 0.04672436889057241|\n",
      "|7AB462331770CF368...|0001057408B8B24BD...| 0.06284515585805484|\n",
      "|C424FF72D8A56F98A...|0001057408B8B24BD...|0.058103311131081026|\n",
      "|01EAD76DEEAF91C71...|0001057408B8B24BD...| 0.05734985959532435|\n",
      "|CF02126F8AD1EAE2E...|0001057408B8B24BD...|0.054658887220938035|\n",
      "|BB7D4F04D8B8A8341...|0001057408B8B24BD...| 0.05677679322769913|\n",
      "|61A9B87B7A7F1C216...|0001057408B8B24BD...|0.059096363224597104|\n",
      "|A81CE4D7E3D82EC3A...|00093621FF2283CBB...| 0.05721253949760563|\n",
      "|6F44B4B751013C16B...|000B67692E63EB247...| 0.04672436889057241|\n",
      "|50B619639E149362C...|000B67692E63EB247...| 0.05238254409537291|\n",
      "|577CD5125F8E8E752...|001E6CB3A3C447851...| 0.06054364445584237|\n",
      "|729A4F915D75B8308...|001E6CB3A3C447851...|0.059096363224597104|\n",
      "|9162623C7700DBDEB...|001E6CB3A3C447851...| 0.06617818859379576|\n",
      "|12E4104C17F9D628A...|001E6CB3A3C447851...| 0.06012862402547581|\n",
      "|C95BC8082D23B09FF...|00248F8BF3F6322F3...|0.053475249870010066|\n",
      "|71910F470C82940B5...|0024F78C9E56A182F...| 0.04645305766176244|\n",
      "|8B1B9DF2024C429A2...|0024F78C9E56A182F...| 0.04645305766176244|\n",
      "|5280D581FDCAB4146...|0024F78C9E56A182F...| 0.04645305766176244|\n",
      "|1A1129901ACBC6D7E...|0024F78C9E56A182F...| 0.04951216935843772|\n",
      "|7A5268B5F237E5393...|0024F78C9E56A182F...| 0.04678609291325486|\n",
      "|57845EAA283E2E7B1...|0024F78C9E56A182F...| 0.05768554990560937|\n",
      "|089B45894AC5AAFA6...|0024F78C9E56A182F...| 0.04609670083956374|\n",
      "|92B62B37542EFFD0E...|0024F78C9E56A182F...| 0.05591439900416084|\n",
      "|7BD685D3AF5685ADE...|00256F7982F3A5990...| 0.04546221066841427|\n",
      "|4CE433D2CA7BE0B53...|0029ADAC2AC067FAD...|0.046543741791397975|\n",
      "|83FCA0A4BC692A6AE...|0029ADAC2AC067FAD...|0.059319347910635645|\n",
      "|20F319264B318027D...|0029ADAC2AC067FAD...|   0.081177718124671|\n",
      "|A9D2C7B3556954C7C...|0029ADAC2AC067FAD...| 0.04800772672496356|\n",
      "|70EFC0E274DD2BDC8...|002AC79DE4FEB66A1...|0.046320796730278446|\n",
      "|8EA99E55681F5AA89...|002AC79DE4FEB66A1...|0.046543741791397975|\n",
      "|8C0F35702315022E4...|002C18C0AB63F1CF2...|0.056257534711669055|\n",
      "|0C8DCD1C827566808...|002D3B2BB65E67997...|0.061368829057083074|\n",
      "|6B149A3434F8D38C5...|002D3B2BB65E67997...| 0.06157157306958427|\n",
      "|860EB08A86E87A215...|002D3B2BB65E67997...| 0.04623972807742993|\n",
      "|579C24550031F810C...|002D3B2BB65E67997...| 0.06054364445584237|\n",
      "|F2351023799EBA410...|002D3B2BB65E67997...| 0.05768554990560937|\n",
      "|54395962EE4BBB956...|002D3B2BB65E67997...| 0.06852057119978705|\n",
      "|6AE9F700354762DD9...|0030061D8D1286919...| 0.04609670083956374|\n",
      "|A3E1C71A6DC43B5B6...|0030061D8D1286919...| 0.04672436889057241|\n",
      "|C428E96226021F020...|003134A30D0139B77...| 0.05451667317243192|\n",
      "|F18E7769DB90B096B...|00322624F0FC9AD9B...| 0.05972001725515075|\n",
      "|CE1B132BAA80A4A0F...|00322624F0FC9AD9B...| 0.04600879700199456|\n",
      "|DFA7C425F017A2D62...|00322624F0FC9AD9B...| 0.04653448208101252|\n",
      "|66969D66ADC1E4B57...|00322624F0FC9AD9B...| 0.16266520738170454|\n",
      "|D0E7F30FA16268E0F...|00322624F0FC9AD9B...|0.055680771903841686|\n",
      "|B18678E282659E9DE...|00322624F0FC9AD9B...| 0.04653448208101252|\n",
      "|DEDD86208FB77142A...|00329CED7360EF981...| 0.05778059247456491|\n",
      "|22B51F239F0D1F2EF...|00398251E2560B4A0...| 0.05768554990560937|\n",
      "|10DB10300F1AB65CE...|00398251E2560B4A0...|0.052208828021977016|\n",
      "|516C7F8D1E8D00A98...|00398251E2560B4A0...| 0.04612959414818729|\n",
      "|9D9720B210E01CC65...|00398251E2560B4A0...| 0.05721253949760563|\n",
      "|EB1D9E9E6DF96B877...|00398251E2560B4A0...|0.049260950868756925|\n",
      "|EB376713A25B078AD...|0039832283218713B...| 0.06111188531111689|\n",
      "|3D07167F383AC3BC1...|003A791FEE977841C...| 0.05431987830181706|\n",
      "|1377CC67091675A7C...|003A791FEE977841C...|0.056937661003149564|\n",
      "|6DFBCEA5E469D0B90...|003C288B0DC407A0C...| 0.07375631631804491|\n",
      "|D22B5844AC92247F1...|0044BAA986A9CE701...| 0.07663721560136882|\n",
      "|1AC873E8F73B4D69C...|004A5BBCE2F71B890...|0.058570707897588226|\n",
      "|B0AB2840EB3B8FD58...|004A5BBCE2F71B890...| 0.05677679322769913|\n",
      "|E03FF8FA03B7CF707...|004A5BBCE2F71B890...|0.055680771903841686|\n",
      "|8A4656F5778693E40...|004A5BBCE2F71B890...| 0.06054364445584237|\n",
      "|E8D8A16AECB863888...|004A5BBCE2F71B890...| 0.05677679322769913|\n",
      "|D5D80128E44A7A03A...|004E264975473293E...| 0.05946851940096298|\n",
      "|E7DD82D08C6F9F108...|004E264975473293E...| 0.06284515585805484|\n",
      "|FAEA868BFDF7DCFFD...|004E264975473293E...| 0.06478692728083768|\n",
      "|C6766899CEA206F0E...|0051B3F5923C941AB...| 0.07663721560136882|\n",
      "|FB43E5E81F0683595...|0054416A112DBB7D6...| 0.04623972807742993|\n",
      "|3B7AE098370EFFAE3...|00569D7EB9CD06D32...|0.055680771903841686|\n",
      "|050E8352514CDCF97...|0059AFCBAF0D052B2...| 0.06478692728083768|\n",
      "|F37F3B146B3C43C80...|005A79258FA7AE0C0...| 0.04646042338786349|\n",
      "|DE2CEDB0B9B277F04...|005A79258FA7AE0C0...| 0.04645305766176244|\n",
      "|920E85CAFA31903B2...|005A79258FA7AE0C0...|  0.0577268096560023|\n",
      "|381B8FF4C185B8787...|005CD36841BF31E33...| 0.05469762505354692|\n",
      "|77F6D4AC9B216E2EC...|005CD36841BF31E33...|0.054028793828093113|\n",
      "|0D8CCFA36E210E3AB...|005D2A9B65E245E4D...| 0.04609670083956374|\n",
      "|E2FA59ABBD5487709...|005EFC765DB5B4C3D...|0.061368829057083074|\n",
      "|031A21264D7758CA4...|0065FAAF76F287439...|  0.0876354779202565|\n",
      "|A03303035E8111558...|006F4E685CFB3DA09...| 0.04800772672496356|\n",
      "|9137412392CE392FC...|006F4E685CFB3DA09...|0.052208828021977016|\n",
      "|F54F5ED0EAF0AA222...|007394F022F0064B0...|0.058570707897588226|\n",
      "|1ED285C5573CFD5B5...|0073A833BF8F2295F...| 0.06617818859379576|\n",
      "|A9DB31A6126CDC59F...|0073A833BF8F2295F...|0.052108980527728166|\n",
      "|5D8BD60707268D706...|0073A833BF8F2295F...| 0.07663721560136882|\n",
      "|3766919A4698753A2...|0075B5DD2013C6864...|0.059096363224597104|\n",
      "|B9C9CC9E823244FC5...|0075F75D76C5B170D...|  0.0727596755672939|\n",
      "|A3B35319244DED4B4...|0075F75D76C5B170D...| 0.05677679322769913|\n",
      "|7531FD0F3D980805D...|0075F75D76C5B170D...| 0.05184556572769572|\n",
      "|F1D1DBF782928F95C...|0075F75D76C5B170D...| 0.04645305766176244|\n",
      "|2028D03B8279B01F7...|0075F75D76C5B170D...| 0.04800772672496356|\n",
      "|300CB64488B78F4DC...|0075F75D76C5B170D...| 0.04672436889057241|\n",
      "|A3BC0B05E7E996719...|0075FF44405850A51...|0.054028793828093113|\n",
      "|84F083DA7597A2A5D...|0075FF44405850A51...| 0.07372170647282872|\n",
      "|77DE673D25E4D5E00...|0075FF44405850A51...| 0.05258079545241823|\n",
      "|1B4EA79BAD9F1F9E1...|0075FF44405850A51...|  0.0575900628089292|\n",
      "|F92ED19B36F38AB48...|0075FF44405850A51...| 0.04623972807742993|\n",
      "+--------------------+--------------------+--------------------+\n",
      "only showing top 100 rows\n",
      "\n"
     ]
    }
   ],
   "source": [
    "predictions_reply = spark.read.csv(\"test_predictions_files/reply.csv\")\n",
    "predictions_reply.show(100)"
   ]
  },
  {
   "cell_type": "code",
   "execution_count": 19,
   "metadata": {},
   "outputs": [
    {
     "name": "stdout",
     "output_type": "stream",
     "text": [
      "Making predictions for retweet...\n",
      "Predictions are being written in csv file...\n"
     ]
    }
   ],
   "source": [
    "gbt_retweet_model =  GBTClassificationModel.load(\"models/gbt_retweet.model\")\n",
    "print(\"Making predictions for retweet...\")\n",
    "predictions = gbt_retweet_model.transform(test_dataset)\n",
    "\n",
    "print(\"Predictions are being written in csv file...\")\n",
    "split1_udf = F.udf(lambda value: value[1].item(), T.DoubleType())\n",
    "predictions.select(\"tweet_id\", \"engagee_user_id\", split1_udf(\"probability\").alias(\"probability\"))\\\n",
    ".coalesce(1).write.csv(\"test_predictions_files/retweet.csv\")"
   ]
  },
  {
   "cell_type": "code",
   "execution_count": 5,
   "metadata": {},
   "outputs": [
    {
     "name": "stdout",
     "output_type": "stream",
     "text": [
      "+--------------------+--------------------+-------------------+\n",
      "|                 _c0|                 _c1|                _c2|\n",
      "+--------------------+--------------------+-------------------+\n",
      "|59475C01C8B9F8964...|0001057408B8B24BD...|0.08111069005287586|\n",
      "|5F47BD12DA14AB9FF...|0001057408B8B24BD...|0.11831037626733631|\n",
      "|550CE57D9CA9A8FC1...|0001057408B8B24BD...|0.10017932886448844|\n",
      "|754F4A9754B2CD766...|0001057408B8B24BD...|0.10992152549977063|\n",
      "|F7C6823EC8D48065C...|0001057408B8B24BD...|0.10144575097656239|\n",
      "|A1651626282B4FEAC...|0001057408B8B24BD...|0.08876257560354839|\n",
      "|7AB462331770CF368...|0001057408B8B24BD...|  0.084271423585077|\n",
      "|C424FF72D8A56F98A...|0001057408B8B24BD...|0.08952225273779368|\n",
      "|01EAD76DEEAF91C71...|0001057408B8B24BD...|0.08970868267594356|\n",
      "|CF02126F8AD1EAE2E...|0001057408B8B24BD...|0.14604565641748357|\n",
      "|BB7D4F04D8B8A8341...|0001057408B8B24BD...|0.09136269431609212|\n",
      "|61A9B87B7A7F1C216...|0001057408B8B24BD...|0.09404112783251162|\n",
      "|A81CE4D7E3D82EC3A...|00093621FF2283CBB...|0.08175470920792549|\n",
      "|6F44B4B751013C16B...|000B67692E63EB247...|0.10961205634752147|\n",
      "|50B619639E149362C...|000B67692E63EB247...|0.08673007697703616|\n",
      "|577CD5125F8E8E752...|001E6CB3A3C447851...|0.09262875034179796|\n",
      "|729A4F915D75B8308...|001E6CB3A3C447851...| 0.0953059757858623|\n",
      "|9162623C7700DBDEB...|001E6CB3A3C447851...|0.07962128108270561|\n",
      "|12E4104C17F9D628A...|001E6CB3A3C447851...|0.10422627765740333|\n",
      "|C95BC8082D23B09FF...|00248F8BF3F6322F3...| 0.0902625629193754|\n",
      "|71910F470C82940B5...|0024F78C9E56A182F...|0.10961205634752147|\n",
      "|8B1B9DF2024C429A2...|0024F78C9E56A182F...|0.10769192853319864|\n",
      "|5280D581FDCAB4146...|0024F78C9E56A182F...|0.11247052606063557|\n",
      "|1A1129901ACBC6D7E...|0024F78C9E56A182F...|0.08287188257958156|\n",
      "|7A5268B5F237E5393...|0024F78C9E56A182F...|0.15423224075681474|\n",
      "|57845EAA283E2E7B1...|0024F78C9E56A182F...|0.07299087581278663|\n",
      "|089B45894AC5AAFA6...|0024F78C9E56A182F...|0.11054868179015687|\n",
      "|92B62B37542EFFD0E...|0024F78C9E56A182F...|0.09180478375256573|\n",
      "|7BD685D3AF5685ADE...|00256F7982F3A5990...| 0.0570757782397483|\n",
      "|4CE433D2CA7BE0B53...|0029ADAC2AC067FAD...|0.10961205634752147|\n",
      "|83FCA0A4BC692A6AE...|0029ADAC2AC067FAD...|0.11480617814748006|\n",
      "|20F319264B318027D...|0029ADAC2AC067FAD...|0.07703631698020341|\n",
      "|A9D2C7B3556954C7C...|0029ADAC2AC067FAD...|0.10961205634752147|\n",
      "|70EFC0E274DD2BDC8...|002AC79DE4FEB66A1...|0.10587649486704731|\n",
      "|8EA99E55681F5AA89...|002AC79DE4FEB66A1...|0.11493398137064414|\n",
      "|8C0F35702315022E4...|002C18C0AB63F1CF2...|0.09043105830941123|\n",
      "|0C8DCD1C827566808...|002D3B2BB65E67997...| 0.0871085019137765|\n",
      "|6B149A3434F8D38C5...|002D3B2BB65E67997...|0.09300199870416137|\n",
      "|860EB08A86E87A215...|002D3B2BB65E67997...| 0.0977332681010763|\n",
      "|579C24550031F810C...|002D3B2BB65E67997...|0.07875555937178935|\n",
      "|F2351023799EBA410...|002D3B2BB65E67997...|0.09736385762368671|\n",
      "|54395962EE4BBB956...|002D3B2BB65E67997...|0.06658854731744102|\n",
      "|6AE9F700354762DD9...|0030061D8D1286919...|0.10769609033485739|\n",
      "|A3E1C71A6DC43B5B6...|0030061D8D1286919...|0.10588486351461057|\n",
      "|C428E96226021F020...|003134A30D0139B77...| 0.0895428516612723|\n",
      "|F18E7769DB90B096B...|00322624F0FC9AD9B...|0.09575531286090821|\n",
      "|CE1B132BAA80A4A0F...|00322624F0FC9AD9B...|0.11443694797376924|\n",
      "|DFA7C425F017A2D62...|00322624F0FC9AD9B...|0.15423224075681474|\n",
      "|66969D66ADC1E4B57...|00322624F0FC9AD9B...|0.06605529023497025|\n",
      "|D0E7F30FA16268E0F...|00322624F0FC9AD9B...| 0.0902625629193754|\n",
      "|B18678E282659E9DE...|00322624F0FC9AD9B...|0.15842117930951716|\n",
      "|DEDD86208FB77142A...|00329CED7360EF981...|0.08514257241661649|\n",
      "|22B51F239F0D1F2EF...|00398251E2560B4A0...|0.08916263828593962|\n",
      "|10DB10300F1AB65CE...|00398251E2560B4A0...|0.09116656651793043|\n",
      "|516C7F8D1E8D00A98...|00398251E2560B4A0...|0.10671077576149335|\n",
      "|9D9720B210E01CC65...|00398251E2560B4A0...|0.09039702462465016|\n",
      "|EB1D9E9E6DF96B877...|00398251E2560B4A0...|0.08626047413960769|\n",
      "|EB376713A25B078AD...|0039832283218713B...|0.09539274854986635|\n",
      "|3D07167F383AC3BC1...|003A791FEE977841C...|0.08140551152509934|\n",
      "|1377CC67091675A7C...|003A791FEE977841C...|0.07872243045966576|\n",
      "|6DFBCEA5E469D0B90...|003C288B0DC407A0C...|0.08442143362680532|\n",
      "|D22B5844AC92247F1...|0044BAA986A9CE701...|0.21402254303840007|\n",
      "|1AC873E8F73B4D69C...|004A5BBCE2F71B890...|0.09351390192457099|\n",
      "|B0AB2840EB3B8FD58...|004A5BBCE2F71B890...|0.09043105830941123|\n",
      "|E03FF8FA03B7CF707...|004A5BBCE2F71B890...|0.09116300546779066|\n",
      "|8A4656F5778693E40...|004A5BBCE2F71B890...|0.07454513499867044|\n",
      "|E8D8A16AECB863888...|004A5BBCE2F71B890...|0.09043105830941123|\n",
      "|D5D80128E44A7A03A...|004E264975473293E...|0.11085554715499446|\n",
      "|E7DD82D08C6F9F108...|004E264975473293E...|0.08909678408575639|\n",
      "|FAEA868BFDF7DCFFD...|004E264975473293E...|0.09262875034179796|\n",
      "|C6766899CEA206F0E...|0051B3F5923C941AB...|0.09795361553615167|\n",
      "|FB43E5E81F0683595...|0054416A112DBB7D6...|0.06505931476099236|\n",
      "|3B7AE098370EFFAE3...|00569D7EB9CD06D32...|0.09368784162783461|\n",
      "|050E8352514CDCF97...|0059AFCBAF0D052B2...|0.07454513499867044|\n",
      "|F37F3B146B3C43C80...|005A79258FA7AE0C0...|0.10265187658227215|\n",
      "|DE2CEDB0B9B277F04...|005A79258FA7AE0C0...|0.11162148878357392|\n",
      "|920E85CAFA31903B2...|005A79258FA7AE0C0...|0.09376649176970298|\n",
      "|381B8FF4C185B8787...|005CD36841BF31E33...|0.08809842366682641|\n",
      "|77F6D4AC9B216E2EC...|005CD36841BF31E33...|0.08479235809756791|\n",
      "|0D8CCFA36E210E3AB...|005D2A9B65E245E4D...|0.11034724980313482|\n",
      "|E2FA59ABBD5487709...|005EFC765DB5B4C3D...|0.13608233543036985|\n",
      "|031A21264D7758CA4...|0065FAAF76F287439...|0.06605529023497025|\n",
      "|A03303035E8111558...|006F4E685CFB3DA09...|0.10265668571517916|\n",
      "|9137412392CE392FC...|006F4E685CFB3DA09...|0.08730516722985626|\n",
      "|F54F5ED0EAF0AA222...|007394F022F0064B0...|0.09119263709483982|\n",
      "|1ED285C5573CFD5B5...|0073A833BF8F2295F...|0.10016644058076996|\n",
      "|A9DB31A6126CDC59F...|0073A833BF8F2295F...|0.08367548417118931|\n",
      "|5D8BD60707268D706...|0073A833BF8F2295F...|0.12077445687941335|\n",
      "|3766919A4698753A2...|0075B5DD2013C6864...|0.08281763665200526|\n",
      "|B9C9CC9E823244FC5...|0075F75D76C5B170D...|0.12145376237972272|\n",
      "|A3B35319244DED4B4...|0075F75D76C5B170D...|0.09043105830941123|\n",
      "|7531FD0F3D980805D...|0075F75D76C5B170D...|0.12407317502425119|\n",
      "|F1D1DBF782928F95C...|0075F75D76C5B170D...|0.16236745006650588|\n",
      "|2028D03B8279B01F7...|0075F75D76C5B170D...| 0.3053313169336227|\n",
      "|300CB64488B78F4DC...|0075F75D76C5B170D...| 0.3456337719228493|\n",
      "|A3BC0B05E7E996719...|0075FF44405850A51...|0.08333442207677078|\n",
      "|84F083DA7597A2A5D...|0075FF44405850A51...|0.09081608295203225|\n",
      "|77DE673D25E4D5E00...|0075FF44405850A51...|0.08991448217900067|\n",
      "|1B4EA79BAD9F1F9E1...|0075FF44405850A51...|0.08088742521525727|\n",
      "|F92ED19B36F38AB48...|0075FF44405850A51...|0.06329100793561115|\n",
      "+--------------------+--------------------+-------------------+\n",
      "only showing top 100 rows\n",
      "\n"
     ]
    }
   ],
   "source": [
    "predictions_retweet = spark.read.csv(\"test_predictions_files/retweet.csv\")\n",
    "predictions_retweet.show(100)"
   ]
  },
  {
   "cell_type": "code",
   "execution_count": 21,
   "metadata": {},
   "outputs": [
    {
     "name": "stdout",
     "output_type": "stream",
     "text": [
      "Making predictions for retweet with comment...\n",
      "Predictions are being written in csv file...\n"
     ]
    }
   ],
   "source": [
    "gbt_rtWithCmt_model =  GBTClassificationModel.load(\"models/gbt_rtWithCmt.model\")\n",
    "print(\"Making predictions for retweet with comment...\")\n",
    "predictions = gbt_rtWithCmt_model.transform(test_dataset)\n",
    "\n",
    "print(\"Predictions are being written in csv file...\")\n",
    "split1_udf = F.udf(lambda value: value[1].item(), T.DoubleType())\n",
    "predictions.select(\"tweet_id\", \"engagee_user_id\", split1_udf(\"probability\").alias(\"probability\"))\\\n",
    ".coalesce(1).write.csv(\"test_predictions_files/rtWithCmt.csv\")"
   ]
  },
  {
   "cell_type": "code",
   "execution_count": 6,
   "metadata": {},
   "outputs": [
    {
     "name": "stdout",
     "output_type": "stream",
     "text": [
      "+--------------------+--------------------+--------------------+\n",
      "|                 _c0|                 _c1|                 _c2|\n",
      "+--------------------+--------------------+--------------------+\n",
      "|59475C01C8B9F8964...|0001057408B8B24BD...| 0.04693636266159318|\n",
      "|5F47BD12DA14AB9FF...|0001057408B8B24BD...|0.047482878986417454|\n",
      "|550CE57D9CA9A8FC1...|0001057408B8B24BD...|0.046048264066535394|\n",
      "|754F4A9754B2CD766...|0001057408B8B24BD...|0.047167649112566434|\n",
      "|F7C6823EC8D48065C...|0001057408B8B24BD...|0.048171978141932636|\n",
      "|A1651626282B4FEAC...|0001057408B8B24BD...| 0.04558320791594983|\n",
      "|7AB462331770CF368...|0001057408B8B24BD...| 0.04733856461467778|\n",
      "|C424FF72D8A56F98A...|0001057408B8B24BD...| 0.04723648172851658|\n",
      "|01EAD76DEEAF91C71...|0001057408B8B24BD...| 0.04733856461467778|\n",
      "|CF02126F8AD1EAE2E...|0001057408B8B24BD...| 0.04779838156536054|\n",
      "|BB7D4F04D8B8A8341...|0001057408B8B24BD...|0.047727615378849175|\n",
      "|61A9B87B7A7F1C216...|0001057408B8B24BD...| 0.04693636266159318|\n",
      "|A81CE4D7E3D82EC3A...|00093621FF2283CBB...|0.046734442898109796|\n",
      "|6F44B4B751013C16B...|000B67692E63EB247...| 0.04735638672020226|\n",
      "|50B619639E149362C...|000B67692E63EB247...|0.047672816813170704|\n",
      "|577CD5125F8E8E752...|001E6CB3A3C447851...|0.046729594956588794|\n",
      "|729A4F915D75B8308...|001E6CB3A3C447851...|0.046729594956588794|\n",
      "|9162623C7700DBDEB...|001E6CB3A3C447851...| 0.04685422776527537|\n",
      "|12E4104C17F9D628A...|001E6CB3A3C447851...|0.046848179510185384|\n",
      "|C95BC8082D23B09FF...|00248F8BF3F6322F3...| 0.04791287691601809|\n",
      "|71910F470C82940B5...|0024F78C9E56A182F...| 0.04735638672020226|\n",
      "|8B1B9DF2024C429A2...|0024F78C9E56A182F...| 0.04735638672020226|\n",
      "|5280D581FDCAB4146...|0024F78C9E56A182F...| 0.04735638672020226|\n",
      "|1A1129901ACBC6D7E...|0024F78C9E56A182F...|0.047969196698244176|\n",
      "|7A5268B5F237E5393...|0024F78C9E56A182F...| 0.04735638672020226|\n",
      "|57845EAA283E2E7B1...|0024F78C9E56A182F...|0.046048264066535394|\n",
      "|089B45894AC5AAFA6...|0024F78C9E56A182F...| 0.04735638672020226|\n",
      "|92B62B37542EFFD0E...|0024F78C9E56A182F...| 0.04791287691601809|\n",
      "|7BD685D3AF5685ADE...|00256F7982F3A5990...|0.044661229805203706|\n",
      "|4CE433D2CA7BE0B53...|0029ADAC2AC067FAD...| 0.04703694792397917|\n",
      "|83FCA0A4BC692A6AE...|0029ADAC2AC067FAD...| 0.04750839976958432|\n",
      "|20F319264B318027D...|0029ADAC2AC067FAD...|  0.0474457448179616|\n",
      "|A9D2C7B3556954C7C...|0029ADAC2AC067FAD...|0.047167649112566434|\n",
      "|70EFC0E274DD2BDC8...|002AC79DE4FEB66A1...|0.046048264066535394|\n",
      "|8EA99E55681F5AA89...|002AC79DE4FEB66A1...|0.047173736570948144|\n",
      "|8C0F35702315022E4...|002C18C0AB63F1CF2...| 0.04770856606278684|\n",
      "|0C8DCD1C827566808...|002D3B2BB65E67997...|0.047855117126042845|\n",
      "|6B149A3434F8D38C5...|002D3B2BB65E67997...| 0.04718004882701643|\n",
      "|860EB08A86E87A215...|002D3B2BB65E67997...|0.046048264066535394|\n",
      "|579C24550031F810C...|002D3B2BB65E67997...| 0.04718004882701643|\n",
      "|F2351023799EBA410...|002D3B2BB65E67997...| 0.04963638753342692|\n",
      "|54395962EE4BBB956...|002D3B2BB65E67997...| 0.04703570188924999|\n",
      "|6AE9F700354762DD9...|0030061D8D1286919...|0.047173736570948144|\n",
      "|A3E1C71A6DC43B5B6...|0030061D8D1286919...| 0.04636133090245109|\n",
      "|C428E96226021F020...|003134A30D0139B77...| 0.04773746031169113|\n",
      "|F18E7769DB90B096B...|00322624F0FC9AD9B...| 0.04725037999013637|\n",
      "|CE1B132BAA80A4A0F...|00322624F0FC9AD9B...|0.046512683193469906|\n",
      "|DFA7C425F017A2D62...|00322624F0FC9AD9B...| 0.04735638672020226|\n",
      "|66969D66ADC1E4B57...|00322624F0FC9AD9B...| 0.04728038606533047|\n",
      "|D0E7F30FA16268E0F...|00322624F0FC9AD9B...| 0.04763385305888057|\n",
      "|B18678E282659E9DE...|00322624F0FC9AD9B...| 0.04735638672020226|\n",
      "|DEDD86208FB77142A...|00329CED7360EF981...| 0.04733170202290804|\n",
      "|22B51F239F0D1F2EF...|00398251E2560B4A0...| 0.04636133090245109|\n",
      "|10DB10300F1AB65CE...|00398251E2560B4A0...|0.047855117126042845|\n",
      "|516C7F8D1E8D00A98...|00398251E2560B4A0...|0.046048264066535394|\n",
      "|9D9720B210E01CC65...|00398251E2560B4A0...| 0.04718004882701643|\n",
      "|EB1D9E9E6DF96B877...|00398251E2560B4A0...|  0.0476727264350888|\n",
      "|EB376713A25B078AD...|0039832283218713B...| 0.04762683991938055|\n",
      "|3D07167F383AC3BC1...|003A791FEE977841C...|  0.0480241371765503|\n",
      "|1377CC67091675A7C...|003A791FEE977841C...|  0.0473195781385618|\n",
      "|6DFBCEA5E469D0B90...|003C288B0DC407A0C...|0.046848179510185384|\n",
      "|D22B5844AC92247F1...|0044BAA986A9CE701...| 0.04757762247963604|\n",
      "|1AC873E8F73B4D69C...|004A5BBCE2F71B890...|0.047211874458035985|\n",
      "|B0AB2840EB3B8FD58...|004A5BBCE2F71B890...| 0.04763385305888057|\n",
      "|E03FF8FA03B7CF707...|004A5BBCE2F71B890...| 0.04763385305888057|\n",
      "|8A4656F5778693E40...|004A5BBCE2F71B890...| 0.04681069601007548|\n",
      "|E8D8A16AECB863888...|004A5BBCE2F71B890...| 0.04763385305888057|\n",
      "|D5D80128E44A7A03A...|004E264975473293E...| 0.04703570188924999|\n",
      "|E7DD82D08C6F9F108...|004E264975473293E...|  0.0471314852964595|\n",
      "|FAEA868BFDF7DCFFD...|004E264975473293E...| 0.04718004882701643|\n",
      "|C6766899CEA206F0E...|0051B3F5923C941AB...| 0.04797421283045589|\n",
      "|FB43E5E81F0683595...|0054416A112DBB7D6...|0.045015851861804235|\n",
      "|3B7AE098370EFFAE3...|00569D7EB9CD06D32...|0.047727615378849175|\n",
      "|050E8352514CDCF97...|0059AFCBAF0D052B2...| 0.04645050465831824|\n",
      "|F37F3B146B3C43C80...|005A79258FA7AE0C0...|0.046048264066535394|\n",
      "|DE2CEDB0B9B277F04...|005A79258FA7AE0C0...|0.047173736570948144|\n",
      "|920E85CAFA31903B2...|005A79258FA7AE0C0...|  0.0474457448179616|\n",
      "|381B8FF4C185B8787...|005CD36841BF31E33...| 0.04773746031169113|\n",
      "|77F6D4AC9B216E2EC...|005CD36841BF31E33...|0.047176527458280604|\n",
      "|0D8CCFA36E210E3AB...|005D2A9B65E245E4D...|0.047173736570948144|\n",
      "|E2FA59ABBD5487709...|005EFC765DB5B4C3D...| 0.04797035755441381|\n",
      "|031A21264D7758CA4...|0065FAAF76F287439...| 0.04730665782181842|\n",
      "|A03303035E8111558...|006F4E685CFB3DA09...| 0.04636133090245109|\n",
      "|9137412392CE392FC...|006F4E685CFB3DA09...| 0.04797106820808239|\n",
      "|F54F5ED0EAF0AA222...|007394F022F0064B0...| 0.04725037999013637|\n",
      "|1ED285C5573CFD5B5...|0073A833BF8F2295F...| 0.05538353293010323|\n",
      "|A9DB31A6126CDC59F...|0073A833BF8F2295F...|0.045333555230055445|\n",
      "|5D8BD60707268D706...|0073A833BF8F2295F...|0.047822167347886024|\n",
      "|3766919A4698753A2...|0075B5DD2013C6864...| 0.04729374436278311|\n",
      "|B9C9CC9E823244FC5...|0075F75D76C5B170D...| 0.04763385305888057|\n",
      "|A3B35319244DED4B4...|0075F75D76C5B170D...| 0.04763385305888057|\n",
      "|7531FD0F3D980805D...|0075F75D76C5B170D...|0.045864722114427825|\n",
      "|F1D1DBF782928F95C...|0075F75D76C5B170D...|0.047173736570948144|\n",
      "|2028D03B8279B01F7...|0075F75D76C5B170D...|0.047167649112566434|\n",
      "|300CB64488B78F4DC...|0075F75D76C5B170D...| 0.04735638672020226|\n",
      "|A3BC0B05E7E996719...|0075FF44405850A51...|  0.0475880349425003|\n",
      "|84F083DA7597A2A5D...|0075FF44405850A51...| 0.04778746663341216|\n",
      "|77DE673D25E4D5E00...|0075FF44405850A51...|  0.0457270508044435|\n",
      "|1B4EA79BAD9F1F9E1...|0075FF44405850A51...| 0.04798111622400514|\n",
      "|F92ED19B36F38AB48...|0075FF44405850A51...|0.045015851861804235|\n",
      "+--------------------+--------------------+--------------------+\n",
      "only showing top 100 rows\n",
      "\n"
     ]
    }
   ],
   "source": [
    "predictions_rtWithCmt = spark.read.csv(\"test_predictions_files/rtWithCmt.csv\")\n",
    "predictions_rtWithCmt.show(100)"
   ]
  },
  {
   "cell_type": "code",
   "execution_count": 7,
   "metadata": {},
   "outputs": [],
   "source": [
    "temp_df = predictions_reply"
   ]
  },
  {
   "cell_type": "code",
   "execution_count": 8,
   "metadata": {},
   "outputs": [],
   "source": [
    "temp_df = temp_df.withColumnRenamed(\"_c0\", \"Tweet_id\")\n",
    "temp_df = temp_df.withColumnRenamed(\"_c1\", \"User_id\")\n",
    "temp_df = temp_df.withColumnRenamed(\"_c2\", \"prediction_reply\")\n",
    "#temp_df.show()"
   ]
  },
  {
   "cell_type": "code",
   "execution_count": 9,
   "metadata": {},
   "outputs": [],
   "source": [
    "cond  = [((temp_df.Tweet_id == predictions_retweet._c0) &\\\n",
    "         (temp_df.User_id == predictions_retweet._c1))]\n",
    "joined_df = temp_df.join(predictions_retweet, on=cond, how=\"inner\")\n",
    "#joined_df = joined_df.dropDuplicates()\n",
    "#joined_df.show()"
   ]
  },
  {
   "cell_type": "code",
   "execution_count": 10,
   "metadata": {},
   "outputs": [],
   "source": [
    "joined_df = joined_df.drop(\"_c0\")\n",
    "joined_df = joined_df.drop(\"_c1\")\n",
    "joined_df = joined_df.withColumnRenamed(\"_c2\", \"prediction_retweet\")"
   ]
  },
  {
   "cell_type": "code",
   "execution_count": 27,
   "metadata": {},
   "outputs": [],
   "source": [
    "#joined_df.show(20)"
   ]
  },
  {
   "cell_type": "code",
   "execution_count": 11,
   "metadata": {},
   "outputs": [],
   "source": [
    "cond  = [((joined_df.Tweet_id == predictions_rtWithCmt._c0) &\\\n",
    "         (joined_df.User_id == predictions_rtWithCmt._c1))]\n",
    "joined_df = joined_df.join(predictions_rtWithCmt, on=cond, how=\"inner\")\n",
    "#joined_df = joined_df.dropDuplicates()\n",
    "joined_df = joined_df.drop(\"_c0\")\n",
    "joined_df = joined_df.drop(\"_c1\")\n",
    "joined_df = joined_df.withColumnRenamed(\"_c2\", \"prediction_quote\")"
   ]
  },
  {
   "cell_type": "code",
   "execution_count": 74,
   "metadata": {},
   "outputs": [
    {
     "name": "stdout",
     "output_type": "stream",
     "text": [
      "+--------------------+--------------------+--------------------+-------------------+--------------------+\n",
      "|            Tweet_id|             User_id|    prediction_reply| prediction_retweet|    prediction_quote|\n",
      "+--------------------+--------------------+--------------------+-------------------+--------------------+\n",
      "|000129F2BF0B74A1E...|4339301AC5BFC3F37...| 0.04800772672496356|0.10749922788703603|0.047173736570948144|\n",
      "|000191EA7911E5B43...|3523C34B140D508F0...| 0.04618672299705029|0.19187498406085923| 0.04735638672020226|\n",
      "|0001D475BBCCE211B...|FE196989470A0CA72...| 0.04800772672496356|0.10706793820421268| 0.04735638672020226|\n",
      "|00048BD1BE4209415...|A32EC08B0064A7EC1...| 0.04800772672496356|0.11181933688732715|0.047173736570948144|\n",
      "|000515EFC361198B6...|5B87D45BE5300C4B6...| 0.07663721560136882|0.08934169359495447| 0.04772822858762549|\n",
      "|00089985F7A8EEDEB...|088E0EF86D4D73AE3...| 0.06617818859379576|0.13512003209771428| 0.04671832016479838|\n",
      "|0008B9FB982F50801...|2BABECE50A8C09E5A...| 0.04617753087428289|0.15392532266688297| 0.04735638672020226|\n",
      "|0008D6A4DD72E6919...|4323FDFAEB0DFECBB...| 0.06617818859379576|0.07049394448861357| 0.04685422776527537|\n",
      "|00097850B8C02466C...|CA71E889828143752...|0.047207670089573606| 0.0977332681010763|0.045918317412843024|\n",
      "|0009B36E26C44DB22...|1B9C72C0B7CABA2A5...|  0.0727596755672939|0.09884767971744257|0.047414159677965695|\n",
      "|0009E858AA3B692DC...|0248EA267DA7B9946...| 0.05238254409537291|0.09642223765627767| 0.04809649037996888|\n",
      "|000C37E98AB0760B3...|C0133D0F8057F1380...| 0.04621047906681486|0.06333653120599037|0.045460854691220076|\n",
      "|000CD893D8BC2076F...|782815A3E3C373CC6...| 0.05469762505354692|0.08429298247169636|  0.0479111028715542|\n",
      "|000D3822D52717B17...|E23B1724E6A76C078...| 0.05677679322769913|0.10271630911165885| 0.04732905412598731|\n",
      "|000D5FEBE3A0F6114...|2072D0BC3EC2E691B...| 0.06284515585805484|0.12171356267088373| 0.04722748237590524|\n",
      "|000DA5AAFBD3B8D4C...|2D52F87CD4993ECFC...| 0.05996951605419665|0.09271904320307978|0.047183741518095346|\n",
      "|000EDD1D8CE64952C...|2A6BB3A7A140E559F...| 0.08175706122157911|0.09388805485975893| 0.04718004882701643|\n",
      "|000F229F0F366BF6C...|016F8C9DD6A197DFB...|0.055680771903841686|0.09227900510801224|0.047822167347886024|\n",
      "|0012648CD71EAE564...|89DD6E5CC5923A12A...| 0.04645305766176244|0.11149256271673824| 0.04735638672020226|\n",
      "|0012C403EC0430E48...|FC334CC6C6F12EE0D...|0.061368829057083074|0.12111437867515762|0.047703210625838044|\n",
      "+--------------------+--------------------+--------------------+-------------------+--------------------+\n",
      "only showing top 20 rows\n",
      "\n"
     ]
    }
   ],
   "source": [
    "#joined_df.show(20)"
   ]
  },
  {
   "cell_type": "code",
   "execution_count": 12,
   "metadata": {},
   "outputs": [],
   "source": [
    "cond  = [((joined_df.Tweet_id == predictions_like._c0) &\\\n",
    "         (joined_df.User_id == predictions_like._c1))]\n",
    "joined_df = joined_df.join(predictions_like, on=cond, how=\"inner\")\n",
    "#joined_df = joined_df.dropDuplicates()\n",
    "joined_df = joined_df.drop(\"_c0\")\n",
    "joined_df = joined_df.drop(\"_c1\")\n",
    "joined_df = joined_df.withColumnRenamed(\"_c2\", \"prediction_fav\")"
   ]
  },
  {
   "cell_type": "code",
   "execution_count": 13,
   "metadata": {},
   "outputs": [
    {
     "name": "stdout",
     "output_type": "stream",
     "text": [
      "+--------------------+--------------------+--------------------+-------------------+--------------------+-------------------+\n",
      "|            Tweet_id|             User_id|    prediction_reply| prediction_retweet|    prediction_quote|     prediction_fav|\n",
      "+--------------------+--------------------+--------------------+-------------------+--------------------+-------------------+\n",
      "|000428396565FF0FD...|96EC3459C793AD540...|  0.0876354779202565| 0.0724630243020643| 0.04729374436278311| 0.4900845901724279|\n",
      "|00042B40304094BBA...|E95926324937C72ED...| 0.06284515585805484|0.08419566813899437| 0.04733010256247461| 0.5104820632819627|\n",
      "|0005531EBD7B938A0...|BFC149E9339C059B6...| 0.07187680082067782|0.09567667761808751| 0.04681001576063082| 0.4810394547809559|\n",
      "|00066DA903B3D1890...|285ADC2746EFE928F...| 0.08046115835356793|0.07675248000203094| 0.04700271728404104| 0.4884996557510254|\n",
      "|000685FFA6E6BA272...|1A6DEF48D8FA45D9B...|0.056257534711669055| 0.0910144254667512|0.047779154315225836| 0.2573794806698668|\n",
      "|0006FBB2437A14FE4...|3689DF7EE825F0DDA...|0.056798621154909745|0.08714533108721878| 0.04758028917440027|0.21862500671152651|\n",
      "|000733959ADDEE176...|9E46DC5507B78D511...| 0.04552852918976835|0.23296187360857312|  0.0457136871484336| 0.1772474921287832|\n",
      "|0007D4D4D9A83081C...|C78857AD02AB34F7F...|0.056937661003149564|0.08235426523944611|0.047580935143997305|0.21377113373378454|\n",
      "|0007E220CE225F6BE...|6677371303C53F905...|0.056257534711669055|0.09119263709483982|0.047580935143997305| 0.2808605449168916|\n",
      "|0008FF5D954FABB33...|7273BA28D4A3C246C...|0.055680771903841686| 0.0902625629193754| 0.04783916592824422|  0.563324903939308|\n",
      "|0009596E36A37558F...|7656B751E3C74D725...|0.055680771903841686|0.09351390192457099| 0.04763385305888057| 0.5436579078152811|\n",
      "|0009CBA5407CAE3F5...|6DEB5D1D0A6A51A1B...|  0.0727596755672939|0.09086975210247838| 0.04791287691601809| 0.6348152583720275|\n",
      "|0009F597748490685...|44B64E2B3157D0B70...|0.055680771903841686|0.09119263709483982| 0.04748525654007041| 0.5662317622726565|\n",
      "|000D2186F29E9F743...|CA6521373FBA13DD7...|  0.0727596755672939|0.08934169359495447| 0.04772822858762549|  0.636009175418941|\n",
      "|000E170BC45A69D56...|3DB42FE9BE90C942C...| 0.07663721560136882|0.20003793510443935| 0.04791287691601809| 0.5434728031871929|\n",
      "|000E4DC8F35AE2239...|A9C769D87FB874290...| 0.05680462165122169|0.12079188755474213|0.047293468352072154| 0.3552766720132986|\n",
      "|000EE41FACF65CD67...|BD0C71B2A75A73FAF...| 0.04609670083956374|0.10749922788703603| 0.04735638672020226|0.35042167514556155|\n",
      "|000EF4162AA662831...|EC7CD1FE8EC069C15...| 0.05220458909940562|0.07726144547699632|  0.0454040487364471|0.33994095778897127|\n",
      "|000FC8A790FAE5118...|E243F27161D115626...| 0.05533461205857615|0.07455677431103747| 0.04728483938805794|0.25311207317073625|\n",
      "|00114B39A1E46C953...|E454B9EA3895CA099...| 0.04645305766176244|0.16236745006650588| 0.04735638672020226|  0.234042779268965|\n",
      "+--------------------+--------------------+--------------------+-------------------+--------------------+-------------------+\n",
      "only showing top 20 rows\n",
      "\n"
     ]
    }
   ],
   "source": [
    "joined_df.show(20)"
   ]
  },
  {
   "cell_type": "code",
   "execution_count": 37,
   "metadata": {},
   "outputs": [
    {
     "name": "stdout",
     "output_type": "stream",
     "text": [
      "+--------------------+--------------------+--------------------+-------------------+--------------------+-------------------+\n",
      "|            Tweet_id|             User_id|    prediction_reply| prediction_retweet|    prediction_quote|     prediction_fav|\n",
      "+--------------------+--------------------+--------------------+-------------------+--------------------+-------------------+\n",
      "|000428396565FF0FD...|96EC3459C793AD540...|  0.0876354779202565| 0.0724630243020643| 0.04729374436278311| 0.4900845901724279|\n",
      "|00042B40304094BBA...|E95926324937C72ED...| 0.06284515585805484|0.08419566813899437| 0.04733010256247461| 0.5104820632819627|\n",
      "|0005531EBD7B938A0...|BFC149E9339C059B6...| 0.07187680082067782|0.09567667761808751| 0.04681001576063082| 0.4810394547809559|\n",
      "|00066DA903B3D1890...|285ADC2746EFE928F...| 0.08046115835356793|0.07675248000203094| 0.04700271728404104| 0.4884996557510254|\n",
      "|000685FFA6E6BA272...|1A6DEF48D8FA45D9B...|0.056257534711669055| 0.0910144254667512|0.047779154315225836| 0.2573794806698668|\n",
      "|0006FBB2437A14FE4...|3689DF7EE825F0DDA...|0.056798621154909745|0.08714533108721878| 0.04758028917440027|0.21862500671152651|\n",
      "|000733959ADDEE176...|9E46DC5507B78D511...| 0.04552852918976835|0.23296187360857312|  0.0457136871484336| 0.1772474921287832|\n",
      "|0007D4D4D9A83081C...|C78857AD02AB34F7F...|0.056937661003149564|0.08235426523944611|0.047580935143997305|0.21377113373378454|\n",
      "|0007E220CE225F6BE...|6677371303C53F905...|0.056257534711669055|0.09119263709483982|0.047580935143997305| 0.2808605449168916|\n",
      "|0008FF5D954FABB33...|7273BA28D4A3C246C...|0.055680771903841686| 0.0902625629193754| 0.04783916592824422|  0.563324903939308|\n",
      "|0009596E36A37558F...|7656B751E3C74D725...|0.055680771903841686|0.09351390192457099| 0.04763385305888057| 0.5436579078152811|\n",
      "|0009CBA5407CAE3F5...|6DEB5D1D0A6A51A1B...|  0.0727596755672939|0.09086975210247838| 0.04791287691601809| 0.6348152583720275|\n",
      "|0009F597748490685...|44B64E2B3157D0B70...|0.055680771903841686|0.09119263709483982| 0.04748525654007041| 0.5662317622726565|\n",
      "|000D2186F29E9F743...|CA6521373FBA13DD7...|  0.0727596755672939|0.08934169359495447| 0.04772822858762549|  0.636009175418941|\n",
      "|000E170BC45A69D56...|3DB42FE9BE90C942C...| 0.07663721560136882|0.20003793510443935| 0.04791287691601809| 0.5434728031871929|\n",
      "|000E4DC8F35AE2239...|A9C769D87FB874290...| 0.05680462165122169|0.12079188755474213|0.047293468352072154| 0.3552766720132986|\n",
      "|000EE41FACF65CD67...|BD0C71B2A75A73FAF...| 0.04609670083956374|0.10749922788703603| 0.04735638672020226|0.35042167514556155|\n",
      "|000EF4162AA662831...|EC7CD1FE8EC069C15...| 0.05220458909940562|0.07726144547699632|  0.0454040487364471|0.33994095778897127|\n",
      "|000FC8A790FAE5118...|E243F27161D115626...| 0.05533461205857615|0.07455677431103747| 0.04728483938805794|0.25311207317073625|\n",
      "|00114B39A1E46C953...|E454B9EA3895CA099...| 0.04645305766176244|0.16236745006650588| 0.04735638672020226|  0.234042779268965|\n",
      "+--------------------+--------------------+--------------------+-------------------+--------------------+-------------------+\n",
      "only showing top 20 rows\n",
      "\n"
     ]
    }
   ],
   "source": [
    "joined_df.show(20)"
   ]
  },
  {
   "cell_type": "code",
   "execution_count": 38,
   "metadata": {},
   "outputs": [
    {
     "name": "stdout",
     "output_type": "stream",
     "text": [
      "Final Predictions are being written in csv file...\n"
     ]
    }
   ],
   "source": [
    "print(\"Final Predictions are being written in csv file...\")\n",
    "joined_df.write.csv(\"test_results.csv\")"
   ]
  },
  {
   "cell_type": "code",
   "execution_count": 3,
   "metadata": {},
   "outputs": [
    {
     "name": "stdout",
     "output_type": "stream",
     "text": [
      "+--------------------+--------------------+--------------------+-------------------+--------------------+-------------------+\n",
      "|                 _c0|                 _c1|                 _c2|                _c3|                 _c4|                _c5|\n",
      "+--------------------+--------------------+--------------------+-------------------+--------------------+-------------------+\n",
      "|000243298D7BAC319...|A89CE1B865A6F6392...| 0.04645305766176244|0.11202179478489949| 0.04735638672020226|0.25432497491757833|\n",
      "|00025F213DF4A875F...|D724BFAE8127B1A84...| 0.05816019898645741|0.11882749945144944|0.047402793595806014|0.48996733719125296|\n",
      "|0002CFA949BB59468...|DC42EF2C70ECB645F...| 0.06182829866857009|0.08335639091388658| 0.04718004882701643|0.49904730942565245|\n",
      "|0004648E7A56729A1...|A2213022B45858FD0...| 0.05848490623411706|0.08280405981451766|  0.0474457448179616| 0.5047309421412041|\n",
      "|0006AE9DCE7FFE0A2...|3354DC2062B6F0FB2...| 0.05677679322769913|0.09133301298484142| 0.04761532336920227| 0.5598468301874787|\n",
      "|000822ED9F458CB0E...|3E2A2BF66DAD55319...| 0.06272020520478205|0.11739974830565936| 0.04797035755441381| 0.5292012642327626|\n",
      "|000881DE2E86CD55A...|EEED0FE07B3D3916C...| 0.05677679322769913|0.09351390192457099| 0.04763385305888057| 0.5447144020032083|\n",
      "|0008BC35ABBA1D84B...|D93B46EFC38844F84...|0.047764899270697714| 0.1143017787614411| 0.04645064604375648|0.22715413258829542|\n",
      "|000AFCAA69C838DB2...|1C19CC43E411C90D0...|0.047207670089573606| 0.1060226756618462|0.045918317412843024|0.19617283880917247|\n",
      "|000BCF4ABBB5F652A...|41D4FDFB29ADB3A3D...| 0.05258079545241823|0.08076122781670036|0.045679986872051326| 0.3322219727139917|\n",
      "|000BD160B4235590B...|BD57FBF235049F53C...|0.046543741791397975|0.10813831584829947| 0.04735638672020226| 0.2781007119369555|\n",
      "|000CF55F6B44D47CC...|1487EFD1FDC005FFB...| 0.04645305766176244| 0.1150826575545113|0.047322069792025134| 0.2712895571871401|\n",
      "|000D7E9720EC0721C...|2C2DDECB71792C64B...|  0.0727596755672939| 0.0927570308582708| 0.04764791679875302| 0.5951031071585853|\n",
      "|000DA2C9BB65E8AD3...|BCA3260D080462E85...|  0.0727596755672939|0.12145376237972272|  0.0474457448179616|0.47387614210776485|\n",
      "|000E76FC1605416F3...|F75E5ED23A42E8EC9...| 0.06272020520478205|0.11981810793233327|0.047672816813170704| 0.5525873135260025|\n",
      "|000F28C05BDFDAD44...|BADD77DC0A6B694D5...|0.052089583929678884|0.08859666497147667| 0.04781093414101323|0.43406275475636247|\n",
      "|000F3D9A41F15CA2F...|DDB0B29773AD8FEAA...|0.058895926697602796|0.10281271782042423|0.047718730797565945| 0.4365049099431524|\n",
      "|000FAC57378D580C1...|BD033DC28BD03D61E...| 0.04646958441198268|0.10085376163725202| 0.04589470599393097|0.18324477853852728|\n",
      "|0010AD6A758C04133...|943110F48B74F9DEB...| 0.04800772672496356|0.19922605128213422|0.047167649112566434| 0.2290263373034339|\n",
      "|0010EA3150F020D7C...|9888C72D2B8DA3692...|0.053475249870010066|0.09116300546779066| 0.04720746722570801| 0.3271198821641611|\n",
      "+--------------------+--------------------+--------------------+-------------------+--------------------+-------------------+\n",
      "only showing top 20 rows\n",
      "\n"
     ]
    }
   ],
   "source": [
    "final_csv = spark.read.csv(\"test_results.csv\")\n",
    "final_csv.show(20)"
   ]
  },
  {
   "cell_type": "code",
   "execution_count": 82,
   "metadata": {},
   "outputs": [
    {
     "name": "stdout",
     "output_type": "stream",
     "text": [
      "+--------------------+--------------------+--------------------+-------------------+--------------------+-------------------+\n",
      "|                 _c0|                 _c1|                 _c2|                _c3|                 _c4|                _c5|\n",
      "+--------------------+--------------------+--------------------+-------------------+--------------------+-------------------+\n",
      "|0002A30185D204089...|F023DD79369EBFA62...| 0.04621495333583381|0.11137461643942104|  0.0468412697154349|0.28004691260405146|\n",
      "|0002AC744F56A42DB...|237A2A9737CD463E3...| 0.05972001725515075|0.09442716624353065| 0.04710385096395053| 0.5198177994020081|\n",
      "|000370453E99CA997...|60F2A07CB900AA316...|  0.0464273056590937|0.10961205634752147| 0.04735638672020226|0.34370923922945584|\n",
      "|0003E60DA8F1E79FA...|760D200824C1950E0...| 0.05714345557718059|0.08469361891012006| 0.04752055404377131| 0.2296259431384451|\n",
      "|0004FEB5088C5E9AC...|CCC502A9FDC5978AF...| 0.05996951605419665| 0.0910144254667512|0.047211874458035985| 0.5195418139955906|\n",
      "|0007E3FA75DD9666E...|C60DEC680B73E605F...| 0.05700565274710234|0.07842444817232075|0.047000832875601084| 0.5142375221075581|\n",
      "|0008A37249E15D880...|AB8D6D877B9614F6C...| 0.05678969116773902|0.07286832009517774|0.046048264066535394|0.32448996691648924|\n",
      "|0009D9E2F07D74043...|315D3FB5BA728CEE3...|0.046543741791397975|0.16236745006650588| 0.04735638672020226|0.22994656045081618|\n",
      "|000B19C16CEAEB2A7...|484072C287447328F...|0.047421526783657963|0.10788910121321826| 0.04735638672020226|  0.277634000881509|\n",
      "|000B3D6B14ADCA145...|D38600D653BC86745...| 0.05768554990560937|0.09409804292693891|0.046048264066535394| 0.3322176247690255|\n",
      "|000BBDE6D768D7394...|3936D95A04620C4F4...|0.045856343297560276|0.10677733904780407|0.046758658871762004|0.28297564692952315|\n",
      "|000EF4162AA662831...|610A97F27578F56D2...| 0.05220458909940562|0.07726144547699632|  0.0454040487364471|0.33994095778897127|\n",
      "|000F197011B5B6BF4...|7EAE4C3A8FFC93CF4...|0.052208828021977016|0.08859666497147667| 0.04772166746031237|0.46534643736175885|\n",
      "|0011C022203A27C25...|E634EC7ADD9B314DC...| 0.07663721560136882|0.09256323706574743| 0.04772822858762549| 0.5703364328824472|\n",
      "|001223438540A08A2...|6E79040FC63BD4A98...|  0.0727596755672939| 0.0978795081279159| 0.04783916592824422| 0.6205952721484302|\n",
      "|00126750792E271F6...|8213DB7CEC80EB290...|0.059096363224597104|0.16663285868998645| 0.04675124437794298|0.43848220900492074|\n",
      "|0013AF2782D785B00...|D26F78B1673F9BEDF...| 0.07663721560136882|0.08950863910769968| 0.04721632395240738| 0.5046380629598582|\n",
      "|0014D159959F6A85C...|2BFF87F748395321F...| 0.04645305766176244|0.10706793820421268|0.047173736570948144|0.26214339695973565|\n",
      "|0017B99223C5A969F...|8015902F8CE409F92...|  0.0727596755672939|0.09256323706574743| 0.04748525654007041| 0.5651451668988935|\n",
      "|001852F710523EFF2...|9D71090BBF391D8E4...|  0.0464273056590937|0.11026215336736367| 0.04735638672020226| 0.3380078370772882|\n",
      "+--------------------+--------------------+--------------------+-------------------+--------------------+-------------------+\n",
      "only showing top 20 rows\n",
      "\n"
     ]
    }
   ],
   "source": [
    "final_csv = spark.read.csv(\"final_predictions.csv\")\n",
    "final_csv.show(20)"
   ]
  },
  {
   "cell_type": "code",
   "execution_count": 15,
   "metadata": {},
   "outputs": [
    {
     "name": "stdout",
     "output_type": "stream",
     "text": [
      "Final Predictions are being written in csv file...\n"
     ]
    }
   ],
   "source": [
    "print(\"Final Predictions are being written in csv file...\")\n",
    "joined_df.coalesce(1).write.csv('result.csv')"
   ]
  },
  {
   "cell_type": "code",
   "execution_count": null,
   "metadata": {},
   "outputs": [],
   "source": []
  }
 ],
 "metadata": {
  "kernelspec": {
   "display_name": "Python 3",
   "language": "python",
   "name": "python3"
  },
  "language_info": {
   "codemirror_mode": {
    "name": "ipython",
    "version": 3
   },
   "file_extension": ".py",
   "mimetype": "text/x-python",
   "name": "python",
   "nbconvert_exporter": "python",
   "pygments_lexer": "ipython3",
   "version": "3.8.5"
  }
 },
 "nbformat": 4,
 "nbformat_minor": 4
}

{
 "cells": [
  {
   "cell_type": "code",
   "execution_count": 1,
   "metadata": {},
   "outputs": [],
   "source": [
    "import pyspark\n",
    "from pyspark import SparkContext\n",
    "from pyspark.sql import SQLContext\n",
    "from pyspark.sql import functions as F\n",
    "from pyspark.sql import types as T\n",
    "from pyspark.sql import Row\n",
    "from pyspark.sql.window import Window\n",
    "\n",
    "\n",
    "conf = pyspark.SparkConf()\n",
    "conf.setMaster(\"local\").setAppName(\"test\").set(\"spark.local.dir\", \"tmp/spark\")\n",
    "SparkContext.setSystemProperty('spark.driver.memory','16g')\n",
    "SparkContext.setSystemProperty('spark.executor.memory','16g')\n",
    "sc = pyspark.SparkContext(conf=conf)\n",
    "#SparkConf conf = new SparkConf().setMaster(\"local”).setAppName(\"test”).set(\"spark.local.dir\", \"/tmp/spark-temp\");\n",
    "\n",
    "#sc = SparkContext(\"local\", \"App Name\")\n",
    "spark = SQLContext(sc)"
   ]
  },
  {
   "cell_type": "code",
   "execution_count": 2,
   "metadata": {},
   "outputs": [],
   "source": [
    "from transformers import BertTokenizer\n",
    "tokenizer = BertTokenizer.from_pretrained('bert-base-multilingual-cased', do_lower_case=False)\n",
    "\n",
    "@F.udf(\"String\")\n",
    "def decode_tokens(tokens):\n",
    "  return tokenizer.decode(tokens)"
   ]
  },
  {
   "cell_type": "code",
   "execution_count": null,
   "metadata": {},
   "outputs": [],
   "source": [
    "read_training_parquet = \"parquet_files/training_df.parquet\"\n",
    "training_df = spark.read.parquet(read_training_parquet)"
   ]
  },
  {
   "cell_type": "code",
   "execution_count": null,
   "metadata": {},
   "outputs": [],
   "source": [
    "training_dataset = training_df\\\n",
    ".withColumn(\"reply\", F.when(F.col(\"reply_engagement_timestamp\").isNull(), 0).otherwise(1))\\\n",
    ".withColumn(\"retweet\", F.when(F.col(\"retweet_engagement_timestamp\").isNull(), 0).otherwise(1))\\\n",
    ".withColumn(\"retweet_with_comment\", F.when(F.col(\"retweet_with_comment_engagement_timestamp\").isNull(), 0).otherwise(1))\\\n",
    ".withColumn(\"like\", F.when(F.col(\"like_engagement_timestamp\").isNull(), 0).otherwise(1))\\\n",
    ".select(\"tweet_id\", \"engager_user_id\", \"engagee_user_id\", \"reply\", \"retweet\", \"retweet_with_comment\", \"like\")"
   ]
  },
  {
   "cell_type": "code",
   "execution_count": null,
   "metadata": {},
   "outputs": [],
   "source": [
    "#unique tweets\n",
    "\n",
    "training_tweets = training_df.dropDuplicates([\"tweet_id\"])\\\n",
    ".select(\"tweet_id\",\n",
    "        decode_tokens(F.col(\"text_tokens\")).alias(\"text\"),\n",
    "        \"tweet_type\",\n",
    "        \"language\",\n",
    "        F.hour(F.to_timestamp(\"timestamp\")).alias(\"hour_tweet\"),\n",
    "        F.size(\"text_tokens\").alias(\"num_tokens\"),\n",
    "        F.when(F.col(\"hashtags\").isNull(), 0).otherwise(1).alias(\"has_hashtags\"),\n",
    "        F.when(F.col(\"present_media\").isNull(), 0).otherwise(1).alias(\"has_media\"), \n",
    "        F.when(F.col(\"present_links\").isNull(), 0).otherwise(1).alias(\"has_links\"))"
   ]
  },
  {
   "cell_type": "code",
   "execution_count": null,
   "metadata": {},
   "outputs": [],
   "source": [
    "tweet_in_top_hashtag_daily = training_df\\\n",
    ".dropDuplicates([\"tweet_id\"])\\\n",
    ".select(\"tweet_id\", \"timestamp\", F.explode(\"hashtags\").alias(\"hashtags_exploded\"))\\\n",
    ".withColumn(\"hashtag_duration\", F.max(\"timestamp\").over(Window.partitionBy(\"hashtags_exploded\")))\\\n",
    ".withColumn(\"hashtag_duration\", F.col(\"hashtag_duration\") - F.min(\"timestamp\").over(Window.partitionBy(\"hashtags_exploded\")))\\\n",
    ".withColumn(\"hashtag_duration2\", F.col(\"hashtag_duration\") / (24*3600))\\\n",
    ".withColumn(\"hashtag_duration3\", F.round(\"hashtag_duration2\"))\\\n",
    ".withColumn(\"is_in_top_daily_hashtags\", F.when( ((F.col(\"hashtag_duration3\") > 0) & (F.abs(F.col(\"hashtag_duration3\") - F.col(\"hashtag_duration2\")) < 0.007)), 1).otherwise(0))\\\n",
    ".select(\"tweet_id\", \"is_in_top_daily_hashtags\")\\\n",
    ".groupBy(\"tweet_id\").agg(F.max(\"is_in_top_daily_hashtags\").alias(\"is_in_top_daily_hashtags\"))"
   ]
  },
  {
   "cell_type": "code",
   "execution_count": null,
   "metadata": {},
   "outputs": [],
   "source": [
    "#concatenate matrices\n",
    "training_tweets = training_tweets.join(tweet_in_top_hashtag_daily, \"tweet_id\", \"left_outer\")\\\n",
    ".withColumn(\"is_in_top_daily_hashtags\", F.when(F.col(\"is_in_top_daily_hashtags\").isNull(), 0).otherwise(F.col(\"is_in_top_daily_hashtags\")))"
   ]
  },
  {
   "cell_type": "code",
   "execution_count": null,
   "metadata": {},
   "outputs": [],
   "source": [
    "tweet_in_top_link_daily =  training_df\\\n",
    ".dropDuplicates([\"tweet_id\"])\\\n",
    ".select(\"tweet_id\", \"timestamp\", F.explode(\"present_links\").alias(\"present_links_exploded\"))\\\n",
    ".withColumn(\"link_duration\", F.max(\"timestamp\").over(Window.partitionBy(\"present_links_exploded\")))\\\n",
    ".withColumn(\"link_duration\", F.col(\"link_duration\") - F.min(\"timestamp\").over(Window.partitionBy(\"present_links_exploded\")))\\\n",
    ".withColumn(\"link_duration2\", F.col(\"link_duration\") / (24*3600))\\\n",
    ".withColumn(\"link_duration3\", F.round(\"link_duration2\"))\\\n",
    ".withColumn(\"is_in_top_daily_links\", F.when( ((F.col(\"link_duration3\") > 0) & (F.abs(F.col(\"link_duration3\") - F.col(\"link_duration2\")) < 0.007)), 1).otherwise(0))\\\n",
    ".select(\"tweet_id\", \"is_in_top_daily_links\")\\\n",
    ".groupBy(\"tweet_id\").agg(F.max(\"is_in_top_daily_links\").alias(\"is_in_top_daily_links\"))"
   ]
  },
  {
   "cell_type": "code",
   "execution_count": null,
   "metadata": {},
   "outputs": [],
   "source": [
    "#concatenate matrices\n",
    "training_tweets = training_tweets.join(tweet_in_top_link_daily, \"tweet_id\", \"left_outer\")\\\n",
    ".withColumn(\"is_in_top_daily_links\", F.when(F.col(\"is_in_top_daily_links\").isNull(), 0).otherwise(F.col(\"is_in_top_daily_links\")))"
   ]
  },
  {
   "cell_type": "code",
   "execution_count": null,
   "metadata": {},
   "outputs": [],
   "source": [
    "from pyspark.ml import Pipeline, PipelineModel\n",
    "from pyspark.ml.feature import VectorAssembler\n",
    "\n",
    "#load feature models\n",
    "create_tweet_features_model = \"/media/user2/TOSHIBA EXT/code/models/create_tweets_features.model\"\n",
    "create_tweet_features = PipelineModel.load(create_tweet_features_model)\n",
    "engager_user_features_model = \"/media/user2/TOSHIBA EXT/code/models/create_engager_user_features.model\"\n",
    "engager_user_features = PipelineModel.load(engager_user_features_model)\n",
    "engagee_user_features_model = \"/media/user2/TOSHIBA EXT/code/models/create_engagee_user_features.model\"\n",
    "engagee_user_features = PipelineModel.load(engagee_user_features_model)\n",
    "\n",
    "\n",
    "#load parquets with features\n",
    "#training_tweets_parquet = \"/media/ioannis/B42E28422E27FBCC/Twitter_data_30-4-21/parquet_files/training_tweets.parquet\"\n",
    "tweet_features = training_tweets\n",
    "#transform two matrices (model, tweet features)\n",
    "tweet_features = create_tweet_features.transform(tweet_features).select(\"tweet_id\", \"tweet_features\")\n",
    "\n",
    "training_engager_user_df_parquet = (\"/media/user2/TOSHIBA EXT/code/parquet_files/training_engager_user_df.parquet\")\n",
    "engager_users_features = spark.read.parquet(training_engager_user_df_parquet)\n",
    "#transform two matrices(model, engager_users_features)\n",
    "engager_users_features = engager_user_features.transform(engager_users_features).select(\"engager_user_id\", \"engager_features\")\n",
    "\n",
    "training_engagee_user_df_parquet = (\"/media/user2/TOSHIBA EXT/code/parquet_files/training_engagee_user_df.parquet\")\n",
    "engagee_users_features = spark.read.parquet(training_engagee_user_df_parquet)\n",
    "#transform two matrices(model, engagee_users_features)\n",
    "engagee_users_features = engagee_user_features.transform(engagee_users_features).select(\"engagee_user_id\", \"engagee_features\")\n",
    "\n",
    "#concatenate matrices into training _dataset\n",
    "training_dataset = training_dataset.join(tweet_features, \"tweet_id\")\n",
    "training_dataset = training_dataset.join(engager_users_features, \"engager_user_id\")\n",
    "training_dataset = training_dataset.join(engagee_users_features, \"engagee_user_id\")"
   ]
  },
  {
   "cell_type": "code",
   "execution_count": null,
   "metadata": {},
   "outputs": [],
   "source": [
    "vectorAssemblerInputs = [\"tweet_features\", \"engager_features\", \"engagee_features\"]\n",
    "vectorAssembler = VectorAssembler(inputCols=vectorAssemblerInputs, outputCol=\"featuresAssembled\")\n",
    "training_dataset = vectorAssembler.transform(training_dataset).drop(*vectorAssemblerInputs)"
   ]
  },
  {
   "cell_type": "code",
   "execution_count": null,
   "metadata": {},
   "outputs": [],
   "source": [
    "training_dataset.show()"
   ]
  },
  {
   "cell_type": "code",
   "execution_count": null,
   "metadata": {},
   "outputs": [],
   "source": [
    "training_dataset_parquet = \"/media/user2/TOSHIBA EXT/code/parquet_files/training_dataset.parquet\"\n",
    "training_dataset.repartition(1).write.mode('overwrite').parquet(training_dataset_parquet)"
   ]
  },
  {
   "cell_type": "code",
   "execution_count": null,
   "metadata": {},
   "outputs": [],
   "source": [
    "training_dataset = spark.read.parquet(\"/media/user2/TOSHIBA EXT/code/parquet_files/training_dataset.parquet\") "
   ]
  },
  {
   "cell_type": "code",
   "execution_count": null,
   "metadata": {},
   "outputs": [],
   "source": [
    "training_dataset = training_dataset.persist(pyspark.StorageLevel.MEMORY_AND_DISK) "
   ]
  },
  {
   "cell_type": "code",
   "execution_count": null,
   "metadata": {},
   "outputs": [],
   "source": [
    "training_dataset.persist().is_cached"
   ]
  },
  {
   "cell_type": "code",
   "execution_count": null,
   "metadata": {},
   "outputs": [],
   "source": [
    "#gbt model for like\n",
    "from pyspark.ml.classification import GBTClassifier\n",
    "gbt_like_model = GBTClassifier(labelCol=\"like\", featuresCol=\"featuresAssembled\").fit(training_dataset)\n"
   ]
  },
  {
   "cell_type": "code",
   "execution_count": null,
   "metadata": {},
   "outputs": [],
   "source": [
    "gbt_like_model.save(\"/media/user2/TOSHIBA EXT/code/models/gbt_like.model\")"
   ]
  },
  {
   "cell_type": "code",
   "execution_count": null,
   "metadata": {},
   "outputs": [],
   "source": [
    "#gbt model for reply\n",
    "from pyspark.ml.classification import GBTClassifier\n",
    "gbt_reply_model = GBTClassifier(labelCol=\"reply\", featuresCol=\"featuresAssembled\").fit(training_dataset)\n",
    "gbt_reply_model.save(\"/media/user2/TOSHIBA EXT/code/models/gbt_reply\")"
   ]
  },
  {
   "cell_type": "code",
   "execution_count": null,
   "metadata": {},
   "outputs": [],
   "source": [
    "gbt_reply_model.save(\"/media/user2/TOSHIBA EXT/code/models/gbt_reply.model\")"
   ]
  },
  {
   "cell_type": "code",
   "execution_count": null,
   "metadata": {},
   "outputs": [],
   "source": [
    "#gbt model for retweet\n",
    "from pyspark.ml.classification import GBTClassifier\n",
    "\n",
    "gbt_retweet_model = GBTClassifier(labelCol=\"retweet\", featuresCol=\"featuresAssembled\").fit(training_dataset)\n",
    "gbt_retweet_model.save(\"/media/user2/TOSHIBA EXT/code/models/gbt_retweet.model\")"
   ]
  },
  {
   "cell_type": "code",
   "execution_count": null,
   "metadata": {},
   "outputs": [],
   "source": [
    "#gbt model for retweet with comment\n",
    "from pyspark.ml.classification import GBTClassifier\n",
    "\n",
    "gbt_rtWithCmt_model = GBTClassifier(labelCol=\"retweet_with_comment\", featuresCol=\"featuresAssembled\").fit(training_dataset)\n",
    "gbt_rtWithCmt_model.save(\"/media/user2/TOSHIBA EXT/code/models/gbt_rtWithCmt.model\")"
   ]
  },
  {
   "cell_type": "code",
   "execution_count": 3,
   "metadata": {},
   "outputs": [],
   "source": [
    "#read validation_dataset\n",
    "read_validation_parquet = \"parquet_files/validation_df.parquet\"\n",
    "validation_df =spark.read.parquet(read_validation_parquet)"
   ]
  },
  {
   "cell_type": "code",
   "execution_count": 4,
   "metadata": {},
   "outputs": [],
   "source": [
    "validation_tweets = validation_df.dropDuplicates([\"tweet_id\"])\\\n",
    ".select(\"tweet_id\",\n",
    "        decode_tokens(F.col(\"text_tokens\")).alias(\"text\"),\n",
    "        \"tweet_type\",\n",
    "        \"language\",\n",
    "        F.hour(F.to_timestamp(\"timestamp\")).alias(\"hour_tweet\"),\n",
    "        F.size(\"text_tokens\").alias(\"num_tokens\"),\n",
    "        F.when(F.col(\"hashtags\").isNull(), 0).otherwise(1).alias(\"has_hashtags\"),\n",
    "        F.when(F.col(\"present_media\").isNull(), 0).otherwise(1).alias(\"has_media\"), \n",
    "        F.when(F.col(\"present_links\").isNull(), 0).otherwise(1).alias(\"has_links\"))\n",
    "        \n",
    "tweet_is_in_top_daily_hashtag = validation_df\\\n",
    ".dropDuplicates([\"tweet_id\"])\\\n",
    ".select(\"tweet_id\", \"timestamp\", F.explode(\"hashtags\").alias(\"hashtags_exploded\"))\\\n",
    ".withColumn(\"hashtag_duration\", F.max(\"timestamp\").over(Window.partitionBy(\"hashtags_exploded\")))\\\n",
    ".withColumn(\"hashtag_duration\", F.col(\"hashtag_duration\") - F.min(\"timestamp\").over(Window.partitionBy(\"hashtags_exploded\")))\\\n",
    ".withColumn(\"hashtag_duration2\", F.col(\"hashtag_duration\") / (24*3600))\\\n",
    ".withColumn(\"hashtag_duration3\", F.round(\"hashtag_duration2\"))\\\n",
    ".withColumn(\"is_in_top_daily_hashtags\", F.when( ((F.col(\"hashtag_duration3\") > 0) & (F.abs(F.col(\"hashtag_duration3\") - F.col(\"hashtag_duration2\")) < 0.007)), 1).otherwise(0))\\\n",
    ".select(\"tweet_id\", \"is_in_top_daily_hashtags\")\\\n",
    ".groupBy(\"tweet_id\").agg(F.max(\"is_in_top_daily_hashtags\").alias(\"is_in_top_daily_hashtags\"))\n",
    "\n",
    "validation_tweets = validation_tweets.join(tweet_is_in_top_daily_hashtag, \"tweet_id\", \"left_outer\")\\\n",
    ".withColumn(\"is_in_top_daily_hashtags\", F.when(F.col(\"is_in_top_daily_hashtags\").isNull(), 0).otherwise(F.col(\"is_in_top_daily_hashtags\")))\n",
    "\n",
    "tweet_is_in_top_daily_link = validation_df\\\n",
    ".dropDuplicates([\"tweet_id\"])\\\n",
    ".select(\"tweet_id\", \"timestamp\", F.explode(\"present_links\").alias(\"present_links_exploded\"))\\\n",
    ".withColumn(\"link_duration\", F.max(\"timestamp\").over(Window.partitionBy(\"present_links_exploded\")))\\\n",
    ".withColumn(\"link_duration\", F.col(\"link_duration\") - F.min(\"timestamp\").over(Window.partitionBy(\"present_links_exploded\")))\\\n",
    ".withColumn(\"link_duration2\", F.col(\"link_duration\") / (24*3600))\\\n",
    ".withColumn(\"link_duration3\", F.round(\"link_duration2\"))\\\n",
    ".withColumn(\"is_in_top_daily_links\", F.when( ((F.col(\"link_duration3\") > 0) & (F.abs(F.col(\"link_duration3\") - F.col(\"link_duration2\")) < 0.007)), 1).otherwise(0))\\\n",
    ".select(\"tweet_id\", \"is_in_top_daily_links\")\\\n",
    ".groupBy(\"tweet_id\").agg(F.max(\"is_in_top_daily_links\").alias(\"is_in_top_daily_links\"))\n",
    "\n",
    "validation_tweets = validation_tweets.join(tweet_is_in_top_daily_link, \"tweet_id\", \"left_outer\")\\\n",
    ".withColumn(\"is_in_top_daily_links\", F.when(F.col(\"is_in_top_daily_links\").isNull(), 0).otherwise(F.col(\"is_in_top_daily_links\")))\n",
    "\n",
    "#validation_tweets.write.parquet(\"/media/user2/TOSHIBA EXT/code/parquet_files/validation_tweets.df\")"
   ]
  },
  {
   "cell_type": "code",
   "execution_count": 5,
   "metadata": {},
   "outputs": [],
   "source": [
    "validation_data = validation_df\\\n",
    ".select(\"tweet_id\", \"engager_user_id\", \"engagee_user_id\")\n",
    "\n",
    "from pyspark.ml import Pipeline, PipelineModel\n",
    "from pyspark.ml.feature import VectorAssembler\n",
    "\n",
    "create_tweet_features = PipelineModel.load(\"/media/user2/TOSHIBA EXT/code/models/create_tweets_features.model\")\n",
    "create_engager_user_features = PipelineModel.load(\"/media/user2/TOSHIBA EXT/code/models/create_engager_user_features.model\")\n",
    "create_engagee_user_features = PipelineModel.load(\"/media/user2/TOSHIBA EXT/code/models/create_engagee_user_features.model\")\n",
    "\n",
    "validation_features = validation_tweets\n",
    "validation_features = create_tweet_features.transform(validation_features).select(\"tweet_id\", \"tweet_features\")\n",
    "\n",
    "engager_features = spark.read.parquet(\"/media/user2/TOSHIBA EXT/code/parquet_files/validation_engager_user_df.parquet\")\n",
    "engager_features = create_engager_user_features.transform(engager_features).select(\"engager_user_id\", \"engager_features\")\n",
    "\n",
    "engagee_features = spark.read.parquet(\"/media/user2/TOSHIBA EXT/code/parquet_files/validation_engagee_user_df.parquet\")\n",
    "engagee_features = create_engagee_user_features.transform(engagee_features).select(\"engagee_user_id\", \"engagee_features\")\n",
    "\n",
    "validation_data = validation_data.join(validation_features, \"tweet_id\")\n",
    "validation_data = validation_data.join(engager_features, \"engager_user_id\")\n",
    "validation_data = validation_data.join(engagee_features, \"engagee_user_id\")\n",
    "\n",
    "assemblerInputs = [\"tweet_features\", \"engager_features\", \"engagee_features\"]\n",
    "assembler = VectorAssembler(inputCols=assemblerInputs, outputCol=\"featuresAssembled\")\n",
    "\n",
    "validation_data = assembler.transform(validation_data).drop(*assemblerInputs)\n",
    "validation_data.write.parquet(\"/media/user2/2.0 TB Hard Disk/parquet_files/validation_dataset.parquet\")"
   ]
  },
  {
   "cell_type": "code",
   "execution_count": 7,
   "metadata": {},
   "outputs": [],
   "source": [
    "#from pyspark.ml.classification import GBTClassifierModel\n",
    "\n",
    "\n",
    "validation_dataset = spark.read.parquet(\"/media/user2/2.0 TB Hard Disk/parquet_files/validation_dataset.parquet\")\n"
   ]
  },
  {
   "cell_type": "code",
   "execution_count": 8,
   "metadata": {},
   "outputs": [],
   "source": [
    "from pyspark.ml.classification import GBTClassificationModel\n",
    "gbt_like_model =  GBTClassificationModel.load(\"/media/user2/TOSHIBA EXT/code/models/gbt_like.model\")"
   ]
  },
  {
   "cell_type": "code",
   "execution_count": 9,
   "metadata": {},
   "outputs": [
    {
     "name": "stdout",
     "output_type": "stream",
     "text": [
      "Making predictions for like...\n",
      "Predictions is being written in csv file...\n"
     ]
    }
   ],
   "source": [
    "print(\"Making predictions for like...\")\n",
    "predictions = gbt_like_model.transform(validation_dataset)\n",
    "\n",
    "print(\"Predictions is being written in csv file...\")\n",
    "split1_udf = F.udf(lambda value: value[1].item(), T.DoubleType())\n",
    "predictions.select(\"tweet_id\", \"engagee_user_id\", split1_udf(\"probability\").alias(\"probability\"))\\\n",
    ".coalesce(1).write.csv(\"/media/user2/TOSHIBA EXT/code/validation_predictions/like.csv\")"
   ]
  },
  {
   "cell_type": "code",
   "execution_count": 10,
   "metadata": {},
   "outputs": [
    {
     "name": "stdout",
     "output_type": "stream",
     "text": [
      "Making predictions for reply...\n",
      "Predictions is being written in csv file...\n"
     ]
    }
   ],
   "source": [
    "from pyspark.ml.classification import GBTClassificationModel\n",
    "gbt_reply_model =  GBTClassificationModel.load(\"/media/user2/TOSHIBA EXT/code/models/gbt_reply.model\")\n",
    "print(\"Making predictions for reply...\")\n",
    "predictions = gbt_reply_model.transform(validation_dataset)\n",
    "\n",
    "print(\"Predictions is being written in csv file...\")\n",
    "split1_udf = F.udf(lambda value: value[1].item(), T.DoubleType())\n",
    "predictions.select(\"tweet_id\", \"engagee_user_id\", split1_udf(\"probability\").alias(\"probability\"))\\\n",
    ".coalesce(1).write.csv(\"/media/user2/TOSHIBA EXT/code/validation_predictions/reply.csv\")"
   ]
  },
  {
   "cell_type": "code",
   "execution_count": 11,
   "metadata": {},
   "outputs": [
    {
     "name": "stdout",
     "output_type": "stream",
     "text": [
      "Making predictions for retweet...\n",
      "Predictions is being written in csv file...\n"
     ]
    }
   ],
   "source": [
    "from pyspark.ml.classification import GBTClassificationModel\n",
    "gbt_retweet_model =  GBTClassificationModel.load(\"/media/user2/TOSHIBA EXT/code/models/gbt_retweet.model\")\n",
    "print(\"Making predictions for retweet...\")\n",
    "predictions = gbt_retweet_model.transform(validation_dataset)\n",
    "\n",
    "print(\"Predictions is being written in csv file...\")\n",
    "split1_udf = F.udf(lambda value: value[1].item(), T.DoubleType())\n",
    "predictions.select(\"tweet_id\", \"engagee_user_id\", split1_udf(\"probability\").alias(\"probability\"))\\\n",
    ".coalesce(1).write.csv(\"/media/user2/TOSHIBA EXT/code/validation_predictions/retweet.csv\")"
   ]
  },
  {
   "cell_type": "code",
   "execution_count": 12,
   "metadata": {},
   "outputs": [
    {
     "name": "stdout",
     "output_type": "stream",
     "text": [
      "Making predictions for retweet with comment...\n",
      "Predictions is being written in csv file...\n"
     ]
    }
   ],
   "source": [
    "from pyspark.ml.classification import GBTClassificationModel\n",
    "gbt_rtWithCmt_model =  GBTClassificationModel.load(\"/media/user2/TOSHIBA EXT/code/models/gbt_rtWithCmt.model\")\n",
    "print(\"Making predictions for retweet with comment...\")\n",
    "predictions = gbt_rtWithCmt_model.transform(validation_dataset)\n",
    "\n",
    "print(\"Predictions is being written in csv file...\")\n",
    "split1_udf = F.udf(lambda value: value[1].item(), T.DoubleType())\n",
    "predictions.select(\"tweet_id\", \"engagee_user_id\", split1_udf(\"probability\").alias(\"probability\"))\\\n",
    ".coalesce(1).write.csv(\"/media/user2/TOSHIBA EXT/code/validation_predictions/rtWithCmt.csv\")"
   ]
  },
  {
   "cell_type": "code",
   "execution_count": 3,
   "metadata": {},
   "outputs": [
    {
     "name": "stdout",
     "output_type": "stream",
     "text": [
      "+--------------------+--------------------+-------------------+\n",
      "|                 _c0|                 _c1|                _c2|\n",
      "+--------------------+--------------------+-------------------+\n",
      "|DDD2464CD01C7A920...|00018FD99A36EE543...| 0.3827995948768992|\n",
      "|DDD2464CD01C7A920...|00018FD99A36EE543...| 0.3827995948768992|\n",
      "|9FC3A951A0EA1C496...|000A4CCF1A34D7BE6...|0.21001613010480236|\n",
      "|9FC3A951A0EA1C496...|000A4CCF1A34D7BE6...|0.21001613010480236|\n",
      "|BB3CB2CEBE9D54A65...|000A4CCF1A34D7BE6...|0.22443539369484844|\n",
      "|BB3CB2CEBE9D54A65...|000A4CCF1A34D7BE6...|0.22443539369484844|\n",
      "|C3A0C323D0B2D7B06...|000B74EDD578FCCB2...|0.26801387822070866|\n",
      "|C3A0C323D0B2D7B06...|000B74EDD578FCCB2...|0.26801387822070866|\n",
      "|D2C43ABD7EC9E5256...|0012198A96E630C52...| 0.2282413304988088|\n",
      "|D2C43ABD7EC9E5256...|0012198A96E630C52...| 0.2282413304988088|\n",
      "|F39D7453AC49FDD32...|00168C70351B68498...| 0.4008637941622546|\n",
      "|F39D7453AC49FDD32...|00168C70351B68498...| 0.4008637941622546|\n",
      "|4795020CC0FF21157...|0016D891C54EDA443...| 0.5243385742957191|\n",
      "|4795020CC0FF21157...|0016D891C54EDA443...| 0.5243385742957191|\n",
      "|E1B50EA196FA06A7C...|0016D891C54EDA443...| 0.5989599846261665|\n",
      "|E1B50EA196FA06A7C...|0016D891C54EDA443...| 0.5989599846261665|\n",
      "|843F5D55A63809357...|0019CF48A0A9258A5...| 0.6330073454142247|\n",
      "|843F5D55A63809357...|0019CF48A0A9258A5...| 0.6330073454142247|\n",
      "|070239D77150FA5FD...|0019CF48A0A9258A5...| 0.4246215995139472|\n",
      "|070239D77150FA5FD...|0019CF48A0A9258A5...| 0.4246215995139472|\n",
      "|DE4B1AA5317BA057D...|0019CF48A0A9258A5...| 0.5701036157925474|\n",
      "|DE4B1AA5317BA057D...|0019CF48A0A9258A5...| 0.5701036157925474|\n",
      "|1AFE81E8F85721424...|0019CF48A0A9258A5...| 0.2446559397885133|\n",
      "|1AFE81E8F85721424...|0019CF48A0A9258A5...| 0.2446559397885133|\n",
      "|65C889C29EA2ADFAF...|0019CF48A0A9258A5...| 0.5097512534236105|\n",
      "|65C889C29EA2ADFAF...|0019CF48A0A9258A5...| 0.5097512534236105|\n",
      "|5550666F773DE435C...|0019D25F3F710107A...| 0.5153327045184409|\n",
      "|5550666F773DE435C...|0019D25F3F710107A...| 0.5153327045184409|\n",
      "|BE4AF7D441DA68D6C...|0019E74E537005A12...|0.30695557475065693|\n",
      "|BE4AF7D441DA68D6C...|0019E74E537005A12...|0.30695557475065693|\n",
      "|530335D7E3F212A0B...|001AEDC32FF6E9E24...| 0.2260982176257318|\n",
      "|530335D7E3F212A0B...|001AEDC32FF6E9E24...| 0.2260982176257318|\n",
      "|E171569941889A0B0...|0021AA706FDA81252...| 0.2055883905347653|\n",
      "|E171569941889A0B0...|0021AA706FDA81252...| 0.2055883905347653|\n",
      "|EF2A64539292DA2D8...|0021BAB84E8F33670...| 0.6359680725534225|\n",
      "|EF2A64539292DA2D8...|0021BAB84E8F33670...| 0.6359680725534225|\n",
      "|25808DDF2901FD171...|0021BAB84E8F33670...|0.28931594984998166|\n",
      "|25808DDF2901FD171...|0021BAB84E8F33670...|0.28931594984998166|\n",
      "|B786C6978377F5B91...|0021BAB84E8F33670...| 0.3433100158506184|\n",
      "|B786C6978377F5B91...|0021BAB84E8F33670...| 0.3433100158506184|\n",
      "|96871DF97A176CB7E...|0021BAB84E8F33670...|  0.619939783772357|\n",
      "|96871DF97A176CB7E...|0021BAB84E8F33670...|  0.619939783772357|\n",
      "|804A1E232EFC990B8...|0022EF7FFB427774F...| 0.5437480089574048|\n",
      "|804A1E232EFC990B8...|0022EF7FFB427774F...| 0.5437480089574048|\n",
      "|1211606CF1CE0780B...|002921D960FD24E03...| 0.5570074681178805|\n",
      "|1211606CF1CE0780B...|002921D960FD24E03...| 0.5570074681178805|\n",
      "|7F46303849D02EB6D...|002921D960FD24E03...| 0.4862459562555731|\n",
      "|7F46303849D02EB6D...|002921D960FD24E03...| 0.4862459562555731|\n",
      "|647750E55F79D735F...|002921D960FD24E03...| 0.4201849331318295|\n",
      "|647750E55F79D735F...|002921D960FD24E03...| 0.4201849331318295|\n",
      "|5EB55721379F82982...|002921D960FD24E03...| 0.5573755952438622|\n",
      "|5EB55721379F82982...|002921D960FD24E03...| 0.5573755952438622|\n",
      "|8F76050DF978C7F9F...|00297246AFC9FD680...|0.21307417010308705|\n",
      "|8F76050DF978C7F9F...|00297246AFC9FD680...|0.21307417010308705|\n",
      "|AE00B3D5BF95F2E8C...|00297246AFC9FD680...| 0.5445051038205324|\n",
      "|AE00B3D5BF95F2E8C...|00297246AFC9FD680...| 0.5445051038205324|\n",
      "|9D4AD5478567CC02E...|00297246AFC9FD680...| 0.4852610194612246|\n",
      "|9D4AD5478567CC02E...|00297246AFC9FD680...| 0.4852610194612246|\n",
      "|5B05136AA933922E8...|00297246AFC9FD680...|0.35826715983576884|\n",
      "|5B05136AA933922E8...|00297246AFC9FD680...|0.35826715983576884|\n",
      "|F9130147AF5EBF32C...|00297246AFC9FD680...| 0.5673820218881794|\n",
      "|F9130147AF5EBF32C...|00297246AFC9FD680...| 0.5673820218881794|\n",
      "|886A9D8BF097108F1...|002A18C39326FC946...|0.32242554761820164|\n",
      "|886A9D8BF097108F1...|002A18C39326FC946...|0.32242554761820164|\n",
      "|30F6EE90E3EA6FBFB...|002A18C39326FC946...|0.21099957261613367|\n",
      "|30F6EE90E3EA6FBFB...|002A18C39326FC946...|0.21099957261613367|\n",
      "|928C487A5861F93E7...|002A18C39326FC946...|0.20389295968219068|\n",
      "|928C487A5861F93E7...|002A18C39326FC946...|0.20389295968219068|\n",
      "|2E16CC6FE8C67C29A...|002A70A6B8C05B125...| 0.4466042365139734|\n",
      "|2E16CC6FE8C67C29A...|002A70A6B8C05B125...| 0.4466042365139734|\n",
      "|ACFAAC2108C911C52...|0033158C272E9839B...| 0.4738620734173825|\n",
      "|ACFAAC2108C911C52...|0033158C272E9839B...| 0.4738620734173825|\n",
      "|16029AF91095FE7B5...|0033158C272E9839B...| 0.4669444086802068|\n",
      "|16029AF91095FE7B5...|0033158C272E9839B...| 0.4669444086802068|\n",
      "|48E013D989523ACEE...|0033158C272E9839B...| 0.5659868707599568|\n",
      "|48E013D989523ACEE...|0033158C272E9839B...| 0.5659868707599568|\n",
      "|EEA919760BF9AC520...|003816D60DE18AE7C...| 0.1618441980593197|\n",
      "|EEA919760BF9AC520...|003816D60DE18AE7C...| 0.1618441980593197|\n",
      "|DF4CC2FCF4E458581...|00395892CBA933A24...|0.17039978540427847|\n",
      "|DF4CC2FCF4E458581...|00395892CBA933A24...|0.17039978540427847|\n",
      "|42A87D786EE755937...|00395892CBA933A24...| 0.5110079685034704|\n",
      "|42A87D786EE755937...|00395892CBA933A24...| 0.5110079685034704|\n",
      "|C4A8B9582F4B754D7...|00395892CBA933A24...| 0.4729154471303946|\n",
      "|C4A8B9582F4B754D7...|00395892CBA933A24...| 0.4729154471303946|\n",
      "|0F55A4DA0E582259A...|003B6031406B20ED9...|0.46879335535615874|\n",
      "|0F55A4DA0E582259A...|003B6031406B20ED9...|0.46879335535615874|\n",
      "|40A437EC099EBCAFD...|003F8B7DE8F7CC5CB...|0.26390391493261955|\n",
      "|40A437EC099EBCAFD...|003F8B7DE8F7CC5CB...|0.26390391493261955|\n",
      "|D1D4FCA271744A046...|00448FA01C4524BB9...|  0.529059463634306|\n",
      "|D1D4FCA271744A046...|00448FA01C4524BB9...|  0.529059463634306|\n",
      "|D6FC0943EB4319A9A...|00448FA01C4524BB9...| 0.5310656576213715|\n",
      "|D6FC0943EB4319A9A...|00448FA01C4524BB9...| 0.5310656576213715|\n",
      "|2B6C9BA713064C625...|00448FA01C4524BB9...|  0.233000180477279|\n",
      "|2B6C9BA713064C625...|00448FA01C4524BB9...|  0.233000180477279|\n",
      "|97A069C5FD7CC2D50...|00448FA01C4524BB9...| 0.5533856961642183|\n",
      "|97A069C5FD7CC2D50...|00448FA01C4524BB9...| 0.5533856961642183|\n",
      "|970B202FD1B13463B...|00448FA01C4524BB9...| 0.2227441222430232|\n",
      "|970B202FD1B13463B...|00448FA01C4524BB9...| 0.2227441222430232|\n",
      "|3A77D6BED3DC3BA9E...|004586823DEBA9C91...|  0.514447028910602|\n",
      "|3A77D6BED3DC3BA9E...|004586823DEBA9C91...|  0.514447028910602|\n",
      "+--------------------+--------------------+-------------------+\n",
      "only showing top 100 rows\n",
      "\n"
     ]
    }
   ],
   "source": [
    "predictions_like = spark.read.csv(\"/media/user2/TOSHIBA EXT/code/validation_predictions/like.csv\")\n",
    "predictions_like.show(100)\n"
   ]
  },
  {
   "cell_type": "code",
   "execution_count": 4,
   "metadata": {},
   "outputs": [
    {
     "name": "stdout",
     "output_type": "stream",
     "text": [
      "+--------------------+--------------------+--------------------+\n",
      "|                 _c0|                 _c1|                 _c2|\n",
      "+--------------------+--------------------+--------------------+\n",
      "|DDD2464CD01C7A920...|00018FD99A36EE543...|0.061762683267492235|\n",
      "|DDD2464CD01C7A920...|00018FD99A36EE543...|0.061762683267492235|\n",
      "|9FC3A951A0EA1C496...|000A4CCF1A34D7BE6...| 0.04800772672496356|\n",
      "|9FC3A951A0EA1C496...|000A4CCF1A34D7BE6...| 0.04800772672496356|\n",
      "|BB3CB2CEBE9D54A65...|000A4CCF1A34D7BE6...|0.047764899270697714|\n",
      "|BB3CB2CEBE9D54A65...|000A4CCF1A34D7BE6...|0.047764899270697714|\n",
      "|C3A0C323D0B2D7B06...|000B74EDD578FCCB2...| 0.05469762505354692|\n",
      "|C3A0C323D0B2D7B06...|000B74EDD578FCCB2...| 0.05469762505354692|\n",
      "|D2C43ABD7EC9E5256...|0012198A96E630C52...| 0.04623972807742993|\n",
      "|D2C43ABD7EC9E5256...|0012198A96E630C52...| 0.04623972807742993|\n",
      "|F39D7453AC49FDD32...|00168C70351B68498...| 0.06933548535280509|\n",
      "|F39D7453AC49FDD32...|00168C70351B68498...| 0.06933548535280509|\n",
      "|4795020CC0FF21157...|0016D891C54EDA443...| 0.06284515585805484|\n",
      "|4795020CC0FF21157...|0016D891C54EDA443...| 0.06284515585805484|\n",
      "|E1B50EA196FA06A7C...|0016D891C54EDA443...|  0.0727596755672939|\n",
      "|E1B50EA196FA06A7C...|0016D891C54EDA443...|  0.0727596755672939|\n",
      "|843F5D55A63809357...|0019CF48A0A9258A5...| 0.07663721560136882|\n",
      "|843F5D55A63809357...|0019CF48A0A9258A5...| 0.07663721560136882|\n",
      "|070239D77150FA5FD...|0019CF48A0A9258A5...|0.052208828021977016|\n",
      "|070239D77150FA5FD...|0019CF48A0A9258A5...|0.052208828021977016|\n",
      "+--------------------+--------------------+--------------------+\n",
      "only showing top 20 rows\n",
      "\n"
     ]
    }
   ],
   "source": [
    "predictions_reply = spark.read.csv(\"/media/user2/TOSHIBA EXT/code/validation_predictions/reply.csv\")\n",
    "predictions_reply.show()\n"
   ]
  },
  {
   "cell_type": "code",
   "execution_count": 5,
   "metadata": {},
   "outputs": [
    {
     "name": "stdout",
     "output_type": "stream",
     "text": [
      "+--------------------+--------------------+-------------------+\n",
      "|                 _c0|                 _c1|                _c2|\n",
      "+--------------------+--------------------+-------------------+\n",
      "|DDD2464CD01C7A920...|00018FD99A36EE543...| 0.1409141450816136|\n",
      "|DDD2464CD01C7A920...|00018FD99A36EE543...| 0.1409141450816136|\n",
      "|9FC3A951A0EA1C496...|000A4CCF1A34D7BE6...|0.10345572780793333|\n",
      "|9FC3A951A0EA1C496...|000A4CCF1A34D7BE6...|0.10345572780793333|\n",
      "|BB3CB2CEBE9D54A65...|000A4CCF1A34D7BE6...|0.11293120761628939|\n",
      "|BB3CB2CEBE9D54A65...|000A4CCF1A34D7BE6...|0.11293120761628939|\n",
      "|C3A0C323D0B2D7B06...|000B74EDD578FCCB2...|0.08106010542366071|\n",
      "|C3A0C323D0B2D7B06...|000B74EDD578FCCB2...|0.08106010542366071|\n",
      "|D2C43ABD7EC9E5256...|0012198A96E630C52...|  0.126402163895871|\n",
      "|D2C43ABD7EC9E5256...|0012198A96E630C52...|  0.126402163895871|\n",
      "|F39D7453AC49FDD32...|00168C70351B68498...|0.07723538080572434|\n",
      "|F39D7453AC49FDD32...|00168C70351B68498...|0.07723538080572434|\n",
      "|4795020CC0FF21157...|0016D891C54EDA443...|0.08293797149213056|\n",
      "|4795020CC0FF21157...|0016D891C54EDA443...|0.08293797149213056|\n",
      "|E1B50EA196FA06A7C...|0016D891C54EDA443...|0.12145376237972272|\n",
      "|E1B50EA196FA06A7C...|0016D891C54EDA443...|0.12145376237972272|\n",
      "|843F5D55A63809357...|0019CF48A0A9258A5...|0.09023386089304375|\n",
      "|843F5D55A63809357...|0019CF48A0A9258A5...|0.09023386089304375|\n",
      "|070239D77150FA5FD...|0019CF48A0A9258A5...|0.09334687623367144|\n",
      "|070239D77150FA5FD...|0019CF48A0A9258A5...|0.09334687623367144|\n",
      "|DE4B1AA5317BA057D...|0019CF48A0A9258A5...|0.09319604908503709|\n",
      "|DE4B1AA5317BA057D...|0019CF48A0A9258A5...|0.09319604908503709|\n",
      "|1AFE81E8F85721424...|0019CF48A0A9258A5...|0.10371819792418802|\n",
      "|1AFE81E8F85721424...|0019CF48A0A9258A5...|0.10371819792418802|\n",
      "|65C889C29EA2ADFAF...|0019CF48A0A9258A5...|0.09410771871916213|\n",
      "|65C889C29EA2ADFAF...|0019CF48A0A9258A5...|0.09410771871916213|\n",
      "|5550666F773DE435C...|0019D25F3F710107A...|0.08934169359495447|\n",
      "|5550666F773DE435C...|0019D25F3F710107A...|0.08934169359495447|\n",
      "|BE4AF7D441DA68D6C...|0019E74E537005A12...|0.09043105830941123|\n",
      "|BE4AF7D441DA68D6C...|0019E74E537005A12...|0.09043105830941123|\n",
      "|530335D7E3F212A0B...|001AEDC32FF6E9E24...|0.15217382137482205|\n",
      "|530335D7E3F212A0B...|001AEDC32FF6E9E24...|0.15217382137482205|\n",
      "|E171569941889A0B0...|0021AA706FDA81252...| 0.2509481194379185|\n",
      "|E171569941889A0B0...|0021AA706FDA81252...| 0.2509481194379185|\n",
      "|EF2A64539292DA2D8...|0021BAB84E8F33670...| 0.0935145807628398|\n",
      "|EF2A64539292DA2D8...|0021BAB84E8F33670...| 0.0935145807628398|\n",
      "|25808DDF2901FD171...|0021BAB84E8F33670...|0.09905960163514682|\n",
      "|25808DDF2901FD171...|0021BAB84E8F33670...|0.09905960163514682|\n",
      "|B786C6978377F5B91...|0021BAB84E8F33670...|  0.112817288115173|\n",
      "|B786C6978377F5B91...|0021BAB84E8F33670...|  0.112817288115173|\n",
      "|96871DF97A176CB7E...|0021BAB84E8F33670...|0.12145376237972272|\n",
      "|96871DF97A176CB7E...|0021BAB84E8F33670...|0.12145376237972272|\n",
      "|804A1E232EFC990B8...|0022EF7FFB427774F...|0.11941321648700154|\n",
      "|804A1E232EFC990B8...|0022EF7FFB427774F...|0.11941321648700154|\n",
      "|1211606CF1CE0780B...|002921D960FD24E03...|0.07749352051444958|\n",
      "|1211606CF1CE0780B...|002921D960FD24E03...|0.07749352051444958|\n",
      "|7F46303849D02EB6D...|002921D960FD24E03...|0.06560017599068102|\n",
      "|7F46303849D02EB6D...|002921D960FD24E03...|0.06560017599068102|\n",
      "|647750E55F79D735F...|002921D960FD24E03...|0.09990197000642531|\n",
      "|647750E55F79D735F...|002921D960FD24E03...|0.09990197000642531|\n",
      "|5EB55721379F82982...|002921D960FD24E03...|0.11157108571498742|\n",
      "|5EB55721379F82982...|002921D960FD24E03...|0.11157108571498742|\n",
      "|8F76050DF978C7F9F...|00297246AFC9FD680...|0.08480916725280663|\n",
      "|8F76050DF978C7F9F...|00297246AFC9FD680...|0.08480916725280663|\n",
      "|AE00B3D5BF95F2E8C...|00297246AFC9FD680...|0.12266103721481891|\n",
      "|AE00B3D5BF95F2E8C...|00297246AFC9FD680...|0.12266103721481891|\n",
      "|9D4AD5478567CC02E...|00297246AFC9FD680...| 0.1219759167779142|\n",
      "|9D4AD5478567CC02E...|00297246AFC9FD680...| 0.1219759167779142|\n",
      "|5B05136AA933922E8...|00297246AFC9FD680...|0.11149487037380468|\n",
      "|5B05136AA933922E8...|00297246AFC9FD680...|0.11149487037380468|\n",
      "|F9130147AF5EBF32C...|00297246AFC9FD680...|0.11981810793233327|\n",
      "|F9130147AF5EBF32C...|00297246AFC9FD680...|0.11981810793233327|\n",
      "|886A9D8BF097108F1...|002A18C39326FC946...|0.06849378234887249|\n",
      "|886A9D8BF097108F1...|002A18C39326FC946...|0.06849378234887249|\n",
      "|30F6EE90E3EA6FBFB...|002A18C39326FC946...|0.08287188257958156|\n",
      "|30F6EE90E3EA6FBFB...|002A18C39326FC946...|0.08287188257958156|\n",
      "|928C487A5861F93E7...|002A18C39326FC946...|0.08515190165121722|\n",
      "|928C487A5861F93E7...|002A18C39326FC946...|0.08515190165121722|\n",
      "|2E16CC6FE8C67C29A...|002A70A6B8C05B125...|0.09548289771045193|\n",
      "|2E16CC6FE8C67C29A...|002A70A6B8C05B125...|0.09548289771045193|\n",
      "|ACFAAC2108C911C52...|0033158C272E9839B...|0.07675248000203094|\n",
      "|ACFAAC2108C911C52...|0033158C272E9839B...|0.07675248000203094|\n",
      "|16029AF91095FE7B5...|0033158C272E9839B...|0.06605529023497025|\n",
      "|16029AF91095FE7B5...|0033158C272E9839B...|0.06605529023497025|\n",
      "|48E013D989523ACEE...|0033158C272E9839B...| 0.1185356330778553|\n",
      "|48E013D989523ACEE...|0033158C272E9839B...| 0.1185356330778553|\n",
      "|EEA919760BF9AC520...|003816D60DE18AE7C...| 0.2853221777379271|\n",
      "|EEA919760BF9AC520...|003816D60DE18AE7C...| 0.2853221777379271|\n",
      "|DF4CC2FCF4E458581...|00395892CBA933A24...| 0.0652136088020262|\n",
      "|DF4CC2FCF4E458581...|00395892CBA933A24...| 0.0652136088020262|\n",
      "|42A87D786EE755937...|00395892CBA933A24...|0.08566167377766132|\n",
      "|42A87D786EE755937...|00395892CBA933A24...|0.08566167377766132|\n",
      "|C4A8B9582F4B754D7...|00395892CBA933A24...|0.08393644423264246|\n",
      "|C4A8B9582F4B754D7...|00395892CBA933A24...|0.08393644423264246|\n",
      "|0F55A4DA0E582259A...|003B6031406B20ED9...| 0.0943051808887565|\n",
      "|0F55A4DA0E582259A...|003B6031406B20ED9...| 0.0943051808887565|\n",
      "|40A437EC099EBCAFD...|003F8B7DE8F7CC5CB...|0.10936219267356084|\n",
      "|40A437EC099EBCAFD...|003F8B7DE8F7CC5CB...|0.10936219267356084|\n",
      "|D1D4FCA271744A046...|00448FA01C4524BB9...|0.09447399909948861|\n",
      "|D1D4FCA271744A046...|00448FA01C4524BB9...|0.09447399909948861|\n",
      "|D6FC0943EB4319A9A...|00448FA01C4524BB9...|0.09624565322710532|\n",
      "|D6FC0943EB4319A9A...|00448FA01C4524BB9...|0.09624565322710532|\n",
      "|2B6C9BA713064C625...|00448FA01C4524BB9...|0.10651549941406557|\n",
      "|2B6C9BA713064C625...|00448FA01C4524BB9...|0.10651549941406557|\n",
      "|97A069C5FD7CC2D50...|00448FA01C4524BB9...|0.07924043594535879|\n",
      "|97A069C5FD7CC2D50...|00448FA01C4524BB9...|0.07924043594535879|\n",
      "|970B202FD1B13463B...|00448FA01C4524BB9...|0.08707888572271405|\n",
      "|970B202FD1B13463B...|00448FA01C4524BB9...|0.08707888572271405|\n",
      "|3A77D6BED3DC3BA9E...|004586823DEBA9C91...|0.09145566470454025|\n",
      "|3A77D6BED3DC3BA9E...|004586823DEBA9C91...|0.09145566470454025|\n",
      "+--------------------+--------------------+-------------------+\n",
      "only showing top 100 rows\n",
      "\n"
     ]
    }
   ],
   "source": [
    "predictions_retweet = spark.read.csv(\"/media/user2/TOSHIBA EXT/code/validation_predictions/retweet.csv\")\n",
    "predictions_retweet.show(100)"
   ]
  },
  {
   "cell_type": "code",
   "execution_count": 6,
   "metadata": {},
   "outputs": [
    {
     "name": "stdout",
     "output_type": "stream",
     "text": [
      "+--------------------+--------------------+--------------------+\n",
      "|                 _c0|                 _c1|                 _c2|\n",
      "+--------------------+--------------------+--------------------+\n",
      "|DDD2464CD01C7A920...|00018FD99A36EE543...|0.047718730797565945|\n",
      "|DDD2464CD01C7A920...|00018FD99A36EE543...|0.047718730797565945|\n",
      "|9FC3A951A0EA1C496...|000A4CCF1A34D7BE6...|0.046472596624944185|\n",
      "|9FC3A951A0EA1C496...|000A4CCF1A34D7BE6...|0.046472596624944185|\n",
      "|BB3CB2CEBE9D54A65...|000A4CCF1A34D7BE6...| 0.04680292661198848|\n",
      "|BB3CB2CEBE9D54A65...|000A4CCF1A34D7BE6...| 0.04680292661198848|\n",
      "|C3A0C323D0B2D7B06...|000B74EDD578FCCB2...| 0.04799124283271228|\n",
      "|C3A0C323D0B2D7B06...|000B74EDD578FCCB2...| 0.04799124283271228|\n",
      "|D2C43ABD7EC9E5256...|0012198A96E630C52...|0.046048264066535394|\n",
      "|D2C43ABD7EC9E5256...|0012198A96E630C52...|0.046048264066535394|\n",
      "|F39D7453AC49FDD32...|00168C70351B68498...|0.046848179510185384|\n",
      "|F39D7453AC49FDD32...|00168C70351B68498...|0.046848179510185384|\n",
      "|4795020CC0FF21157...|0016D891C54EDA443...| 0.04745869771292999|\n",
      "|4795020CC0FF21157...|0016D891C54EDA443...| 0.04745869771292999|\n",
      "|E1B50EA196FA06A7C...|0016D891C54EDA443...|0.047822167347886024|\n",
      "|E1B50EA196FA06A7C...|0016D891C54EDA443...|0.047822167347886024|\n",
      "|843F5D55A63809357...|0019CF48A0A9258A5...| 0.04748920323048611|\n",
      "|843F5D55A63809357...|0019CF48A0A9258A5...| 0.04748920323048611|\n",
      "|070239D77150FA5FD...|0019CF48A0A9258A5...|0.047692857917965514|\n",
      "|070239D77150FA5FD...|0019CF48A0A9258A5...|0.047692857917965514|\n",
      "|DE4B1AA5317BA057D...|0019CF48A0A9258A5...| 0.04748920323048611|\n",
      "|DE4B1AA5317BA057D...|0019CF48A0A9258A5...| 0.04748920323048611|\n",
      "|1AFE81E8F85721424...|0019CF48A0A9258A5...|0.046048264066535394|\n",
      "|1AFE81E8F85721424...|0019CF48A0A9258A5...|0.046048264066535394|\n",
      "|65C889C29EA2ADFAF...|0019CF48A0A9258A5...| 0.04715193851613875|\n",
      "|65C889C29EA2ADFAF...|0019CF48A0A9258A5...| 0.04715193851613875|\n",
      "|5550666F773DE435C...|0019D25F3F710107A...|0.047348459361825634|\n",
      "|5550666F773DE435C...|0019D25F3F710107A...|0.047348459361825634|\n",
      "|BE4AF7D441DA68D6C...|0019E74E537005A12...| 0.04770856606278684|\n",
      "|BE4AF7D441DA68D6C...|0019E74E537005A12...| 0.04770856606278684|\n",
      "|530335D7E3F212A0B...|001AEDC32FF6E9E24...|0.046048264066535394|\n",
      "|530335D7E3F212A0B...|001AEDC32FF6E9E24...|0.046048264066535394|\n",
      "|E171569941889A0B0...|0021AA706FDA81252...| 0.04703694792397917|\n",
      "|E171569941889A0B0...|0021AA706FDA81252...| 0.04703694792397917|\n",
      "|EF2A64539292DA2D8...|0021BAB84E8F33670...| 0.04791287691601809|\n",
      "|EF2A64539292DA2D8...|0021BAB84E8F33670...| 0.04791287691601809|\n",
      "|25808DDF2901FD171...|0021BAB84E8F33670...|0.047849573989680594|\n",
      "|25808DDF2901FD171...|0021BAB84E8F33670...|0.047849573989680594|\n",
      "|B786C6978377F5B91...|0021BAB84E8F33670...|0.047173736570948144|\n",
      "|B786C6978377F5B91...|0021BAB84E8F33670...|0.047173736570948144|\n",
      "|96871DF97A176CB7E...|0021BAB84E8F33670...| 0.04791287691601809|\n",
      "|96871DF97A176CB7E...|0021BAB84E8F33670...| 0.04791287691601809|\n",
      "|804A1E232EFC990B8...|0022EF7FFB427774F...| 0.04776469636220826|\n",
      "|804A1E232EFC990B8...|0022EF7FFB427774F...| 0.04776469636220826|\n",
      "|1211606CF1CE0780B...|002921D960FD24E03...| 0.04681069601007548|\n",
      "|1211606CF1CE0780B...|002921D960FD24E03...| 0.04681069601007548|\n",
      "|7F46303849D02EB6D...|002921D960FD24E03...| 0.04681069601007548|\n",
      "|7F46303849D02EB6D...|002921D960FD24E03...| 0.04681069601007548|\n",
      "|647750E55F79D735F...|002921D960FD24E03...| 0.04703570188924999|\n",
      "|647750E55F79D735F...|002921D960FD24E03...| 0.04703570188924999|\n",
      "|5EB55721379F82982...|002921D960FD24E03...| 0.04970358938671249|\n",
      "|5EB55721379F82982...|002921D960FD24E03...| 0.04970358938671249|\n",
      "|8F76050DF978C7F9F...|00297246AFC9FD680...| 0.04794319727126095|\n",
      "|8F76050DF978C7F9F...|00297246AFC9FD680...| 0.04794319727126095|\n",
      "|AE00B3D5BF95F2E8C...|00297246AFC9FD680...| 0.04783916592824422|\n",
      "|AE00B3D5BF95F2E8C...|00297246AFC9FD680...| 0.04783916592824422|\n",
      "|9D4AD5478567CC02E...|00297246AFC9FD680...|  0.0474457448179616|\n",
      "|9D4AD5478567CC02E...|00297246AFC9FD680...|  0.0474457448179616|\n",
      "|5B05136AA933922E8...|00297246AFC9FD680...| 0.04700382614855758|\n",
      "|5B05136AA933922E8...|00297246AFC9FD680...| 0.04700382614855758|\n",
      "|F9130147AF5EBF32C...|00297246AFC9FD680...| 0.04784787046045813|\n",
      "|F9130147AF5EBF32C...|00297246AFC9FD680...| 0.04784787046045813|\n",
      "|886A9D8BF097108F1...|002A18C39326FC946...|0.045333555230055445|\n",
      "|886A9D8BF097108F1...|002A18C39326FC946...|0.045333555230055445|\n",
      "|30F6EE90E3EA6FBFB...|002A18C39326FC946...| 0.04770447519454657|\n",
      "|30F6EE90E3EA6FBFB...|002A18C39326FC946...| 0.04770447519454657|\n",
      "|928C487A5861F93E7...|002A18C39326FC946...|  0.0476727264350888|\n",
      "|928C487A5861F93E7...|002A18C39326FC946...|  0.0476727264350888|\n",
      "|2E16CC6FE8C67C29A...|002A70A6B8C05B125...| 0.04718004882701643|\n",
      "|2E16CC6FE8C67C29A...|002A70A6B8C05B125...| 0.04718004882701643|\n",
      "|ACFAAC2108C911C52...|0033158C272E9839B...| 0.04741133431560185|\n",
      "|ACFAAC2108C911C52...|0033158C272E9839B...| 0.04741133431560185|\n",
      "|16029AF91095FE7B5...|0033158C272E9839B...| 0.04742357532715247|\n",
      "|16029AF91095FE7B5...|0033158C272E9839B...| 0.04742357532715247|\n",
      "|48E013D989523ACEE...|0033158C272E9839B...|  0.0478007821766383|\n",
      "|48E013D989523ACEE...|0033158C272E9839B...|  0.0478007821766383|\n",
      "|EEA919760BF9AC520...|003816D60DE18AE7C...| 0.04589470599393097|\n",
      "|EEA919760BF9AC520...|003816D60DE18AE7C...| 0.04589470599393097|\n",
      "|DF4CC2FCF4E458581...|00395892CBA933A24...| 0.04510484189364394|\n",
      "|DF4CC2FCF4E458581...|00395892CBA933A24...| 0.04510484189364394|\n",
      "|42A87D786EE755937...|00395892CBA933A24...|0.047211874458035985|\n",
      "|42A87D786EE755937...|00395892CBA933A24...|0.047211874458035985|\n",
      "|C4A8B9582F4B754D7...|00395892CBA933A24...| 0.04773746031169113|\n",
      "|C4A8B9582F4B754D7...|00395892CBA933A24...| 0.04773746031169113|\n",
      "|0F55A4DA0E582259A...|003B6031406B20ED9...|  0.0471314852964595|\n",
      "|0F55A4DA0E582259A...|003B6031406B20ED9...|  0.0471314852964595|\n",
      "|40A437EC099EBCAFD...|003F8B7DE8F7CC5CB...|0.047322069792025134|\n",
      "|40A437EC099EBCAFD...|003F8B7DE8F7CC5CB...|0.047322069792025134|\n",
      "|D1D4FCA271744A046...|00448FA01C4524BB9...| 0.04728884891505336|\n",
      "|D1D4FCA271744A046...|00448FA01C4524BB9...| 0.04728884891505336|\n",
      "|D6FC0943EB4319A9A...|00448FA01C4524BB9...| 0.04725736304058348|\n",
      "|D6FC0943EB4319A9A...|00448FA01C4524BB9...| 0.04725736304058348|\n",
      "|2B6C9BA713064C625...|00448FA01C4524BB9...| 0.04636133090245109|\n",
      "|2B6C9BA713064C625...|00448FA01C4524BB9...| 0.04636133090245109|\n",
      "|97A069C5FD7CC2D50...|00448FA01C4524BB9...| 0.04692241001267705|\n",
      "|97A069C5FD7CC2D50...|00448FA01C4524BB9...| 0.04692241001267705|\n",
      "|970B202FD1B13463B...|00448FA01C4524BB9...|0.047701652518317816|\n",
      "|970B202FD1B13463B...|00448FA01C4524BB9...|0.047701652518317816|\n",
      "|3A77D6BED3DC3BA9E...|004586823DEBA9C91...|0.047211874458035985|\n",
      "|3A77D6BED3DC3BA9E...|004586823DEBA9C91...|0.047211874458035985|\n",
      "+--------------------+--------------------+--------------------+\n",
      "only showing top 100 rows\n",
      "\n"
     ]
    }
   ],
   "source": [
    "predictions_rtWithCmt = spark.read.csv(\"/media/user2/TOSHIBA EXT/code/validation_predictions/rtWithCmt.csv\")\n",
    "predictions_rtWithCmt.show(100)"
   ]
  },
  {
   "cell_type": "code",
   "execution_count": 8,
   "metadata": {},
   "outputs": [
    {
     "ename": "AssertionError",
     "evalue": "on should be Column or list of Column",
     "output_type": "error",
     "traceback": [
      "\u001b[0;31m---------------------------------------------------------------------------\u001b[0m",
      "\u001b[0;31mAssertionError\u001b[0m                            Traceback (most recent call last)",
      "\u001b[0;32m<ipython-input-8-0ab192a72621>\u001b[0m in \u001b[0;36m<module>\u001b[0;34m\u001b[0m\n\u001b[0;32m----> 1\u001b[0;31m \u001b[0mpredictions_reply\u001b[0m\u001b[0;34m.\u001b[0m\u001b[0mjoin\u001b[0m\u001b[0;34m(\u001b[0m\u001b[0mpredictions_retweet\u001b[0m\u001b[0;34m,\u001b[0m\u001b[0;34m(\u001b[0m\u001b[0mpredictions_reply\u001b[0m\u001b[0;34m.\u001b[0m\u001b[0m_c0\u001b[0m\u001b[0;34m==\u001b[0m\u001b[0mpredictions_retweet\u001b[0m\u001b[0;34m.\u001b[0m\u001b[0m_c0\u001b[0m\u001b[0;34m,\u001b[0m\u001b[0mpredictions_reply\u001b[0m\u001b[0;34m.\u001b[0m\u001b[0m_c1\u001b[0m\u001b[0;34m==\u001b[0m\u001b[0mpredictions_retweet\u001b[0m\u001b[0;34m.\u001b[0m\u001b[0m_c1\u001b[0m\u001b[0;34m)\u001b[0m\u001b[0;34m,\u001b[0m\u001b[0;34m\"inner\"\u001b[0m\u001b[0;34m)\u001b[0m\u001b[0;31m \u001b[0m\u001b[0;31m\\\u001b[0m\u001b[0;34m\u001b[0m\u001b[0;34m\u001b[0m\u001b[0m\n\u001b[0m\u001b[1;32m      2\u001b[0m \u001b[0;34m.\u001b[0m\u001b[0mshow\u001b[0m\u001b[0;34m(\u001b[0m\u001b[0mtruncate\u001b[0m\u001b[0;34m=\u001b[0m\u001b[0;32mFalse\u001b[0m\u001b[0;34m)\u001b[0m\u001b[0;34m\u001b[0m\u001b[0;34m\u001b[0m\u001b[0m\n",
      "\u001b[0;32m~/anaconda3/lib/python3.7/site-packages/pyspark/sql/dataframe.py\u001b[0m in \u001b[0;36mjoin\u001b[0;34m(self, other, on, how)\u001b[0m\n\u001b[1;32m   1325\u001b[0m                 \u001b[0mon\u001b[0m \u001b[0;34m=\u001b[0m \u001b[0mself\u001b[0m\u001b[0;34m.\u001b[0m\u001b[0m_jseq\u001b[0m\u001b[0;34m(\u001b[0m\u001b[0mon\u001b[0m\u001b[0;34m)\u001b[0m\u001b[0;34m\u001b[0m\u001b[0;34m\u001b[0m\u001b[0m\n\u001b[1;32m   1326\u001b[0m             \u001b[0;32melse\u001b[0m\u001b[0;34m:\u001b[0m\u001b[0;34m\u001b[0m\u001b[0;34m\u001b[0m\u001b[0m\n\u001b[0;32m-> 1327\u001b[0;31m                 \u001b[0;32massert\u001b[0m \u001b[0misinstance\u001b[0m\u001b[0;34m(\u001b[0m\u001b[0mon\u001b[0m\u001b[0;34m[\u001b[0m\u001b[0;36m0\u001b[0m\u001b[0;34m]\u001b[0m\u001b[0;34m,\u001b[0m \u001b[0mColumn\u001b[0m\u001b[0;34m)\u001b[0m\u001b[0;34m,\u001b[0m \u001b[0;34m\"on should be Column or list of Column\"\u001b[0m\u001b[0;34m\u001b[0m\u001b[0;34m\u001b[0m\u001b[0m\n\u001b[0m\u001b[1;32m   1328\u001b[0m                 \u001b[0mon\u001b[0m \u001b[0;34m=\u001b[0m \u001b[0mreduce\u001b[0m\u001b[0;34m(\u001b[0m\u001b[0;32mlambda\u001b[0m \u001b[0mx\u001b[0m\u001b[0;34m,\u001b[0m \u001b[0my\u001b[0m\u001b[0;34m:\u001b[0m \u001b[0mx\u001b[0m\u001b[0;34m.\u001b[0m\u001b[0m__and__\u001b[0m\u001b[0;34m(\u001b[0m\u001b[0my\u001b[0m\u001b[0;34m)\u001b[0m\u001b[0;34m,\u001b[0m \u001b[0mon\u001b[0m\u001b[0;34m)\u001b[0m\u001b[0;34m\u001b[0m\u001b[0;34m\u001b[0m\u001b[0m\n\u001b[1;32m   1329\u001b[0m                 \u001b[0mon\u001b[0m \u001b[0;34m=\u001b[0m \u001b[0mon\u001b[0m\u001b[0;34m.\u001b[0m\u001b[0m_jc\u001b[0m\u001b[0;34m\u001b[0m\u001b[0;34m\u001b[0m\u001b[0m\n",
      "\u001b[0;31mAssertionError\u001b[0m: on should be Column or list of Column"
     ]
    }
   ],
   "source": [
    "predictions_reply.join(predictions_retweet,(predictions_reply._c0==predictions_retweet._c0,predictions_reply._c1==predictions_retweet._c1),\"inner\") \\\n",
    ".show(truncate=False)"
   ]
  },
  {
   "cell_type": "code",
   "execution_count": null,
   "metadata": {},
   "outputs": [],
   "source": []
  }
 ],
 "metadata": {
  "kernelspec": {
   "display_name": "Python 3",
   "language": "python",
   "name": "python3"
  },
  "language_info": {
   "codemirror_mode": {
    "name": "ipython",
    "version": 3
   },
   "file_extension": ".py",
   "mimetype": "text/x-python",
   "name": "python",
   "nbconvert_exporter": "python",
   "pygments_lexer": "ipython3",
   "version": "3.8.5"
  }
 },
 "nbformat": 4,
 "nbformat_minor": 4
}

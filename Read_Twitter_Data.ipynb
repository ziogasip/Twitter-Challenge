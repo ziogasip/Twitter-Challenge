{
 "cells": [
  {
   "cell_type": "code",
   "execution_count": 1,
   "metadata": {
    "scrolled": true
   },
   "outputs": [],
   "source": [
    "#import Libraries\n",
    "import pyspark\n",
    "import matplotlib.pyplot as plt\n",
    "import numpy as np\n",
    "import pandas as pd\n",
    "\n",
    "#import pyspark in order to use sql\n",
    "from pyspark.sql import SQLContext\n",
    "import pyspark.sql.functions as F\n",
    "from pyspark.sql import types as T\n",
    "from pyspark.sql import Row\n",
    "from pyspark.sql.window import Window\n",
    "from pyspark import SparkContext\n",
    "\n",
    "#import transformers and Berk tokenizer in order to transform twitter text to tokens\n",
    "from transformers import BertTokenizer\n",
    "tokenizer = BertTokenizer.from_pretrained('bert-base-multilingual-cased', do_lower_case=False)\n",
    "\n",
    "\n",
    "#use this module to initialize the sparkContext\n",
    "#SparkContext.setSystemProperty('spark.executor.memory', '32g')\n",
    "\n",
    "sc = SparkContext(\"local\", \"App Name\")\n",
    "spark = SQLContext(sc)\n"
   ]
  },
  {
   "cell_type": "code",
   "execution_count": 1,
   "metadata": {},
   "outputs": [],
   "source": [
    "import pyspark\n",
    "from pyspark import SparkContext\n",
    "from pyspark.sql import SQLContext\n",
    "from pyspark.sql import functions as F\n",
    "from pyspark.sql import types as T\n",
    "from pyspark.sql import Row\n",
    "from pyspark.sql.window import Window\n",
    "\n",
    "\n",
    "conf = pyspark.SparkConf()\n",
    "conf.setMaster(\"local\").setAppName(\"test\").set(\"spark.local.dir\", \"tmp/spark\")\n",
    "SparkContext.setSystemProperty('spark.driver.memory','16g')\n",
    "SparkContext.setSystemProperty('spark.executor.memory','16g')\n",
    "sc = pyspark.SparkContext(conf=conf)\n",
    "#SparkConf conf = new SparkConf().setMaster(\"local”).setAppName(\"test”).set(\"spark.local.dir\", \"/tmp/spark-temp\");\n",
    "\n",
    "#sc = SparkContext(\"local\", \"App Name\")\n",
    "spark = SQLContext(sc)"
   ]
  },
  {
   "cell_type": "code",
   "execution_count": 2,
   "metadata": {},
   "outputs": [],
   "source": [
    "from transformers import BertTokenizer\n",
    "tokenizer = BertTokenizer.from_pretrained('bert-base-multilingual-cased', do_lower_case=False)\n",
    "\n",
    "@F.udf(\"String\")\n",
    "def decode_tokens(tokens):\n",
    "  return tokenizer.decode(tokens)"
   ]
  },
  {
   "cell_type": "code",
   "execution_count": 4,
   "metadata": {},
   "outputs": [],
   "source": [
    "#Initialize the type of the schema that the twitter data have\n",
    "#Create the fields that characterize the data\n",
    "fields = list()\n",
    "\n",
    "fields.append(T.StructField(\"text_tokens\",  T.StringType(), True))\n",
    "fields.append(T.StructField(\"hashtags\", T.StringType(), True))\n",
    "fields.append(T.StructField(\"tweet_id\", T.StringType(), True))\n",
    "fields.append(T.StructField(\"present_media\", T.StringType(), True))\n",
    "fields.append(T.StructField(\"present_links\", T.StringType(), True))\n",
    "fields.append(T.StructField(\"present_domains\", T.StringType(), True))\n",
    "fields.append(T.StructField(\"tweet_type\", T.StringType(), True))\n",
    "fields.append(T.StructField(\"language\", T.StringType(), True))\n",
    "fields.append(T.StructField(\"timestamp\", T.LongType(), True))\n",
    "fields.append(T.StructField(\"engager_user_id\", T.StringType(), True))\n",
    "fields.append(T.StructField(\"engager_follower_count\", T.LongType(), True))\n",
    "fields.append(T.StructField(\"engager_following_count\", T.LongType(), True))\n",
    "fields.append(T.StructField(\"engager_is_verified\", T.BooleanType(), True))\n",
    "fields.append(T.StructField(\"engager_account_creation_time\", T.LongType(), True))\n",
    "fields.append(T.StructField(\"engagee_user_id\", T.StringType(), True))\n",
    "fields.append(T.StructField(\"engagee_follower_count\", T.LongType(), True))\n",
    "fields.append(T.StructField(\"engagee_following_count\", T.LongType(), True))\n",
    "fields.append(T.StructField(\"engagee_is_verified\", T.BooleanType(), True))\n",
    "fields.append(T.StructField(\"engagee_account_creation_time\", T.LongType(), True))\n",
    "fields.append(T.StructField(\"engagee_follows_engager\", T.BooleanType(), True))\n",
    "fields.append(T.StructField(\"reply_engagement_timestamp\", T.LongType(), True))\n",
    "fields.append(T.StructField(\"retweet_engagement_timestamp\", T.LongType(), True))\n",
    "fields.append(T.StructField(\"retweet_with_comment_engagement_timestamp\", T.LongType(), True))\n",
    "fields.append(T.StructField(\"like_engagement_timestamp\", T.LongType(), True))\n",
    "\n",
    "#Create the final schema\n",
    "schema = T.StructType(fields)"
   ]
  },
  {
   "cell_type": "code",
   "execution_count": 6,
   "metadata": {},
   "outputs": [],
   "source": [
    "#get the input parts by accessing the file path, probably it will change\n",
    "training_file_path = \"/media/user2/TOSHIBA EXT/code/Twitter_data_30-4-21/part-*\"\n",
    "#create dataframe with the input dataset\n",
    "training_df = spark.read.option(\"sep\", chr(1)).schema(schema).csv(training_file_path)\n",
    "#preprocess the data\n",
    "training_df = training_df.withColumn(\"text_tokens\", F.split(\"text_tokens\", \"\\t\"))\n",
    "training_df = training_df.withColumn(\"hashtags\", F.split(\"hashtags\", \"\\t\"))\n",
    "training_df = training_df.withColumn(\"present_media\", F.split(\"present_media\", \"\\t\"))\n",
    "training_df = training_df.withColumn(\"present_links\", F.split(\"present_links\", \"\\t\"))\n",
    "training_df = training_df.withColumn(\"present_domains\", F.split(\"present_domains\", \"\\t\"))"
   ]
  },
  {
   "cell_type": "code",
   "execution_count": 5,
   "metadata": {},
   "outputs": [
    {
     "name": "stdout",
     "output_type": "stream",
     "text": [
      "root\n",
      " |-- text_tokens: array (nullable = true)\n",
      " |    |-- element: string (containsNull = true)\n",
      " |-- hashtags: array (nullable = true)\n",
      " |    |-- element: string (containsNull = true)\n",
      " |-- tweet_id: string (nullable = true)\n",
      " |-- present_media: array (nullable = true)\n",
      " |    |-- element: string (containsNull = true)\n",
      " |-- present_links: array (nullable = true)\n",
      " |    |-- element: string (containsNull = true)\n",
      " |-- present_domains: array (nullable = true)\n",
      " |    |-- element: string (containsNull = true)\n",
      " |-- tweet_type: string (nullable = true)\n",
      " |-- language: string (nullable = true)\n",
      " |-- timestamp: long (nullable = true)\n",
      " |-- engager_user_id: string (nullable = true)\n",
      " |-- engager_follower_count: long (nullable = true)\n",
      " |-- engager_following_count: long (nullable = true)\n",
      " |-- engager_is_verified: boolean (nullable = true)\n",
      " |-- engager_account_creation_time: long (nullable = true)\n",
      " |-- engagee_user_id: string (nullable = true)\n",
      " |-- engagee_follower_count: long (nullable = true)\n",
      " |-- engagee_following_count: long (nullable = true)\n",
      " |-- engagee_is_verified: boolean (nullable = true)\n",
      " |-- engagee_account_creation_time: long (nullable = true)\n",
      " |-- engagee_follows_engager: boolean (nullable = true)\n",
      " |-- reply_engagement_timestamp: long (nullable = true)\n",
      " |-- retweet_engagement_timestamp: long (nullable = true)\n",
      " |-- retweet_with_comment_engagement_timestamp: long (nullable = true)\n",
      " |-- like_engagement_timestamp: long (nullable = true)\n",
      "\n",
      "+--------------------+--------------------+--------------------+--------------+--------------------+--------------------+----------+--------------------+----------+--------------------+----------------------+-----------------------+-------------------+-----------------------------+--------------------+----------------------+-----------------------+-------------------+-----------------------------+-----------------------+--------------------------+----------------------------+-----------------------------------------+-------------------------+\n",
      "|         text_tokens|            hashtags|            tweet_id| present_media|       present_links|     present_domains|tweet_type|            language| timestamp|     engager_user_id|engager_follower_count|engager_following_count|engager_is_verified|engager_account_creation_time|     engagee_user_id|engagee_follower_count|engagee_following_count|engagee_is_verified|engagee_account_creation_time|engagee_follows_engager|reply_engagement_timestamp|retweet_engagement_timestamp|retweet_with_comment_engagement_timestamp|like_engagement_timestamp|\n",
      "+--------------------+--------------------+--------------------+--------------+--------------------+--------------------+----------+--------------------+----------+--------------------+----------------------+-----------------------+-------------------+-----------------------------+--------------------+----------------------+-----------------------+-------------------+-----------------------------+-----------------------+--------------------------+----------------------------+-----------------------------------------+-------------------------+\n",
      "|[101, 14248, 1235...|                null|25FFD1A2A5BC8B1F9...|       [Photo]|[ABD93665593F861D...|[CED954FDEC7DA201...|  TopLevel|6B90065EA806B8523...|1612476454|77126F3C10077F996...|                  8303|                    833|              false|                   1221258867|DB08FF419561F1F7C...|                    53|                    174|              false|                   1318058149|                  false|                      null|                        null|                                     null|               1612485480|\n",
      "|[101, 18465, 8201...|                null|904CD60F4DAE8913D...|       [Photo]|[C9DF1E48FDE0955D...|[F595B7DE8992A3D8...|  TopLevel|488B32D24BD4BB441...|1614155008|D915D2E3D81EAF7A7...|                  2651|                   2556|              false|                   1467406159|1B43F449BC510793A...|                  2356|                   5005|              false|                   1419174264|                   true|                      null|                        null|                                     null|                     null|\n",
      "|[101, 56898, 137,...|[20DD0B098AB4606D...|3F295017E37F8BC6F...|          null|[BF986926F508B3B3...|[BAED74433A3AC529...|   Retweet|8729EBF694C3DAF61...|1613729433|6CEF3A8A2EBAFC707...|                   184|                     81|              false|                   1601797964|76E76A3C58B688A78...|                    14|                    150|              false|                   1573876429|                  false|                      null|                        null|                                     null|                     null|\n",
      "|[101, 12999, 1261...|                null|315570129FDF439F3...|          null|                null|                null|  TopLevel|310ECD7D1E42216E3...|1614034231|793FBC88F56518467...|                   658|                    167|              false|                   1333571742|5FDA60A7E55F4663F...|                   105|                    489|              false|                   1443031284|                  false|                      null|                        null|                                     null|               1614077371|\n",
      "|[101, 137, 150, 2...|                null|D6157BB69296D05B4...|          null|                null|                null|  TopLevel|313ECD3A1E5BB0740...|1613705558|79B756400B1E124F1...|                  7367|                   7108|              false|                   1505548732|8449CE5E1BEF03CA3...|                   141|                    202|              false|                   1589794877|                   true|                      null|                        null|                                     null|               1613718314|\n",
      "|[101, 138, 11355,...|                null|099285B360FE32303...|          null|                null|                null|  TopLevel|E7F038DE3EAD397AE...|1613053274|946875D928F68BD2C...|                    68|                    194|              false|                   1504029913|82DAA5E45532FD128...|                   169|                      7|              false|                   1595649556|                   true|                      null|                        null|                                     null|               1613130926|\n",
      "|[101, 101270, 102...|                null|BE23EEBB3E29ACCEC...|          null|                null|                null|  TopLevel|488B32D24BD4BB441...|1613477626|A71BF9B2F6EE18561...|                    34|                    270|              false|                   1585097976|38B85D959CAB6FEF3...|                   148|                    345|              false|                   1579457839|                   true|                      null|                        null|                                     null|                     null|\n",
      "|[101, 56898, 137,...|                null|9E0CA5A60ACB27706...|          null|                null|                null|   Retweet|488B32D24BD4BB441...|1613924148|0B50DBCC401569012...|               1048230|                    963|               true|                   1304255737|916483D019EB57D3E...|                    92|                    417|              false|                   1607915839|                  false|                      null|                        null|                                     null|               1613925146|\n",
      "|[101, 10092, 108,...|[CE6C02348FF08059...|6C9855B129AFC8BCA...|          null|                null|                null|  TopLevel|E7F038DE3EAD397AE...|1613728800|535EF1757F9616768...|               3717218|                   7689|               true|                   1266454872|0557C158205BC7FEC...|                   350|                    352|              false|                   1579935308|                   true|                      null|                        null|                                     null|                     null|\n",
      "|[101, 56898, 137,...|                null|85EB0384B58BCE3B1...|          null|                null|                null|   Retweet|488B32D24BD4BB441...|1612892858|5E5361F77C48869C8...|                 20191|                    162|              false|                   1310837864|6517460C3232A4EEA...|                  1398|                   1780|              false|                   1313592013|                  false|                      null|                  1612892917|                                     null|               1612892914|\n",
      "|[101, 11162, 6282...|                null|F6B2EBFA513EA1822...|          null|                null|                null|  TopLevel|7F4FAB1EB12CD95ED...|1614016456|3A57976F454B27BFF...|                  1889|                   1395|              false|                   1370672137|77C71F5E59766AFCB...|                   313|                    760|              false|                   1428921371|                   true|                      null|                        null|                                     null|                     null|\n",
      "|[101, 17160, 1013...|                null|CC1A8F6A37528EBE3...|          null|                null|                null|  TopLevel|488B32D24BD4BB441...|1612404633|01CB83A9750DA6567...|                219269|                    145|               true|                   1480461174|38DFBE94C4B715E39...|                   157|                    434|              false|                   1447738043|                  false|                      null|                        null|                                     null|               1612408765|\n",
      "|[101, 1994, 15464...|[04CA24DA613CF137...|119FF101E727A9E43...|          null|[16B00719961CC890...|[112F9ABDB42A36A3...|  TopLevel|E7F038DE3EAD397AE...|1612594766|C0810769BAF1345CF...|                   317|                    320|              false|                   1542600754|81C873D8288B3B337...|                   599|                    586|              false|                   1304138502|                   true|                      null|                        null|                                     null|                     null|\n",
      "|[101, 56898, 137,...|                null|ADB48CA639949F9CA...|[Photo, Photo]|                null|                null|   Retweet|488B32D24BD4BB441...|1612715784|B92D7D83BCFCCF204...|                   269|                    373|              false|                   1589104732|004CC8FB964D5AC78...|                    67|                    104|              false|                   1583843590|                   true|                      null|                        null|                                     null|               1612739574|\n",
      "|[101, 199, 27512,...|[8B835F7982B0AF9D...|0EA8FE37F9B9B4DCB...|       [Photo]|                null|                null|  TopLevel|B0FA488F2911701DD...|1613605872|5F1351823471F1DA4...|                 26225|                     15|              false|                   1403819008|236E08C0EB4385FD6...|                   560|                    121|              false|                   1293993862|                  false|                      null|                        null|                                     null|                     null|\n",
      "|[101, 10377, 112,...|[56BA2006FAEF1E64...|AA298BF4EA2E2A606...|       [Photo]|[638B18EDBFEBEE97...|[F8241987757CE8D8...|  TopLevel|488B32D24BD4BB441...|1613156631|A440F3B61689EA355...|              11110772|                    450|               true|                   1179956283|95A83644096949907...|                  1863|                    753|              false|                   1341171502|                  false|                      null|                        null|                               1613167571|               1613167571|\n",
      "|[101, 119, 137, 8...|                null|67BBA7AE62CE57FA9...|       [Video]|[3D935BA5564631FE...|[424E880BEC0C2535...|  TopLevel|488B32D24BD4BB441...|1612984118|171170C99B029E54F...|               4360707|                    218|               true|                   1364657128|4922E55E7C0E5B689...|                   312|                    952|              false|                   1239763354|                  false|                      null|                        null|                                     null|               1613011430|\n",
      "|[101, 107, 12080,...|[B20D6D15C088EB6D...|D9F969AE81D535367...|       [Video]|                null|                null|  TopLevel|488B32D24BD4BB441...|1613931525|6A97A5DD44313E7D2...|               1454197|                     56|               true|                   1275503344|A4B8C6087BFF8CF20...|                   190|                    838|              false|                   1368379667|                  false|                      null|                        null|                                     null|               1613966518|\n",
      "|[101, 56898, 137,...|[36A45F7A4E2BD242...|92633779AA608A96D...|          null|                null|                null|   Retweet|E7F038DE3EAD397AE...|1612833026|E34F0B909D27D0909...|                  1435|                    643|              false|                   1540481205|A0A93B262FE29C287...|                   950|                   1320|              false|                   1527586196|                  false|                      null|                        null|                                     null|                     null|\n",
      "|[101, 15127, 2304...|                null|E2E4FB914129BA86E...|          null|                null|                null|  TopLevel|488B32D24BD4BB441...|1612639592|42462A47B66459EBC...|                  3343|                   2072|              false|                   1481683805|C2F4CB9E0F413FE37...|                    25|                    149|              false|                   1573588671|                  false|                      null|                        null|                                     null|                     null|\n",
      "+--------------------+--------------------+--------------------+--------------+--------------------+--------------------+----------+--------------------+----------+--------------------+----------------------+-----------------------+-------------------+-----------------------------+--------------------+----------------------+-----------------------+-------------------+-----------------------------+-----------------------+--------------------------+----------------------------+-----------------------------------------+-------------------------+\n",
      "only showing top 20 rows\n",
      "\n"
     ]
    }
   ],
   "source": [
    "#check if the data were accessed\n",
    "training_df.printSchema()\n",
    "training_df.show()"
   ]
  },
  {
   "cell_type": "code",
   "execution_count": 8,
   "metadata": {},
   "outputs": [],
   "source": [
    "#get the two parts of validation dataset\n",
    "validation_file_path = \"/media/user2/2.0 TB Hard Disk/validation_set/part-*\"\n",
    "#create dataframe with the validation dataset\n",
    "validation_df = spark.read.option(\"sep\", chr(1)).schema(schema).csv(validation_file_path)\n",
    "validation_df = validation_df.withColumn(\"text_tokens\", F.split(\"text_tokens\", \"\\t\"))\n",
    "validation_df = validation_df.withColumn(\"hashtags\", F.split(\"hashtags\", \"\\t\"))\n",
    "validation_df = validation_df.withColumn(\"present_media\", F.split(\"present_media\", \"\\t\"))\n",
    "validation_df = validation_df.withColumn(\"present_links\", F.split(\"present_links\", \"\\t\"))\n",
    "validation_df = validation_df.withColumn(\"present_domains\", F.split(\"present_domains\", \"\\t\"))"
   ]
  },
  {
   "cell_type": "code",
   "execution_count": 10,
   "metadata": {},
   "outputs": [
    {
     "data": {
      "text/plain": [
       "28542288"
      ]
     },
     "execution_count": 10,
     "metadata": {},
     "output_type": "execute_result"
    }
   ],
   "source": [
    "validation_df.count()"
   ]
  },
  {
   "cell_type": "code",
   "execution_count": 12,
   "metadata": {},
   "outputs": [
    {
     "ename": "AttributeError",
     "evalue": "'DataFrame' object has no attribute 'shape'",
     "output_type": "error",
     "traceback": [
      "\u001b[0;31m---------------------------------------------------------------------------\u001b[0m",
      "\u001b[0;31mAttributeError\u001b[0m                            Traceback (most recent call last)",
      "\u001b[0;32m<ipython-input-12-947d55bf415d>\u001b[0m in \u001b[0;36m<module>\u001b[0;34m\u001b[0m\n\u001b[0;32m----> 1\u001b[0;31m \u001b[0mvalidation_df\u001b[0m\u001b[0;34m.\u001b[0m\u001b[0mshape\u001b[0m\u001b[0;34m(\u001b[0m\u001b[0;34m)\u001b[0m\u001b[0;34m\u001b[0m\u001b[0;34m\u001b[0m\u001b[0m\n\u001b[0m",
      "\u001b[0;32m~/anaconda3/lib/python3.7/site-packages/pyspark/sql/dataframe.py\u001b[0m in \u001b[0;36m__getattr__\u001b[0;34m(self, name)\u001b[0m\n\u001b[1;32m   1642\u001b[0m         \u001b[0;32mif\u001b[0m \u001b[0mname\u001b[0m \u001b[0;32mnot\u001b[0m \u001b[0;32min\u001b[0m \u001b[0mself\u001b[0m\u001b[0;34m.\u001b[0m\u001b[0mcolumns\u001b[0m\u001b[0;34m:\u001b[0m\u001b[0;34m\u001b[0m\u001b[0;34m\u001b[0m\u001b[0m\n\u001b[1;32m   1643\u001b[0m             raise AttributeError(\n\u001b[0;32m-> 1644\u001b[0;31m                 \"'%s' object has no attribute '%s'\" % (self.__class__.__name__, name))\n\u001b[0m\u001b[1;32m   1645\u001b[0m         \u001b[0mjc\u001b[0m \u001b[0;34m=\u001b[0m \u001b[0mself\u001b[0m\u001b[0;34m.\u001b[0m\u001b[0m_jdf\u001b[0m\u001b[0;34m.\u001b[0m\u001b[0mapply\u001b[0m\u001b[0;34m(\u001b[0m\u001b[0mname\u001b[0m\u001b[0;34m)\u001b[0m\u001b[0;34m\u001b[0m\u001b[0;34m\u001b[0m\u001b[0m\n\u001b[1;32m   1646\u001b[0m         \u001b[0;32mreturn\u001b[0m \u001b[0mColumn\u001b[0m\u001b[0;34m(\u001b[0m\u001b[0mjc\u001b[0m\u001b[0;34m)\u001b[0m\u001b[0;34m\u001b[0m\u001b[0;34m\u001b[0m\u001b[0m\n",
      "\u001b[0;31mAttributeError\u001b[0m: 'DataFrame' object has no attribute 'shape'"
     ]
    }
   ],
   "source": [
    "validation_df.shape()"
   ]
  },
  {
   "cell_type": "code",
   "execution_count": 5,
   "metadata": {},
   "outputs": [
    {
     "name": "stdout",
     "output_type": "stream",
     "text": [
      "+---+----+------+-------+-----+---------+\n",
      "|day|hour|  like|retweet|reply|rtWithCmt|\n",
      "+---+----+------+-------+-----+---------+\n",
      "|  6|  20|529721| 107998|38741|     9261|\n",
      "|  6|   1|511769|  90560|36939|     8532|\n",
      "|  6|  22|483205|  86742|35584|     8262|\n",
      "|  6|  17|636809| 156873|43839|    11197|\n",
      "|  6|   0|520882|  89902|38853|     8634|\n",
      "|  6|   8|400494|  98522|24846|     5748|\n",
      "|  6|   5|483774| 107851|33925|     8158|\n",
      "|  6|  12|499336| 119836|31612|     7135|\n",
      "|  6|  13|548275| 133142|34866|     8463|\n",
      "|  6|  18|601059| 137363|42375|    10928|\n",
      "|  6|  21|502076|  94664|37084|     8805|\n",
      "|  6|  15|629292| 151085|41161|    10263|\n",
      "|  6|  23|494201|  85569|35624|     8265|\n",
      "|  6|   7|420749| 102307|27155|     6604|\n",
      "|  6|   3|469974|  95020|34461|     8035|\n",
      "|  6|   2|478809|  90184|35081|     8261|\n",
      "|  6|  10|426539| 103147|27238|     5900|\n",
      "|  6|  14|591084| 144201|38411|     9260|\n",
      "|  6|  11|457017| 109335|28836|     6458|\n",
      "|  6|  16|640920| 155022|42637|    10698|\n",
      "+---+----+------+-------+-----+---------+\n",
      "only showing top 20 rows\n",
      "\n"
     ]
    }
   ],
   "source": [
    "#observe the data\n",
    "# check empty engagements\n",
    "none_engagements = (F.col(\"reply_engagement_timestamp\").isNull() & F.col(\"retweet_engagement_timestamp\").isNull() & F.col(\"retweet_with_comment_engagement_timestamp\").isNull() & F.col(\"like_engagement_timestamp\").isNull())\n",
    "\n",
    "#engagee activity in the first 24 hours\n",
    "engagee_activity = training_df\\\n",
    ".filter(~none_engagements)\\\n",
    ".select(F.col(\"engagee_user_id\"), F.col(\"reply_engagement_timestamp\"), F.col(\"retweet_engagement_timestamp\"), F.col(\"retweet_with_comment_engagement_timestamp\"), F.col(\"like_engagement_timestamp\"))\\\n",
    ".withColumn(\"like_engagment\", F.when(~F.col(\"like_engagement_timestamp\").isNull(), F.array(F.col(\"like_engagement_timestamp\"), F.lit(\"like\"))))\\\n",
    ".withColumn(\"reply_engagment\", F.when(~F.col(\"reply_engagement_timestamp\").isNull(), F.array(F.col(\"reply_engagement_timestamp\"), F.lit(\"reply\"))))\\\n",
    ".withColumn(\"rt_engagment\", F.when(~F.col(\"retweet_engagement_timestamp\").isNull(), F.array(F.col(\"retweet_engagement_timestamp\"), F.lit(\"retweet\"))))\\\n",
    ".withColumn(\"rtwithcmt_engagment\", F.when(~F.col(\"retweet_with_comment_engagement_timestamp\").isNull(), F.array(F.col(\"retweet_with_comment_engagement_timestamp\"), F.lit(\"rtWithcmt\"))))\\\n",
    ".withColumn(\"engagment\", F.array(F.col(\"like_engagment\"), F.col(\"reply_engagment\"), F.col(\"rt_engagment\"), F.col(\"rtwithcmt_engagment\")))\\\n",
    ".drop(\"reply_engagement_timestamp\", \"retweet_engagement_timestamp\", \"retweet_with_comment_engagement_timestamp\", \"like_engagement_timestamp\", \"like_engagment\", \"reply_engagment\", \"rt_engagment\", \"rtwithcmt_engagment\")\\\n",
    ".select(F.col(\"engagee_user_id\"), F.explode(F.col(\"engagment\")))\\\n",
    ".filter(~F.col(\"col\").isNull())\\\n",
    ".select(F.col(\"engagee_user_id\"), F.col(\"col\")[0].alias(\"engage_timestamp\"), F.col(\"col\")[1].alias(\"engage_type\"))\\\n",
    ".withColumn(\"time\", F.to_timestamp(F.col(\"engage_timestamp\")+0))\\\n",
    ".withColumn(\"day\", F.dayofmonth(F.col(\"time\")))\\\n",
    ".withColumn(\"hour\", F.hour(F.col(\"time\")))\\\n",
    ".withColumn(\"minute\", F.minute(F.col(\"time\")))\\\n",
    ".filter(F.col(\"day\")==6)\n",
    "\n",
    "\n",
    "#display data\n",
    "(engagee_activity.groupBy(\"day\", \"hour\").agg(F.sum(F.when(F.col(\"engage_type\")==\"like\", 1).otherwise(0)).alias(\"like\"),F.sum(F.when(F.col(\"engage_type\")==\"retweet\", 1).otherwise(0)).alias(\"retweet\"),F.sum(F.when(F.col(\"engage_type\")==\"reply\", 1).otherwise(0)).alias(\"reply\"),F.sum(F.when(F.col(\"engage_type\")==\"rtWithcmt\", 1).otherwise(0)).alias(\"rtWithCmt\"))).show()"
   ]
  },
  {
   "cell_type": "code",
   "execution_count": 7,
   "metadata": {},
   "outputs": [
    {
     "data": {
      "image/png": "[encoded data removed]",
      "text/plain": [
       "<Figure size 432x288 with 1 Axes>"
      ]
     },
     "metadata": {
      "needs_background": "light"
     },
     "output_type": "display_data"
    }
   ],
   "source": [
    "#engager follower distribution\n",
    "users = training_df.dropDuplicates([\"engager_user_id\"]).select(\"engager_user_id\", \"engager_follower_count\", \"engager_following_count\", \"engager_is_verified\", \"engager_account_creation_time\")\n",
    "bins, counts = users.select(\"engager_follower_count\").rdd.flatMap(lambda x: x).histogram(1000000)\n",
    "#create plots\n",
    "fig, ax = plt.subplots()\n",
    "plt.plot(bins[:-1], counts,'--',label='degrees', linewidth=2)\n",
    "plt.xscale(\"log\")\n",
    "plt.yscale(\"log\")\n",
    "plt.xlabel(\"Number of follower\")\n",
    "plt.ylabel(\"frequency\")\n",
    "plt.title(\"Distribution of engager users based on follower count\")\n",
    "plt.show()"
   ]
  },
  {
   "cell_type": "code",
   "execution_count": 8,
   "metadata": {},
   "outputs": [
    {
     "data": {
      "image/png": "[encoded data removed]",
      "text/plain": [
       "<Figure size 432x288 with 1 Axes>"
      ]
     },
     "metadata": {
      "needs_background": "light"
     },
     "output_type": "display_data"
    }
   ],
   "source": [
    "#engager following distribution\n",
    "users = training_df.dropDuplicates([\"engager_user_id\"]).select(\"engager_user_id\", \"engager_follower_count\", \"engager_following_count\", \"engager_is_verified\", \"engager_account_creation_time\")\n",
    "bins, counts = users.select(\"engager_following_count\").rdd.flatMap(lambda x: x).histogram(1000000)\n",
    "#create plots\n",
    "fig, ax = plt.subplots()\n",
    "plt.plot(bins[:-1], counts,'--',label='degrees', linewidth=2)\n",
    "plt.plot(bins[1000:1130], counts[1000:1130],'-', linewidth=4)\n",
    "plt.xscale(\"log\")\n",
    "plt.yscale(\"log\")\n",
    "plt.xlabel(\"Number of following\")\n",
    "plt.ylabel(\"frequency\")\n",
    "plt.title(\"Distribution of engager users based on following count\")\n",
    "plt.show()"
   ]
  },
  {
   "cell_type": "code",
   "execution_count": 9,
   "metadata": {},
   "outputs": [
    {
     "data": {
      "image/png": "[encoded data removed]",
      "text/plain": [
       "<Figure size 432x288 with 1 Axes>"
      ]
     },
     "metadata": {
      "needs_background": "light"
     },
     "output_type": "display_data"
    }
   ],
   "source": [
    "#hashtag duration\n",
    "import matplotlib.ticker as ticker\n",
    "\n",
    "tweets = training_df.dropDuplicates([\"tweet_id\"])\n",
    "\n",
    "hashtagActivity = tweets\\\n",
    ".filter(~F.col(\"hashtags\").isNull())\\\n",
    ".select(F.explode(\"hashtags\").alias(\"hashtag\"), \"timestamp\")\n",
    "bins, counts = hashtagActivity\\\n",
    ".groupby(\"hashtag\").agg(F.min(\"timestamp\").alias(\"start_timestamp\"), (F.max(\"timestamp\") - F.min(\"timestamp\")).alias(\"duration\"), F.count(\"timestamp\").alias(\"cnt\"))\\\n",
    ".select(\"duration\").rdd.flatMap(lambda x: x).histogram(1000)\n",
    "\n",
    "fig, ax = plt.subplots()\n",
    "plt.plot(bins[:-1], counts,'--', linewidth=2)\n",
    "plt.yscale(\"log\")\n",
    "\n",
    "scale_x = 24*60*60\n",
    "scale_y = 1e3\n",
    "ticks_x = ticker.FuncFormatter(lambda x, pos: '{0:g}'.format(int(x/scale_x)))\n",
    "ax.xaxis.set_major_formatter(ticks_x)\n",
    "\n",
    "plt.xlabel(\"Duration (days)\")\n",
    "plt.ylabel(\"frequency (log)\")\n",
    "plt.title(\"Hashtag duration\")\n",
    "plt.show()"
   ]
  },
  {
   "cell_type": "code",
   "execution_count": 6,
   "metadata": {},
   "outputs": [],
   "source": [
    "training_df_writing_parquet = \"./parquet_files/training_df.parquet\"\n",
    "#training_df.repartition(1).write.mode('overwrite').parquet(training_df_writing_parquet)\n",
    "training_df.write.parquet('training_df.parquet')"
   ]
  },
  {
   "cell_type": "code",
   "execution_count": 6,
   "metadata": {},
   "outputs": [],
   "source": [
    "validation_df_writing_parquet = \"parquet_files/validation_df.parquet\"\n",
    "validation_df.write.parquet(validation_df_writing_parquet)"
   ]
  },
  {
   "cell_type": "code",
   "execution_count": null,
   "metadata": {},
   "outputs": [],
   "source": [
    "validation_df."
   ]
  }
 ],
 "metadata": {
  "kernelspec": {
   "display_name": "Python 3",
   "language": "python",
   "name": "python3"
  },
  "language_info": {
   "codemirror_mode": {
    "name": "ipython",
    "version": 3
   },
   "file_extension": ".py",
   "mimetype": "text/x-python",
   "name": "python",
   "nbconvert_exporter": "python",
   "pygments_lexer": "ipython3",
   "version": "3.8.5"
  }
 },
 "nbformat": 4,
 "nbformat_minor": 4
}

{
 "cells": [
  {
   "cell_type": "code",
   "execution_count": 1,
   "metadata": {},
   "outputs": [],
   "source": [
    "import pyspark\n",
    "from pyspark.sql import SQLContext\n",
    "from pyspark.sql import functions as F\n",
    "from pyspark.sql import types as T\n",
    "from pyspark.sql import Row\n",
    "from pyspark.sql.window import Window\n",
    "\n",
    "\n",
    "from pyspark import SparkContext\n",
    "\n",
    "SparkContext.setSystemProperty('spark.executor.memory', '16g')\n",
    "\n",
    "sc = SparkContext(\"local\", \"App Name\")\n",
    "spark = SQLContext(sc)"
   ]
  },
  {
   "cell_type": "code",
   "execution_count": 1,
   "metadata": {},
   "outputs": [],
   "source": [
    "import pyspark\n",
    "from pyspark import SparkContext\n",
    "from pyspark.sql import SQLContext\n",
    "from pyspark.sql import functions as F\n",
    "from pyspark.sql import types as T\n",
    "from pyspark.sql import Row\n",
    "from pyspark.sql.window import Window\n",
    "\n",
    "\n",
    "conf = pyspark.SparkConf()\n",
    "conf.setMaster(\"local\").setAppName(\"test\").set(\"spark.local.dir\", \"tmp/spark\")\n",
    "SparkContext.setSystemProperty('spark.driver.memory','16g')\n",
    "SparkContext.setSystemProperty('spark.executor.memory','16g')\n",
    "sc = pyspark.SparkContext(conf=conf)\n",
    "#SparkConf conf = new SparkConf().setMaster(\"local”).setAppName(\"test”).set(\"spark.local.dir\", \"/tmp/spark-temp\");\n",
    "\n",
    "#sc = SparkContext(\"local\", \"App Name\")\n",
    "spark = SQLContext(sc)"
   ]
  },
  {
   "cell_type": "code",
   "execution_count": 2,
   "metadata": {},
   "outputs": [],
   "source": [
    "from transformers import BertTokenizer\n",
    "tokenizer = BertTokenizer.from_pretrained('bert-base-multilingual-cased', do_lower_case=False)\n",
    "\n",
    "@F.udf(\"String\")\n",
    "def decode_tokens(tokens):\n",
    "  return tokenizer.decode(tokens)"
   ]
  },
  {
   "cell_type": "code",
   "execution_count": 3,
   "metadata": {},
   "outputs": [],
   "source": [
    "read_training_parquet = \"parquet_files/training_df.parquet\"\n",
    "training_df = spark.read.parquet(read_training_parquet)"
   ]
  },
  {
   "cell_type": "code",
   "execution_count": 4,
   "metadata": {},
   "outputs": [],
   "source": [
    "#prepare training dataset\n",
    "training_engager_user_df = training_df\\\n",
    ".dropDuplicates([\"engager_user_id\"])\\\n",
    ".select(\"engager_user_id\", \"engager_follower_count\", \"engager_following_count\", \"engager_is_verified\", \"engager_account_creation_time\")\\\n",
    ".withColumn(\"engager_is_verified\", F.col(\"engager_is_verified\").cast(T.IntegerType()))\\\n",
    ".withColumn(\"year_engager\", F.hour(F.to_timestamp(\"engager_account_creation_time\")))"
   ]
  },
  {
   "cell_type": "code",
   "execution_count": 5,
   "metadata": {},
   "outputs": [
    {
     "data": {
      "text/plain": [
       "24064181"
      ]
     },
     "execution_count": 5,
     "metadata": {},
     "output_type": "execute_result"
    }
   ],
   "source": [
    "training_engager_user_df.count()"
   ]
  },
  {
   "cell_type": "code",
   "execution_count": 5,
   "metadata": {},
   "outputs": [],
   "source": [
    "training_engager_user_df_parquet = (\"parquet_files/training_engager_user_df.parquet\")\n",
    "training_engager_user_df.write.parquet(training_engager_user_df_parquet)"
   ]
  },
  {
   "cell_type": "code",
   "execution_count": 6,
   "metadata": {},
   "outputs": [],
   "source": [
    "training_engagee_user_df = training_df\\\n",
    ".dropDuplicates([\"engagee_user_id\"])\\\n",
    ".select(\"engagee_user_id\", \"engagee_follower_count\", \"engagee_following_count\", \"engagee_is_verified\", \"engagee_account_creation_time\")\\\n",
    ".withColumn(\"engagee_is_verified\", F.col(\"engagee_is_verified\").cast(T.IntegerType()))\\\n",
    ".withColumn(\"year_engagee\", F.hour(F.to_timestamp(\"engagee_account_creation_time\")))"
   ]
  },
  {
   "cell_type": "code",
   "execution_count": 7,
   "metadata": {},
   "outputs": [
    {
     "data": {
      "text/plain": [
       "34287431"
      ]
     },
     "execution_count": 7,
     "metadata": {},
     "output_type": "execute_result"
    }
   ],
   "source": [
    "training_engagee_user_df.count()"
   ]
  },
  {
   "cell_type": "code",
   "execution_count": 7,
   "metadata": {},
   "outputs": [],
   "source": [
    "training_engagee_user_df_parquet = (\"parquet_files/training_engagee_user_df.parquet\")\n",
    "training_engagee_user_df.write.parquet(training_engagee_user_df_parquet)"
   ]
  },
  {
   "cell_type": "code",
   "execution_count": 8,
   "metadata": {},
   "outputs": [],
   "source": [
    "from pyspark.ml.feature import OneHotEncoder,VectorAssembler, StringIndexer, FeatureHasher, QuantileDiscretizer\n",
    "from pyspark.ml import Pipeline"
   ]
  },
  {
   "cell_type": "code",
   "execution_count": 9,
   "metadata": {},
   "outputs": [],
   "source": [
    "#engager features\n",
    "stages = []\n",
    "numericalColumns = [\"engager_follower_count\", \"engager_following_count\"]\n",
    "for numericalCol in numericalColumns:\n",
    "    qd = QuantileDiscretizer(numBuckets=50, handleInvalid=\"keep\", inputCol=numericalCol, outputCol=numericalCol + \"Bucket\")\n",
    "    encoder = OneHotEncoder(inputCols=[qd.getOutputCol()], outputCols=[numericalCol + \"classVec\"])\n",
    "    stages += [qd, encoder]\n",
    "\n",
    "categoricalColumns = [\"year_engager\", \"engager_is_verified\"]\n",
    "for categoricalCol in categoricalColumns:\n",
    "    stringIndexer = StringIndexer(inputCol=categoricalCol, outputCol=categoricalCol + \"Index\")\n",
    "    encoder = OneHotEncoder(inputCols=[stringIndexer.getOutputCol()], outputCols=[categoricalCol + \"classVec\"])\n",
    "    stages += [stringIndexer, encoder]\n",
    "\n",
    "\n",
    "featInputs = [c + \"Bucket\" for c in numericalColumns]\n",
    "featInputs += [\"year_engagerIndex\", \"engager_is_verifiedIndex\"]\n",
    "stages += [FeatureHasher(numFeatures=16, inputCols=featInputs, outputCol=\"engager_features\", categoricalCols=featInputs)]\n",
    "\n",
    "\n",
    "engager_user_features = Pipeline(stages=stages).fit(training_engager_user_df)\n",
    "#engager_user_features.transform(training_engager_user_df).select(\"engager_user_id\", \"engager_features\").show()\n",
    "    "
   ]
  },
  {
   "cell_type": "code",
   "execution_count": 10,
   "metadata": {},
   "outputs": [],
   "source": [
    "#engagee features \n",
    "\n",
    "stages = []\n",
    "numericalColumns = [\"engagee_follower_count\", \"engagee_following_count\"]\n",
    "for numericalCol in numericalColumns:\n",
    "    qd = QuantileDiscretizer(numBuckets=50, handleInvalid=\"keep\", inputCol=numericalCol, outputCol=numericalCol + \"Bucket\")\n",
    "    encoder = OneHotEncoder(inputCols=[qd.getOutputCol()], outputCols=[numericalCol + \"classVec\"])\n",
    "    stages += [qd, encoder]\n",
    "\n",
    "categoricalColumns = [\"year_engagee\", \"engagee_is_verified\"]\n",
    "for categoricalCol in categoricalColumns:\n",
    "    stringIndexer = StringIndexer(inputCol=categoricalCol, outputCol=categoricalCol + \"Index\")\n",
    "    encoder = OneHotEncoder(inputCols=[stringIndexer.getOutputCol()], outputCols=[categoricalCol + \"classVec\"])\n",
    "    stages += [stringIndexer, encoder]\n",
    "\n",
    "featInputs = [c + \"Bucket\" for c in numericalColumns]\n",
    "featInputs += [\"year_engageeIndex\", \"engagee_is_verifiedIndex\"]\n",
    "stages += [FeatureHasher(numFeatures=16, inputCols=featInputs, outputCol=\"engagee_features\", categoricalCols=featInputs)]\n",
    "\n",
    "\n",
    "engagee_user_features = Pipeline(stages=stages).fit(training_engagee_user_df)\n",
    "\n",
    "    "
   ]
  },
  {
   "cell_type": "code",
   "execution_count": 13,
   "metadata": {},
   "outputs": [
    {
     "name": "stdout",
     "output_type": "stream",
     "text": [
      "+--------------------+----------------------+-----------------------+-------------------+-----------------------------+------------+----------------------------+------------------------------+-----------------------------+-------------------------------+-----------------+--------------------+------------------------+---------------------------+--------------------+\n",
      "|     engagee_user_id|engagee_follower_count|engagee_following_count|engagee_is_verified|engagee_account_creation_time|year_engagee|engagee_follower_countBucket|engagee_follower_countclassVec|engagee_following_countBucket|engagee_following_countclassVec|year_engageeIndex|year_engageeclassVec|engagee_is_verifiedIndex|engagee_is_verifiedclassVec|    engagee_features|\n",
      "+--------------------+----------------------+-----------------------+-------------------+-----------------------------+------------+----------------------------+------------------------------+-----------------------------+-------------------------------+-----------------+--------------------+------------------------+---------------------------+--------------------+\n",
      "|C4E9315C9956CAEC9...|                    65|                    398|                  0|                   1591054491|           2|                        14.0|               (49,[14],[1.0])|                         29.0|                (49,[29],[1.0])|             13.0|     (23,[13],[1.0])|                     0.0|              (1,[0],[1.0])|(16,[3,7,12],[2.0...|\n",
      "|880C861C8449A4A9C...|                   132|                    970|                  0|                   1245535478|           1|                        21.0|               (49,[21],[1.0])|                         41.0|                (49,[41],[1.0])|             11.0|     (23,[11],[1.0])|                     0.0|              (1,[0],[1.0])|(16,[4,6,7,8],[1....|\n",
      "|127EEB73BAC729A2A...|                   191|                    310|                  0|                   1541608516|          18|                        25.0|               (49,[25],[1.0])|                         25.0|                (49,[25],[1.0])|              1.0|      (23,[1],[1.0])|                     0.0|              (1,[0],[1.0])|(16,[3,6,7,12],[1...|\n",
      "|EFED4465664119106...|                   366|                    347|                  0|                   1465072842|          23|                        33.0|               (49,[33],[1.0])|                         27.0|                (49,[27],[1.0])|              8.0|      (23,[8],[1.0])|                     0.0|              (1,[0],[1.0])|(16,[3,4,7,8],[1....|\n",
      "|37C41409E5213F716...|                    25|                     68|                  0|                   1537626904|          17|                         7.0|                (49,[7],[1.0])|                          5.0|                 (49,[5],[1.0])|              0.0|      (23,[0],[1.0])|                     0.0|              (1,[0],[1.0])|(16,[0,7,9,12],[1...|\n",
      "|8F665AD9A46947C5F...|                   216|                    241|                  0|                   1597447210|           2|                        27.0|               (49,[27],[1.0])|                         21.0|                (49,[21],[1.0])|             13.0|     (23,[13],[1.0])|                     0.0|              (1,[0],[1.0])|(16,[3,7,8,9],[1....|\n",
      "|DA17A1B147249FD2F...|                   157|                     92|                  0|                   1569857415|          18|                        23.0|               (49,[23],[1.0])|                          8.0|                 (49,[8],[1.0])|              1.0|      (23,[1],[1.0])|                     0.0|              (1,[0],[1.0])|(16,[0,3,7,12],[1...|\n",
      "|667DE694F30B72957...|                   548|                   1481|                  0|                   1205202528|           4|                        38.0|               (49,[38],[1.0])|                         45.0|                (49,[45],[1.0])|             12.0|     (23,[12],[1.0])|                     0.0|              (1,[0],[1.0])|(16,[1,2,7,10],[1...|\n",
      "|14990694F6D629998...|                   361|                    854|                  0|                   1531488407|          16|                        33.0|               (49,[33],[1.0])|                         40.0|                (49,[40],[1.0])|              2.0|      (23,[2],[1.0])|                     0.0|              (1,[0],[1.0])|(16,[3,7,11],[1.0...|\n",
      "|C5100BD30288E9F34...|                    34|                     31|                  0|                   1449027902|           5|                         9.0|                (49,[9],[1.0])|                          1.0|                 (49,[1],[1.0])|             15.0|     (23,[15],[1.0])|                     0.0|              (1,[0],[1.0])|(16,[6,7,9,13],[1...|\n",
      "|469307080B5692834...|                  4076|                   5000|                  0|                   1477886452|           6|                        48.0|               (49,[48],[1.0])|                         49.0|                     (49,[],[])|             17.0|     (23,[17],[1.0])|                     0.0|              (1,[0],[1.0])|(16,[6,7,11,15],[...|\n",
      "|B0608710294F9F4B6...|                   354|                   2654|                  0|                   1491018437|           6|                        33.0|               (49,[33],[1.0])|                         47.0|                (49,[47],[1.0])|             17.0|     (23,[17],[1.0])|                     0.0|              (1,[0],[1.0])|(16,[3,7,11],[2.0...|\n",
      "|EC211197CC84E03E3...|                   115|                   1251|                  0|                   1574824775|           5|                        19.0|               (49,[19],[1.0])|                         44.0|                (49,[44],[1.0])|             15.0|     (23,[15],[1.0])|                     0.0|              (1,[0],[1.0])|(16,[4,6,7,8],[1....|\n",
      "|38AC95C2CCA52D0F1...|                   191|                    205|                  0|                   1571320092|          16|                        25.0|               (49,[25],[1.0])|                         18.0|                (49,[18],[1.0])|              2.0|      (23,[2],[1.0])|                     0.0|              (1,[0],[1.0])|(16,[7,11,12],[1....|\n",
      "|5AE924028872AF9BE...|                   764|                    945|                  0|                   1267304328|          22|                        41.0|               (49,[41],[1.0])|                         41.0|                (49,[41],[1.0])|              7.0|      (23,[7],[1.0])|                     0.0|              (1,[0],[1.0])|(16,[6,7,12],[1.0...|\n",
      "|1EC5C02E54530C663...|                   103|                    596|                  0|                   1497581104|           5|                        18.0|               (49,[18],[1.0])|                         35.0|                (49,[35],[1.0])|             15.0|     (23,[15],[1.0])|                     0.0|              (1,[0],[1.0])|(16,[3,6,7,15],[1...|\n",
      "|3591481B47D038B71...|                    64|                    680|                  0|                   1547685538|           2|                        13.0|               (49,[13],[1.0])|                         37.0|                (49,[37],[1.0])|             13.0|     (23,[13],[1.0])|                     0.0|              (1,[0],[1.0])|(16,[3,6,7],[1.0,...|\n",
      "|C3D1A08D788FE4A3B...|                   683|                    693|                  0|                   1586443515|          17|                        40.0|               (49,[40],[1.0])|                         37.0|                (49,[37],[1.0])|              0.0|      (23,[0],[1.0])|                     0.0|              (1,[0],[1.0])|(16,[1,6,7,9],[1....|\n",
      "|C5760EF8AC6507D14...|                   160|                    558|                  0|                   1509555831|          19|                        23.0|               (49,[23],[1.0])|                         34.0|                (49,[34],[1.0])|              3.0|      (23,[3],[1.0])|                     0.0|              (1,[0],[1.0])|(16,[7,9,12],[1.0...|\n",
      "|5E1416D20A4E2A047...|                    89|                    420|                  0|                   1569147279|          13|                        17.0|               (49,[17],[1.0])|                         30.0|                (49,[30],[1.0])|             16.0|     (23,[16],[1.0])|                     0.0|              (1,[0],[1.0])|(16,[7,10,12,13],...|\n",
      "+--------------------+----------------------+-----------------------+-------------------+-----------------------------+------------+----------------------------+------------------------------+-----------------------------+-------------------------------+-----------------+--------------------+------------------------+---------------------------+--------------------+\n",
      "only showing top 20 rows\n",
      "\n"
     ]
    }
   ],
   "source": [
    "engagee_user_features.transform(training_engagee_user_df).show()"
   ]
  },
  {
   "cell_type": "code",
   "execution_count": 11,
   "metadata": {},
   "outputs": [],
   "source": [
    "#save feature models in drive\n",
    "engager_user_features.save(\"models/create_engager_user_features.model\")\n",
    "engagee_user_features.save(\"models/create_engagee_user_features.model\")"
   ]
  },
  {
   "cell_type": "code",
   "execution_count": 12,
   "metadata": {},
   "outputs": [
    {
     "name": "stdout",
     "output_type": "stream",
     "text": [
      "+--------------------+----------------------+-----------------------+-------------------+-----------------------------+------------+----------------------------+------------------------------+-----------------------------+-------------------------------+-----------------+--------------------+------------------------+---------------------------+--------------------+\n",
      "|     engagee_user_id|engagee_follower_count|engagee_following_count|engagee_is_verified|engagee_account_creation_time|year_engagee|engagee_follower_countBucket|engagee_follower_countclassVec|engagee_following_countBucket|engagee_following_countclassVec|year_engageeIndex|year_engageeclassVec|engagee_is_verifiedIndex|engagee_is_verifiedclassVec|    engagee_features|\n",
      "+--------------------+----------------------+-----------------------+-------------------+-----------------------------+------------+----------------------------+------------------------------+-----------------------------+-------------------------------+-----------------+--------------------+------------------------+---------------------------+--------------------+\n",
      "|C4E9315C9956CAEC9...|                    65|                    398|                  0|                   1591054491|           2|                        19.0|               (49,[19],[1.0])|                         33.0|                (49,[33],[1.0])|             13.0|     (23,[13],[1.0])|                     0.0|              (1,[0],[1.0])|(16,[1,3,7,8],[1....|\n",
      "|880C861C8449A4A9C...|                   132|                    970|                  0|                   1245535478|           1|                        26.0|               (49,[26],[1.0])|                         44.0|                (49,[44],[1.0])|             10.0|     (23,[10],[1.0])|                     0.0|              (1,[0],[1.0])|(16,[4,7,12,13],[...|\n",
      "|127EEB73BAC729A2A...|                   191|                    310|                  0|                   1541608516|          18|                        30.0|               (49,[30],[1.0])|                         29.0|                (49,[29],[1.0])|              1.0|      (23,[1],[1.0])|                     0.0|              (1,[0],[1.0])|(16,[3,7,12],[1.0...|\n",
      "|EFED4465664119106...|                   366|                    347|                  0|                   1465072842|          23|                        37.0|               (49,[37],[1.0])|                         31.0|                (49,[31],[1.0])|              8.0|      (23,[8],[1.0])|                     0.0|              (1,[0],[1.0])|(16,[0,7,8,14],[1...|\n",
      "|37C41409E5213F716...|                    25|                     68|                  0|                   1537626904|          17|                        12.0|               (49,[12],[1.0])|                          8.0|                 (49,[8],[1.0])|              0.0|      (23,[0],[1.0])|                     0.0|              (1,[0],[1.0])|(16,[0,5,7,9],[1....|\n",
      "|8F665AD9A46947C5F...|                   216|                    241|                  0|                   1597447210|           2|                        32.0|               (49,[32],[1.0])|                         25.0|                (49,[25],[1.0])|             13.0|     (23,[13],[1.0])|                     0.0|              (1,[0],[1.0])|(16,[3,6,7,12],[1...|\n",
      "|DA17A1B147249FD2F...|                   157|                     92|                  0|                   1569857415|          18|                        28.0|               (49,[28],[1.0])|                         12.0|                (49,[12],[1.0])|              1.0|      (23,[1],[1.0])|                     0.0|              (1,[0],[1.0])|(16,[3,6,7,10],[1...|\n",
      "|667DE694F30B72957...|                   548|                   1481|                  0|                   1205202528|           4|                        41.0|               (49,[41],[1.0])|                         46.0|                (49,[46],[1.0])|             12.0|     (23,[12],[1.0])|                     0.0|              (1,[0],[1.0])|(16,[2,6,7,12],[1...|\n",
      "|14990694F6D629998...|                   361|                    854|                  0|                   1531488407|          16|                        37.0|               (49,[37],[1.0])|                         43.0|                (49,[43],[1.0])|              2.0|      (23,[2],[1.0])|                     0.0|              (1,[0],[1.0])|(16,[7,11,14],[2....|\n",
      "|C5100BD30288E9F34...|                    34|                     31|                  0|                   1449027902|           5|                        14.0|               (49,[14],[1.0])|                          3.0|                 (49,[3],[1.0])|             15.0|     (23,[15],[1.0])|                     0.0|              (1,[0],[1.0])|(16,[3,6,7,11],[1...|\n",
      "|469307080B5692834...|                  4076|                   5000|                  0|                   1477886452|           6|                        49.0|                    (49,[],[])|                         49.0|                     (49,[],[])|             16.0|     (23,[16],[1.0])|                     0.0|              (1,[0],[1.0])|(16,[6,7,10,11],[...|\n",
      "|B0608710294F9F4B6...|                   354|                   2654|                  0|                   1491018437|           6|                        37.0|               (49,[37],[1.0])|                         48.0|                (49,[48],[1.0])|             16.0|     (23,[16],[1.0])|                     0.0|              (1,[0],[1.0])|(16,[4,7,10,14],[...|\n",
      "|EC211197CC84E03E3...|                   115|                   1251|                  0|                   1574824775|           5|                        25.0|               (49,[25],[1.0])|                         45.0|                (49,[45],[1.0])|             15.0|     (23,[15],[1.0])|                     0.0|              (1,[0],[1.0])|(16,[1,6,7,12],[1...|\n",
      "|38AC95C2CCA52D0F1...|                   191|                    205|                  0|                   1571320092|          16|                        30.0|               (49,[30],[1.0])|                         23.0|                (49,[23],[1.0])|              2.0|      (23,[2],[1.0])|                     0.0|              (1,[0],[1.0])|(16,[3,7,11],[1.0...|\n",
      "|5AE924028872AF9BE...|                   764|                    945|                  0|                   1267304328|          22|                        43.0|               (49,[43],[1.0])|                         44.0|                (49,[44],[1.0])|              7.0|      (23,[7],[1.0])|                     0.0|              (1,[0],[1.0])|(16,[4,6,7],[1.0,...|\n",
      "|1EC5C02E54530C663...|                   103|                    596|                  0|                   1497581104|           5|                        24.0|               (49,[24],[1.0])|                         39.0|                (49,[39],[1.0])|             15.0|     (23,[15],[1.0])|                     0.0|              (1,[0],[1.0])|(16,[0,6,7,13],[1...|\n",
      "|3591481B47D038B71...|                    64|                    680|                  0|                   1547685538|           2|                        19.0|               (49,[19],[1.0])|                         40.0|                (49,[40],[1.0])|             13.0|     (23,[13],[1.0])|                     0.0|              (1,[0],[1.0])|(16,[3,7,8,11],[1...|\n",
      "|C3D1A08D788FE4A3B...|                   683|                    693|                  0|                   1586443515|          17|                        42.0|               (49,[42],[1.0])|                         41.0|                (49,[41],[1.0])|              0.0|      (23,[0],[1.0])|                     0.0|              (1,[0],[1.0])|(16,[6,7,9,14],[1...|\n",
      "|C5760EF8AC6507D14...|                   160|                    558|                  0|                   1509555831|          19|                        28.0|               (49,[28],[1.0])|                         38.0|                (49,[38],[1.0])|              3.0|      (23,[3],[1.0])|                     0.0|              (1,[0],[1.0])|(16,[6,7,12,15],[...|\n",
      "|5E1416D20A4E2A047...|                    89|                    420|                  0|                   1569147279|          13|                        22.0|               (49,[22],[1.0])|                         34.0|                (49,[34],[1.0])|             17.0|     (23,[17],[1.0])|                     0.0|              (1,[0],[1.0])|(16,[1,7,9,11],[1...|\n",
      "+--------------------+----------------------+-----------------------+-------------------+-----------------------------+------------+----------------------------+------------------------------+-----------------------------+-------------------------------+-----------------+--------------------+------------------------+---------------------------+--------------------+\n",
      "only showing top 20 rows\n",
      "\n"
     ]
    }
   ],
   "source": [
    "engagee_user_features.transform(training_engagee_user_df).show()"
   ]
  },
  {
   "cell_type": "code",
   "execution_count": 8,
   "metadata": {},
   "outputs": [],
   "source": [
    "#read validation_dataset\n",
    "read_validation_parquet = \"parquet_files/validation_df.parquet\"\n",
    "validation_df =spark.read.parquet(read_validation_parquet)"
   ]
  },
  {
   "cell_type": "code",
   "execution_count": 9,
   "metadata": {},
   "outputs": [
    {
     "name": "stdout",
     "output_type": "stream",
     "text": [
      "3527270\n",
      "6101247\n"
     ]
    }
   ],
   "source": [
    "validation_engager_user_df = validation_df\\\n",
    ".dropDuplicates([\"engager_user_id\"])\\\n",
    ".select(\"engager_user_id\", \"engager_follower_count\", \"engager_following_count\", \"engager_is_verified\", \"engager_account_creation_time\")\\\n",
    ".withColumn(\"engager_is_verified\", F.col(\"engager_is_verified\").cast(T.IntegerType()))\\\n",
    ".withColumn(\"year_engager\", F.hour(F.to_timestamp(\"engager_account_creation_time\")))\n",
    "print(validation_engager_user_df.count())\n",
    "#validation_engager_user_df.write.parquet(\"/media/user2/2.0 TB Hard Disk/parquet_files/validation_engager_user_df.parquet\")\n",
    "\n",
    "validation_engagee_user_df = validation_df\\\n",
    ".dropDuplicates([\"engagee_user_id\"])\\\n",
    ".select(\"engagee_user_id\", \"engagee_follower_count\", \"engagee_following_count\", \"engagee_is_verified\", \"engagee_account_creation_time\")\\\n",
    ".withColumn(\"engagee_is_verified\", F.col(\"engagee_is_verified\").cast(T.IntegerType()))\\\n",
    ".withColumn(\"year_engagee\", F.hour(F.to_timestamp(\"engagee_account_creation_time\")))\n",
    "print(validation_engagee_user_df.count())\n",
    "\n",
    "#validation_engagee_user_df.write.parquet(\"/media/user2/2.0 TB Hard Disk/parquet_files/validation_engagee_user_df.parquet\")"
   ]
  },
  {
   "cell_type": "code",
   "execution_count": null,
   "metadata": {},
   "outputs": [],
   "source": []
  }
 ],
 "metadata": {
  "kernelspec": {
   "display_name": "Python 3",
   "language": "python",
   "name": "python3"
  },
  "language_info": {
   "codemirror_mode": {
    "name": "ipython",
    "version": 3
   },
   "file_extension": ".py",
   "mimetype": "text/x-python",
   "name": "python",
   "nbconvert_exporter": "python",
   "pygments_lexer": "ipython3",
   "version": "3.8.5"
  }
 },
 "nbformat": 4,
 "nbformat_minor": 4
}
